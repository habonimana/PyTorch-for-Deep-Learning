{
 "cells": [
  {
   "cell_type": "markdown",
   "id": "cd1b3e5f-b260-44d9-bc82-9bea30a720eb",
   "metadata": {},
   "source": [
    "## 00. Pytorch Fundamentals\n",
    "\n",
    "*   List item\n",
    "*   List item\n",
    "\n",
    "\n",
    "Resource notebook: https://github.com/mrdbourke/pytorch-deep-learning/blob/main/00_pytorch_fundamentals.ipynb\n",
    "\n",
    "questions: https://github.com/mrdbourke/pytorch-deep-learning/discussions"
   ]
  },
  {
   "cell_type": "code",
   "execution_count": 1,
   "id": "f1b69466-36fc-4887-946d-d7cc1828c85e",
   "metadata": {},
   "outputs": [
    {
     "name": "stdout",
     "output_type": "stream",
     "text": [
      "2.3.0+cpu\n"
     ]
    }
   ],
   "source": [
    "import torch\n",
    "import pandas as pd\n",
    "import numpy as np\n",
    "import matplotlib.pyplot as plt\n",
    "print(torch.__version__)"
   ]
  },
  {
   "cell_type": "code",
   "execution_count": 2,
   "id": "9c2a29b4-90cd-45c6-b131-3bec14c4f855",
   "metadata": {},
   "outputs": [
    {
     "data": {
      "text/plain": [
       "3"
      ]
     },
     "execution_count": 2,
     "metadata": {},
     "output_type": "execute_result"
    }
   ],
   "source": [
    "TENSOR = torch.tensor([[[1,2,3,9],\n",
    "                        [3,6,9,9],\n",
    "                        [2,4,5,9],\n",
    "                        [1,2,3,4]],\n",
    "                       [[1,2,3,9],\n",
    "                        [3,6,9,9],\n",
    "                        [2,4,5,9],\n",
    "                        [1,2,3,4]]\n",
    "                       ])\n",
    "TENSOR.ndim"
   ]
  },
  {
   "cell_type": "markdown",
   "id": "9f3cb70d",
   "metadata": {},
   "source": [
    "# Random Tensors\n",
    "` start with random numbers -> look at data -> update random -> look at data -> update random`"
   ]
  },
  {
   "cell_type": "code",
   "execution_count": 3,
   "id": "6b8c373d",
   "metadata": {},
   "outputs": [
    {
     "data": {
      "text/plain": [
       "tensor([[0.0639, 0.6467, 0.4558, 0.3272],\n",
       "        [0.1606, 0.1188, 0.6239, 0.2368],\n",
       "        [0.9988, 0.7718, 0.4687, 0.8601]])"
      ]
     },
     "execution_count": 3,
     "metadata": {},
     "output_type": "execute_result"
    }
   ],
   "source": [
    "# create a random tensor\n",
    "random_tensor = torch.rand(3,4)\n",
    "random_tensor"
   ]
  },
  {
   "cell_type": "code",
   "execution_count": 4,
   "id": "93547bcd",
   "metadata": {},
   "outputs": [
    {
     "data": {
      "text/plain": [
       "2"
      ]
     },
     "execution_count": 4,
     "metadata": {},
     "output_type": "execute_result"
    }
   ],
   "source": [
    "random_tensor.ndim"
   ]
  },
  {
   "cell_type": "code",
   "execution_count": 5,
   "id": "73386c88",
   "metadata": {},
   "outputs": [
    {
     "data": {
      "text/plain": [
       "tensor([[[0.4646, 0.0029, 0.9786,  ..., 0.7006, 0.0206, 0.6328],\n",
       "         [0.6992, 0.1086, 0.3773,  ..., 0.0592, 0.8155, 0.9365],\n",
       "         [0.2723, 0.5470, 0.9301,  ..., 0.3738, 0.6652, 0.6170],\n",
       "         ...,\n",
       "         [0.3874, 0.0771, 0.0621,  ..., 0.6846, 0.5817, 0.6811],\n",
       "         [0.3518, 0.9911, 0.0362,  ..., 0.3819, 0.2832, 0.9826],\n",
       "         [0.0078, 0.0059, 0.3994,  ..., 0.2093, 0.8883, 0.6188]],\n",
       "\n",
       "        [[0.6150, 0.4674, 0.5975,  ..., 0.2129, 0.9226, 0.1852],\n",
       "         [0.6208, 0.6206, 0.3449,  ..., 0.1432, 0.5768, 0.6172],\n",
       "         [0.8436, 0.7101, 0.7763,  ..., 0.7742, 0.7733, 0.8994],\n",
       "         ...,\n",
       "         [0.9336, 0.4151, 0.8448,  ..., 0.3895, 0.4233, 0.3559],\n",
       "         [0.6839, 0.6344, 0.3420,  ..., 0.6645, 0.2622, 0.1120],\n",
       "         [0.3766, 0.1781, 0.1342,  ..., 0.8150, 0.4322, 0.6180]],\n",
       "\n",
       "        [[0.3096, 0.2852, 0.9105,  ..., 0.0069, 0.3824, 0.7778],\n",
       "         [0.4910, 0.2235, 0.3913,  ..., 0.4827, 0.4706, 0.8944],\n",
       "         [0.0285, 0.2022, 0.0770,  ..., 0.5472, 0.9731, 0.6785],\n",
       "         ...,\n",
       "         [0.0754, 0.8384, 0.1049,  ..., 0.9035, 0.6004, 0.1606],\n",
       "         [0.4527, 0.3261, 0.5509,  ..., 0.6275, 0.2626, 0.1780],\n",
       "         [0.2143, 0.2102, 0.9638,  ..., 0.5204, 0.4863, 0.0107]]])"
      ]
     },
     "execution_count": 5,
     "metadata": {},
     "output_type": "execute_result"
    }
   ],
   "source": [
    "# Create a random tensor with similar shape to an image\n",
    "random_image_size_tensor = torch.rand(size=(3, 244, 244))\n",
    "random_image_size_tensor"
   ]
  },
  {
   "cell_type": "code",
   "execution_count": 6,
   "id": "4bd9f2f4",
   "metadata": {},
   "outputs": [
    {
     "data": {
      "text/plain": [
       "(3, torch.Size([3, 244, 244]))"
      ]
     },
     "execution_count": 6,
     "metadata": {},
     "output_type": "execute_result"
    }
   ],
   "source": [
    "random_image_size_tensor.ndim, random_image_size_tensor.shape"
   ]
  },
  {
   "cell_type": "markdown",
   "id": "5d2c1e2d",
   "metadata": {},
   "source": [
    "# Zeros and Ones \n",
    "useful for masks"
   ]
  },
  {
   "cell_type": "code",
   "execution_count": 7,
   "id": "47819971",
   "metadata": {},
   "outputs": [
    {
     "data": {
      "text/plain": [
       "tensor([[0., 0., 0., 0.],\n",
       "        [0., 0., 0., 0.],\n",
       "        [0., 0., 0., 0.]])"
      ]
     },
     "execution_count": 7,
     "metadata": {},
     "output_type": "execute_result"
    }
   ],
   "source": [
    "# Create a tensor for all zeros\n",
    "zeros = torch.zeros(3,4)\n",
    "zeros"
   ]
  },
  {
   "cell_type": "code",
   "execution_count": 8,
   "id": "598173a4",
   "metadata": {},
   "outputs": [
    {
     "data": {
      "text/plain": [
       "tensor([[0., 0., 0., 0.],\n",
       "        [0., 0., 0., 0.],\n",
       "        [0., 0., 0., 0.]])"
      ]
     },
     "execution_count": 8,
     "metadata": {},
     "output_type": "execute_result"
    }
   ],
   "source": [
    "zeros* torch.rand(3,4)"
   ]
  },
  {
   "cell_type": "code",
   "execution_count": 9,
   "id": "2d9321b4",
   "metadata": {},
   "outputs": [
    {
     "data": {
      "text/plain": [
       "tensor([[[1., 1., 1., 1.],\n",
       "         [1., 1., 1., 1.],\n",
       "         [1., 1., 1., 1.],\n",
       "         [1., 1., 1., 1.]]])"
      ]
     },
     "execution_count": 9,
     "metadata": {},
     "output_type": "execute_result"
    }
   ],
   "source": [
    "# Ones\n",
    "ones = torch.ones(1,4,4)\n",
    "ones"
   ]
  },
  {
   "cell_type": "code",
   "execution_count": 10,
   "id": "14bba531",
   "metadata": {},
   "outputs": [
    {
     "data": {
      "text/plain": [
       "tensor([[[1.],\n",
       "         [1.],\n",
       "         [1.],\n",
       "         [1.]],\n",
       "\n",
       "        [[1.],\n",
       "         [1.],\n",
       "         [1.],\n",
       "         [1.]],\n",
       "\n",
       "        [[1.],\n",
       "         [1.],\n",
       "         [1.],\n",
       "         [1.]],\n",
       "\n",
       "        [[1.],\n",
       "         [1.],\n",
       "         [1.],\n",
       "         [1.]]])"
      ]
     },
     "execution_count": 10,
     "metadata": {},
     "output_type": "execute_result"
    }
   ],
   "source": [
    "# Ones\n",
    "ones = torch.ones(4,4,1)\n",
    "ones"
   ]
  },
  {
   "cell_type": "code",
   "execution_count": 11,
   "id": "a0643fd8",
   "metadata": {},
   "outputs": [
    {
     "data": {
      "text/plain": [
       "(torch.float32, torch.float32)"
      ]
     },
     "execution_count": 11,
     "metadata": {},
     "output_type": "execute_result"
    }
   ],
   "source": [
    "ones.dtype, zeros.dtype"
   ]
  },
  {
   "cell_type": "markdown",
   "id": "dc220ede",
   "metadata": {},
   "source": [
    "# Creating a range of tensors and tensors-like"
   ]
  },
  {
   "cell_type": "code",
   "execution_count": 12,
   "id": "30031e8a",
   "metadata": {},
   "outputs": [
    {
     "data": {
      "text/plain": [
       "tensor([  1,  51, 101, 151, 201, 251, 301, 351, 401, 451])"
      ]
     },
     "execution_count": 12,
     "metadata": {},
     "output_type": "execute_result"
    }
   ],
   "source": [
    "# \n",
    "ranges = torch.arange(start=1,end=500, step =  50)\n",
    "ranges"
   ]
  },
  {
   "cell_type": "code",
   "execution_count": 13,
   "id": "59303a12",
   "metadata": {},
   "outputs": [
    {
     "data": {
      "text/plain": [
       "tensor([0, 0, 0, 0, 0, 0, 0, 0, 0, 0])"
      ]
     },
     "execution_count": 13,
     "metadata": {},
     "output_type": "execute_result"
    }
   ],
   "source": [
    "# Creating tensors like\n",
    "zeros_like_ranges = torch.zeros_like(input=ranges)\n",
    "zeros_like_ranges"
   ]
  },
  {
   "cell_type": "markdown",
   "id": "2b6bb59f",
   "metadata": {},
   "source": [
    "# Tensor Datatype"
   ]
  },
  {
   "cell_type": "code",
   "execution_count": 14,
   "id": "d8f44bc6",
   "metadata": {},
   "outputs": [
    {
     "data": {
      "text/plain": [
       "torch.float32"
      ]
     },
     "execution_count": 14,
     "metadata": {},
     "output_type": "execute_result"
    }
   ],
   "source": [
    "# Float 32 tensor is the default\n",
    "float_32_tensor = torch.tensor([3.1, 6.4, 9.0], \n",
    "                               dtype = None,\n",
    "                               device = None, \n",
    "                               requires_grad = False) # whether or not to track gradeints with this tensors operations\n",
    "float_32_tensor.dtype"
   ]
  },
  {
   "cell_type": "code",
   "execution_count": 15,
   "id": "832c430c",
   "metadata": {},
   "outputs": [
    {
     "data": {
      "text/plain": [
       "torch.float16"
      ]
     },
     "execution_count": 15,
     "metadata": {},
     "output_type": "execute_result"
    }
   ],
   "source": [
    "# Float 16 tensor is the default\n",
    "float_16_tensor = torch.tensor([3.1, 6.4, 9.0], \n",
    "                               dtype = torch.float16,\n",
    "                               device = None,\n",
    "                               requires_grad = False)\n",
    "float_16_tensor.dtype"
   ]
  },
  {
   "cell_type": "code",
   "execution_count": 16,
   "id": "7af6a478",
   "metadata": {},
   "outputs": [
    {
     "data": {
      "text/plain": [
       "tensor([3.0996, 6.3984, 9.0000], dtype=torch.float16)"
      ]
     },
     "execution_count": 16,
     "metadata": {},
     "output_type": "execute_result"
    }
   ],
   "source": [
    "float_16_tensor"
   ]
  },
  {
   "cell_type": "markdown",
   "id": "57b49a21",
   "metadata": {},
   "source": []
  },
  {
   "cell_type": "code",
   "execution_count": 17,
   "id": "025c8514",
   "metadata": {},
   "outputs": [
    {
     "data": {
      "text/plain": [
       "device(type='cpu')"
      ]
     },
     "execution_count": 17,
     "metadata": {},
     "output_type": "execute_result"
    }
   ],
   "source": [
    "# CPU\n",
    "cpu = torch.tensor([3.1, 6.4, 9.0], \n",
    "                               \n",
    "                               device = 'cpu',\n",
    "                               requires_grad = False)\n",
    "cpu.device"
   ]
  },
  {
   "cell_type": "code",
   "execution_count": 18,
   "id": "f644cd1f",
   "metadata": {},
   "outputs": [
    {
     "data": {
      "text/plain": [
       "device(type='cpu')"
      ]
     },
     "execution_count": 18,
     "metadata": {},
     "output_type": "execute_result"
    }
   ],
   "source": [
    "TENSOR.device"
   ]
  },
  {
   "cell_type": "code",
   "execution_count": 19,
   "id": "bd6cc802",
   "metadata": {},
   "outputs": [
    {
     "data": {
      "text/plain": [
       "tensor([3.0996, 6.3984, 9.0000], dtype=torch.float16)"
      ]
     },
     "execution_count": 19,
     "metadata": {},
     "output_type": "execute_result"
    }
   ],
   "source": [
    "# Change dtype\n",
    "float_half = float_32_tensor.type(torch.float16)\n",
    "float_half"
   ]
  },
  {
   "cell_type": "code",
   "execution_count": 20,
   "id": "c1a939df",
   "metadata": {},
   "outputs": [
    {
     "data": {
      "text/plain": [
       "tensor([3.0996, 6.3984, 9.0000], dtype=torch.float16)"
      ]
     },
     "execution_count": 20,
     "metadata": {},
     "output_type": "execute_result"
    }
   ],
   "source": [
    "# Change dtype\n",
    "float_half = float_32_tensor.type(torch.half)\n",
    "float_half"
   ]
  },
  {
   "cell_type": "markdown",
   "id": "45f53220",
   "metadata": {},
   "source": [
    "### Getting  Tensors Attributes\n",
    "1. Tensor not right datatype - to get datatype from a tensor, can use `tensor.type`\n",
    "2. `tensor.shape` to know the shape\n",
    "2.   `tensor.device` to know the right device"
   ]
  },
  {
   "cell_type": "code",
   "execution_count": 21,
   "id": "28a87b6d",
   "metadata": {},
   "outputs": [
    {
     "data": {
      "text/plain": [
       "tensor([[0.6783, 0.1888, 0.4491, 0.6129],\n",
       "        [0.0459, 0.1594, 0.0318, 0.5720],\n",
       "        [0.7355, 0.0290, 0.1975, 0.0720]])"
      ]
     },
     "execution_count": 21,
     "metadata": {},
     "output_type": "execute_result"
    }
   ],
   "source": [
    "some_tensor = torch.rand(3,4)\n",
    "some_tensor"
   ]
  },
  {
   "cell_type": "code",
   "execution_count": 22,
   "id": "43495859",
   "metadata": {},
   "outputs": [
    {
     "name": "stdout",
     "output_type": "stream",
     "text": [
      "tensor([[0.6783, 0.1888, 0.4491, 0.6129],\n",
      "        [0.0459, 0.1594, 0.0318, 0.5720],\n",
      "        [0.7355, 0.0290, 0.1975, 0.0720]])\n",
      "Datatype of tensor: torch.float32\n",
      "Shape of tensor: torch.Size([3, 4])\n",
      "Device tensor is on: cpu\n"
     ]
    }
   ],
   "source": [
    "# Find out details about some tensor\n",
    "print(some_tensor)\n",
    "print(f'Datatype of tensor: {some_tensor.dtype}')\n",
    "print(f'Shape of tensor: {some_tensor.shape}')\n",
    "print(f'Device tensor is on: {some_tensor.device}')"
   ]
  },
  {
   "cell_type": "code",
   "execution_count": 23,
   "id": "8e1ca48b",
   "metadata": {},
   "outputs": [
    {
     "data": {
      "text/plain": [
       "torch.float16"
      ]
     },
     "execution_count": 23,
     "metadata": {},
     "output_type": "execute_result"
    }
   ],
   "source": [
    "some_tens = some_tensor.type(torch.half)\n",
    "some_tens.dtype"
   ]
  },
  {
   "cell_type": "code",
   "execution_count": 24,
   "id": "d8e3a6cd",
   "metadata": {},
   "outputs": [
    {
     "data": {
      "text/plain": [
       "tensor([[0.6782, 0.1887, 0.4492, 0.6128],\n",
       "        [0.0458, 0.1594, 0.0318, 0.5718],\n",
       "        [0.7354, 0.0290, 0.1975, 0.0720]], dtype=torch.float16)"
      ]
     },
     "execution_count": 24,
     "metadata": {},
     "output_type": "execute_result"
    }
   ],
   "source": [
    "some_tens"
   ]
  },
  {
   "cell_type": "markdown",
   "id": "640b137b",
   "metadata": {},
   "source": [
    "### Manipulating Tensors (tensor operations)\n",
    "\n",
    "Tensor operations include:\n",
    "* Addition\n",
    "* Substraction\n",
    "* Multiplication (element-wise)\n",
    "* Division\n",
    "* Matrix  multiplication"
   ]
  },
  {
   "cell_type": "code",
   "execution_count": 25,
   "id": "7e90b5f3",
   "metadata": {},
   "outputs": [
    {
     "data": {
      "text/plain": [
       "tensor([11, 12, 13])"
      ]
     },
     "execution_count": 25,
     "metadata": {},
     "output_type": "execute_result"
    }
   ],
   "source": [
    "# Create a tensor\n",
    "tensor = torch.tensor([1,2,3])\n",
    "tensor + 10"
   ]
  },
  {
   "cell_type": "code",
   "execution_count": 26,
   "id": "30129925",
   "metadata": {},
   "outputs": [
    {
     "data": {
      "text/plain": [
       "tensor([10, 20, 30])"
      ]
     },
     "execution_count": 26,
     "metadata": {},
     "output_type": "execute_result"
    }
   ],
   "source": [
    "# multiply tensor by 10\n",
    "tensor * 10"
   ]
  },
  {
   "cell_type": "code",
   "execution_count": 27,
   "id": "914bdd28",
   "metadata": {},
   "outputs": [
    {
     "data": {
      "text/plain": [
       "tensor([-9, -8, -7])"
      ]
     },
     "execution_count": 27,
     "metadata": {},
     "output_type": "execute_result"
    }
   ],
   "source": [
    "# Substract 10\n",
    "tensor - 10"
   ]
  },
  {
   "cell_type": "code",
   "execution_count": 28,
   "id": "85cb227d",
   "metadata": {},
   "outputs": [
    {
     "data": {
      "text/plain": [
       "tensor([10, 20, 30])"
      ]
     },
     "execution_count": 28,
     "metadata": {},
     "output_type": "execute_result"
    }
   ],
   "source": [
    "# Try out Pytorch in-built functions\n",
    "torch.mul(tensor, 10)"
   ]
  },
  {
   "cell_type": "markdown",
   "id": "70998665",
   "metadata": {},
   "source": [
    "# Matrix Manipulation\n",
    "two types:\n",
    "1. element-wise multiplication\n",
    "2. matrix multiplication (dot product)\n",
    "\n",
    "for more details visit: https://www.mathsisfun.com/algebra/matrix-multiplying.html\n",
    "\n",
    "Main rules:\n",
    "1. The **inner dimensions** must match\n",
    "* `(3,2) @ (3,2)` won't work\n",
    "* `(2,3) @ (3,2)` will work\n",
    "* `(3,2) @ (2,3)` will work\n",
    "2. The resulting matrix has the shape of the **outer dimensions**:\n",
    "* `(2,3) @ (3,2)` gives `(2,2)`\n"
   ]
  },
  {
   "cell_type": "code",
   "execution_count": 29,
   "id": "5cf04e87",
   "metadata": {},
   "outputs": [
    {
     "name": "stdout",
     "output_type": "stream",
     "text": [
      "tensor([1, 2, 3]) * tensor([1, 2, 3])\n",
      "Equals: tensor([1, 4, 9])\n"
     ]
    }
   ],
   "source": [
    "# element wise multiplication\n",
    "print(tensor, '*', tensor)\n",
    "print(f\"Equals: {tensor*tensor}\")"
   ]
  },
  {
   "cell_type": "code",
   "execution_count": 30,
   "id": "ba919498",
   "metadata": {},
   "outputs": [
    {
     "data": {
      "text/plain": [
       "tensor(14)"
      ]
     },
     "execution_count": 30,
     "metadata": {},
     "output_type": "execute_result"
    }
   ],
   "source": [
    "# Matrix multiplication\n",
    "torch.matmul(tensor, tensor)"
   ]
  },
  {
   "cell_type": "code",
   "execution_count": 31,
   "id": "3ff8a9fa",
   "metadata": {},
   "outputs": [
    {
     "name": "stdout",
     "output_type": "stream",
     "text": [
      "tensor([[2, 0],\n",
      "        [2, 0]]) \n",
      " tensor([[ 9, 10],\n",
      "        [ 7, 10]])\n"
     ]
    }
   ],
   "source": [
    "test22   = torch.randint(low=0, high=5, size=(2,2))\n",
    "test22_2 = torch.randint(low=6, high=13, size=(2,2))\n",
    "print(test22,'\\n', test22_2)"
   ]
  },
  {
   "cell_type": "code",
   "execution_count": 32,
   "id": "f2f4aeb4",
   "metadata": {},
   "outputs": [
    {
     "data": {
      "text/plain": [
       "tensor([[18, 20],\n",
       "        [18, 20]])"
      ]
     },
     "execution_count": 32,
     "metadata": {},
     "output_type": "execute_result"
    }
   ],
   "source": [
    "torch.matmul(test22, test22_2)"
   ]
  },
  {
   "cell_type": "code",
   "execution_count": 33,
   "id": "790bd967",
   "metadata": {},
   "outputs": [
    {
     "data": {
      "text/plain": [
       "tensor([5, 1, 4])"
      ]
     },
     "execution_count": 33,
     "metadata": {},
     "output_type": "execute_result"
    }
   ],
   "source": [
    "# testing dot product\n",
    "test12 = torch.tensor([5, 1, 4])\n",
    "test12"
   ]
  },
  {
   "cell_type": "code",
   "execution_count": 34,
   "id": "8736c761",
   "metadata": {},
   "outputs": [
    {
     "data": {
      "text/plain": [
       "torch.Size([3])"
      ]
     },
     "execution_count": 34,
     "metadata": {},
     "output_type": "execute_result"
    }
   ],
   "source": [
    "test12.shape"
   ]
  },
  {
   "cell_type": "code",
   "execution_count": 35,
   "id": "863ee5da",
   "metadata": {},
   "outputs": [],
   "source": [
    "# this wont work\n",
    "# torch.matmul(test22, test12);"
   ]
  },
  {
   "cell_type": "code",
   "execution_count": 36,
   "id": "3c407f9e",
   "metadata": {},
   "outputs": [
    {
     "data": {
      "text/plain": [
       "torch.Size([3, 3])"
      ]
     },
     "execution_count": 36,
     "metadata": {},
     "output_type": "execute_result"
    }
   ],
   "source": [
    "# Outer dimenstions will be the output (3,2)@(3,2) gives (3,3)\n",
    "torch.matmul(torch.rand(3,2), torch.rand(2,3)).shape"
   ]
  },
  {
   "cell_type": "code",
   "execution_count": 37,
   "id": "e5ca7337",
   "metadata": {},
   "outputs": [
    {
     "data": {
      "text/plain": [
       "torch.Size([4, 3])"
      ]
     },
     "execution_count": 37,
     "metadata": {},
     "output_type": "execute_result"
    }
   ],
   "source": [
    "torch.matmul(torch.rand(4,2), torch.rand(2,3)).shape"
   ]
  },
  {
   "cell_type": "markdown",
   "id": "72d55cff",
   "metadata": {},
   "source": [
    "#### One of the most commn errors in deep learning: shape error\n",
    "http://matrixmultiplication.xyz/"
   ]
  },
  {
   "cell_type": "code",
   "execution_count": 38,
   "id": "a6478306",
   "metadata": {},
   "outputs": [],
   "source": [
    "tensor_A = torch.tensor([[1,2],\n",
    "                         [3,4],\n",
    "                         [5,6]])\n",
    "tensor_B = torch.tensor([[7,1],\n",
    "                         [8,2],\n",
    "                         [9,3]])"
   ]
  },
  {
   "cell_type": "code",
   "execution_count": 39,
   "id": "70d3226a",
   "metadata": {},
   "outputs": [
    {
     "ename": "RuntimeError",
     "evalue": "mat1 and mat2 shapes cannot be multiplied (3x2 and 3x2)",
     "output_type": "error",
     "traceback": [
      "\u001b[1;31m---------------------------------------------------------------------------\u001b[0m",
      "\u001b[1;31mRuntimeError\u001b[0m                              Traceback (most recent call last)",
      "Cell \u001b[1;32mIn[39], line 1\u001b[0m\n\u001b[1;32m----> 1\u001b[0m \u001b[43mtorch\u001b[49m\u001b[38;5;241;43m.\u001b[39;49m\u001b[43mmm\u001b[49m\u001b[43m(\u001b[49m\u001b[43mtensor_A\u001b[49m\u001b[43m,\u001b[49m\u001b[43m \u001b[49m\u001b[43mtensor_B\u001b[49m\u001b[43m)\u001b[49m \u001b[38;5;66;03m# this results into an error\u001b[39;00m\n",
      "\u001b[1;31mRuntimeError\u001b[0m: mat1 and mat2 shapes cannot be multiplied (3x2 and 3x2)"
     ]
    }
   ],
   "source": [
    "torch.mm(tensor_A, tensor_B) # this results into an error"
   ]
  },
  {
   "cell_type": "markdown",
   "id": "59c5ebfe",
   "metadata": {},
   "source": [
    "### Transpose\n",
    "in order to overcome shape errors, we *transpose* our tensors\n"
   ]
  },
  {
   "cell_type": "code",
   "execution_count": 40,
   "id": "6e87dc23",
   "metadata": {},
   "outputs": [
    {
     "data": {
      "text/plain": [
       "tensor([[7, 8, 9],\n",
       "        [1, 2, 3]])"
      ]
     },
     "execution_count": 40,
     "metadata": {},
     "output_type": "execute_result"
    }
   ],
   "source": [
    "tensor_B.T"
   ]
  },
  {
   "cell_type": "code",
   "execution_count": 41,
   "id": "943850fa",
   "metadata": {},
   "outputs": [
    {
     "data": {
      "text/plain": [
       "torch.Size([2, 3])"
      ]
     },
     "execution_count": 41,
     "metadata": {},
     "output_type": "execute_result"
    }
   ],
   "source": [
    "tensor_B.T.shape"
   ]
  },
  {
   "cell_type": "code",
   "execution_count": 42,
   "id": "87a3a46d",
   "metadata": {},
   "outputs": [
    {
     "data": {
      "text/plain": [
       "tensor([[ 9, 12, 15],\n",
       "        [25, 32, 39],\n",
       "        [41, 52, 63]])"
      ]
     },
     "execution_count": 42,
     "metadata": {},
     "output_type": "execute_result"
    }
   ],
   "source": [
    "torch.mm(tensor_A, tensor_B.T) # this works"
   ]
  },
  {
   "cell_type": "code",
   "execution_count": null,
   "id": "2d850cf2",
   "metadata": {},
   "outputs": [],
   "source": []
  }
 ],
 "metadata": {
  "kernelspec": {
   "display_name": "Python 3 (ipykernel)",
   "language": "python",
   "name": "python3"
  },
  "language_info": {
   "codemirror_mode": {
    "name": "ipython",
    "version": 3
   },
   "file_extension": ".py",
   "mimetype": "text/x-python",
   "name": "python",
   "nbconvert_exporter": "python",
   "pygments_lexer": "ipython3",
   "version": "3.12.2"
  }
 },
 "nbformat": 4,
 "nbformat_minor": 5
}
