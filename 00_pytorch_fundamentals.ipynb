{
 "cells": [
  {
   "cell_type": "markdown",
   "id": "cd1b3e5f-b260-44d9-bc82-9bea30a720eb",
   "metadata": {},
   "source": [
    "## 00. Pytorch Fundamentals\n",
    "\n",
    "*   List item\n",
    "*   List item\n",
    "\n",
    "\n",
    "Resource notebook: https://github.com/mrdbourke/pytorch-deep-learning/blob/main/00_pytorch_fundamentals.ipynb\n",
    "\n",
    "questions: https://github.com/mrdbourke/pytorch-deep-learning/discussions"
   ]
  },
  {
   "cell_type": "code",
   "execution_count": 29,
   "id": "f1b69466-36fc-4887-946d-d7cc1828c85e",
   "metadata": {},
   "outputs": [
    {
     "name": "stdout",
     "output_type": "stream",
     "text": [
      "2.3.0+cpu\n"
     ]
    }
   ],
   "source": [
    "import torch\n",
    "import pandas as pd\n",
    "import numpy as np\n",
    "import matplotlib.pyplot as plt\n",
    "print(torch.__version__)"
   ]
  },
  {
   "cell_type": "code",
   "execution_count": 30,
   "id": "9c2a29b4-90cd-45c6-b131-3bec14c4f855",
   "metadata": {},
   "outputs": [
    {
     "data": {
      "text/plain": [
       "3"
      ]
     },
     "execution_count": 30,
     "metadata": {},
     "output_type": "execute_result"
    }
   ],
   "source": [
    "TENSOR = torch.tensor([[[1,2,3,9],\n",
    "                        [3,6,9,9],\n",
    "                        [2,4,5,9],\n",
    "                        [1,2,3,4]],\n",
    "                       [[1,2,3,9],\n",
    "                        [3,6,9,9],\n",
    "                        [2,4,5,9],\n",
    "                        [1,2,3,4]]\n",
    "                       ])\n",
    "TENSOR.ndim"
   ]
  },
  {
   "cell_type": "markdown",
   "id": "9f3cb70d",
   "metadata": {},
   "source": [
    "# Random Tensors\n",
    "` start with random numbers -> look at data -> update random -> look at data -> update random`"
   ]
  },
  {
   "cell_type": "code",
   "execution_count": 31,
   "id": "6b8c373d",
   "metadata": {},
   "outputs": [
    {
     "data": {
      "text/plain": [
       "tensor([[0.6902, 0.5503, 0.3606, 0.4470],\n",
       "        [0.6482, 0.5507, 0.3927, 0.0346],\n",
       "        [0.9044, 0.2603, 0.2405, 0.3974]])"
      ]
     },
     "execution_count": 31,
     "metadata": {},
     "output_type": "execute_result"
    }
   ],
   "source": [
    "# create a random tensor\n",
    "random_tensor = torch.rand(3,4)\n",
    "random_tensor"
   ]
  },
  {
   "cell_type": "code",
   "execution_count": 32,
   "id": "93547bcd",
   "metadata": {},
   "outputs": [
    {
     "data": {
      "text/plain": [
       "2"
      ]
     },
     "execution_count": 32,
     "metadata": {},
     "output_type": "execute_result"
    }
   ],
   "source": [
    "random_tensor.ndim"
   ]
  },
  {
   "cell_type": "code",
   "execution_count": 33,
   "id": "73386c88",
   "metadata": {},
   "outputs": [
    {
     "data": {
      "text/plain": [
       "tensor([[[0.2941, 0.3031, 0.8162,  ..., 0.6926, 0.0794, 0.0607],\n",
       "         [0.7545, 0.8710, 0.2429,  ..., 0.1907, 0.3088, 0.8897],\n",
       "         [0.4102, 0.9622, 0.7260,  ..., 0.6966, 0.2383, 0.9894],\n",
       "         ...,\n",
       "         [0.3185, 0.4818, 0.4425,  ..., 0.9903, 0.5369, 0.8718],\n",
       "         [0.8533, 0.7966, 0.9268,  ..., 0.8666, 0.4004, 0.4306],\n",
       "         [0.5920, 0.4921, 0.8430,  ..., 0.6331, 0.7284, 0.5140]],\n",
       "\n",
       "        [[0.9030, 0.8170, 0.7018,  ..., 0.7624, 0.8685, 0.3985],\n",
       "         [0.0558, 0.0347, 0.3426,  ..., 0.7908, 0.1966, 0.4063],\n",
       "         [0.4149, 0.4024, 0.5947,  ..., 0.1116, 0.7724, 0.6263],\n",
       "         ...,\n",
       "         [0.9485, 0.6842, 0.0061,  ..., 0.8486, 0.4489, 0.0343],\n",
       "         [0.2097, 0.2141, 0.2538,  ..., 0.5825, 0.5655, 0.6547],\n",
       "         [0.9449, 0.5714, 0.8998,  ..., 0.3212, 0.0892, 0.7407]],\n",
       "\n",
       "        [[0.9531, 0.2697, 0.1437,  ..., 0.9560, 0.4391, 0.7195],\n",
       "         [0.4852, 0.6993, 0.6143,  ..., 0.2075, 0.0857, 0.1708],\n",
       "         [0.6681, 0.6368, 0.3089,  ..., 0.6779, 0.1634, 0.6558],\n",
       "         ...,\n",
       "         [0.8029, 0.8547, 0.0094,  ..., 0.4972, 0.3979, 0.2181],\n",
       "         [0.0310, 0.1537, 0.4007,  ..., 0.4545, 0.1003, 0.5848],\n",
       "         [0.2751, 0.1498, 0.4822,  ..., 0.5971, 0.0328, 0.5698]]])"
      ]
     },
     "execution_count": 33,
     "metadata": {},
     "output_type": "execute_result"
    }
   ],
   "source": [
    "# Create a random tensor with similar shape to an image\n",
    "random_image_size_tensor = torch.rand(size=(3, 244, 244))\n",
    "random_image_size_tensor"
   ]
  },
  {
   "cell_type": "code",
   "execution_count": 34,
   "id": "4bd9f2f4",
   "metadata": {},
   "outputs": [
    {
     "data": {
      "text/plain": [
       "(3, torch.Size([3, 244, 244]))"
      ]
     },
     "execution_count": 34,
     "metadata": {},
     "output_type": "execute_result"
    }
   ],
   "source": [
    "random_image_size_tensor.ndim, random_image_size_tensor.shape"
   ]
  },
  {
   "cell_type": "markdown",
   "id": "5d2c1e2d",
   "metadata": {},
   "source": [
    "# Zeros and Ones \n",
    "useful for masks"
   ]
  },
  {
   "cell_type": "code",
   "execution_count": 35,
   "id": "47819971",
   "metadata": {},
   "outputs": [
    {
     "data": {
      "text/plain": [
       "tensor([[0., 0., 0., 0.],\n",
       "        [0., 0., 0., 0.],\n",
       "        [0., 0., 0., 0.]])"
      ]
     },
     "execution_count": 35,
     "metadata": {},
     "output_type": "execute_result"
    }
   ],
   "source": [
    "# Create a tensor for all zeros\n",
    "zeros = torch.zeros(3,4)\n",
    "zeros"
   ]
  },
  {
   "cell_type": "code",
   "execution_count": 36,
   "id": "598173a4",
   "metadata": {},
   "outputs": [
    {
     "data": {
      "text/plain": [
       "tensor([[0., 0., 0., 0.],\n",
       "        [0., 0., 0., 0.],\n",
       "        [0., 0., 0., 0.]])"
      ]
     },
     "execution_count": 36,
     "metadata": {},
     "output_type": "execute_result"
    }
   ],
   "source": [
    "zeros* torch.rand(3,4)"
   ]
  },
  {
   "cell_type": "code",
   "execution_count": 37,
   "id": "2d9321b4",
   "metadata": {},
   "outputs": [
    {
     "data": {
      "text/plain": [
       "tensor([[[1., 1., 1., 1.],\n",
       "         [1., 1., 1., 1.],\n",
       "         [1., 1., 1., 1.],\n",
       "         [1., 1., 1., 1.]]])"
      ]
     },
     "execution_count": 37,
     "metadata": {},
     "output_type": "execute_result"
    }
   ],
   "source": [
    "# Ones\n",
    "ones = torch.ones(1,4,4)\n",
    "ones"
   ]
  },
  {
   "cell_type": "code",
   "execution_count": 38,
   "id": "14bba531",
   "metadata": {},
   "outputs": [
    {
     "data": {
      "text/plain": [
       "tensor([[[1.],\n",
       "         [1.],\n",
       "         [1.],\n",
       "         [1.]],\n",
       "\n",
       "        [[1.],\n",
       "         [1.],\n",
       "         [1.],\n",
       "         [1.]],\n",
       "\n",
       "        [[1.],\n",
       "         [1.],\n",
       "         [1.],\n",
       "         [1.]],\n",
       "\n",
       "        [[1.],\n",
       "         [1.],\n",
       "         [1.],\n",
       "         [1.]]])"
      ]
     },
     "execution_count": 38,
     "metadata": {},
     "output_type": "execute_result"
    }
   ],
   "source": [
    "# Ones\n",
    "ones = torch.ones(4,4,1)\n",
    "ones"
   ]
  },
  {
   "cell_type": "code",
   "execution_count": 39,
   "id": "a0643fd8",
   "metadata": {},
   "outputs": [
    {
     "data": {
      "text/plain": [
       "(torch.float32, torch.float32)"
      ]
     },
     "execution_count": 39,
     "metadata": {},
     "output_type": "execute_result"
    }
   ],
   "source": [
    "ones.dtype, zeros.dtype"
   ]
  },
  {
   "cell_type": "markdown",
   "id": "dc220ede",
   "metadata": {},
   "source": [
    "# Creating a range of tensors and tensors-like"
   ]
  },
  {
   "cell_type": "code",
   "execution_count": 40,
   "id": "30031e8a",
   "metadata": {},
   "outputs": [
    {
     "data": {
      "text/plain": [
       "tensor([  1,  51, 101, 151, 201, 251, 301, 351, 401, 451])"
      ]
     },
     "execution_count": 40,
     "metadata": {},
     "output_type": "execute_result"
    }
   ],
   "source": [
    "# \n",
    "ranges = torch.arange(start=1,end=500, step =  50)\n",
    "ranges"
   ]
  },
  {
   "cell_type": "code",
   "execution_count": 41,
   "id": "59303a12",
   "metadata": {},
   "outputs": [
    {
     "data": {
      "text/plain": [
       "tensor([0, 0, 0, 0, 0, 0, 0, 0, 0, 0])"
      ]
     },
     "execution_count": 41,
     "metadata": {},
     "output_type": "execute_result"
    }
   ],
   "source": [
    "# Creating tensors like\n",
    "zeros_like_ranges = torch.zeros_like(input=ranges)\n",
    "zeros_like_ranges"
   ]
  },
  {
   "cell_type": "markdown",
   "id": "2b6bb59f",
   "metadata": {},
   "source": [
    "# Tensor Datatype"
   ]
  },
  {
   "cell_type": "code",
   "execution_count": 42,
   "id": "d8f44bc6",
   "metadata": {},
   "outputs": [
    {
     "data": {
      "text/plain": [
       "torch.float32"
      ]
     },
     "execution_count": 42,
     "metadata": {},
     "output_type": "execute_result"
    }
   ],
   "source": [
    "# Float 32 tensor is the default\n",
    "float_32_tensor = torch.tensor([3.1, 6.4, 9.0], \n",
    "                               dtype = None,\n",
    "                               device = None, \n",
    "                               requires_grad = False) # whether or not to track gradeints with this tensors operations\n",
    "float_32_tensor.dtype"
   ]
  },
  {
   "cell_type": "code",
   "execution_count": 43,
   "id": "832c430c",
   "metadata": {},
   "outputs": [
    {
     "data": {
      "text/plain": [
       "torch.float16"
      ]
     },
     "execution_count": 43,
     "metadata": {},
     "output_type": "execute_result"
    }
   ],
   "source": [
    "# Float 16 tensor is the default\n",
    "float_16_tensor = torch.tensor([3.1, 6.4, 9.0], \n",
    "                               dtype = torch.float16,\n",
    "                               device = None,\n",
    "                               requires_grad = False)\n",
    "float_16_tensor.dtype"
   ]
  },
  {
   "cell_type": "code",
   "execution_count": 44,
   "id": "7af6a478",
   "metadata": {},
   "outputs": [
    {
     "data": {
      "text/plain": [
       "tensor([3.0996, 6.3984, 9.0000], dtype=torch.float16)"
      ]
     },
     "execution_count": 44,
     "metadata": {},
     "output_type": "execute_result"
    }
   ],
   "source": [
    "float_16_tensor"
   ]
  },
  {
   "cell_type": "markdown",
   "id": "57b49a21",
   "metadata": {},
   "source": []
  },
  {
   "cell_type": "code",
   "execution_count": 45,
   "id": "025c8514",
   "metadata": {},
   "outputs": [
    {
     "data": {
      "text/plain": [
       "device(type='cpu')"
      ]
     },
     "execution_count": 45,
     "metadata": {},
     "output_type": "execute_result"
    }
   ],
   "source": [
    "# CPU\n",
    "cpu = torch.tensor([3.1, 6.4, 9.0], \n",
    "                               \n",
    "                               device = 'cpu',\n",
    "                               requires_grad = False)\n",
    "cpu.device"
   ]
  },
  {
   "cell_type": "code",
   "execution_count": 46,
   "id": "f644cd1f",
   "metadata": {},
   "outputs": [
    {
     "data": {
      "text/plain": [
       "device(type='cpu')"
      ]
     },
     "execution_count": 46,
     "metadata": {},
     "output_type": "execute_result"
    }
   ],
   "source": [
    "TENSOR.device"
   ]
  },
  {
   "cell_type": "code",
   "execution_count": 47,
   "id": "bd6cc802",
   "metadata": {},
   "outputs": [
    {
     "data": {
      "text/plain": [
       "tensor([3.0996, 6.3984, 9.0000], dtype=torch.float16)"
      ]
     },
     "execution_count": 47,
     "metadata": {},
     "output_type": "execute_result"
    }
   ],
   "source": [
    "# Change dtype\n",
    "float_half = float_32_tensor.type(torch.float16)\n",
    "float_half"
   ]
  },
  {
   "cell_type": "code",
   "execution_count": 48,
   "id": "c1a939df",
   "metadata": {},
   "outputs": [
    {
     "data": {
      "text/plain": [
       "tensor([3.0996, 6.3984, 9.0000], dtype=torch.float16)"
      ]
     },
     "execution_count": 48,
     "metadata": {},
     "output_type": "execute_result"
    }
   ],
   "source": [
    "# Change dtype\n",
    "float_half = float_32_tensor.type(torch.half)\n",
    "float_half"
   ]
  },
  {
   "cell_type": "markdown",
   "id": "45f53220",
   "metadata": {},
   "source": [
    "### Getting  Tensors Attributes\n",
    "1. Tensor not right datatype - to get datatype from a tensor, can use `tensor.type`\n",
    "2. `tensor.shape` to know the shape\n",
    "2.   `tensor.device` to know the right device"
   ]
  },
  {
   "cell_type": "code",
   "execution_count": 49,
   "id": "28a87b6d",
   "metadata": {},
   "outputs": [
    {
     "data": {
      "text/plain": [
       "tensor([[0.8980, 0.0576, 0.9317, 0.9142],\n",
       "        [0.3759, 0.5165, 0.7520, 0.3415],\n",
       "        [0.0549, 0.5911, 0.3147, 0.4374]])"
      ]
     },
     "execution_count": 49,
     "metadata": {},
     "output_type": "execute_result"
    }
   ],
   "source": [
    "some_tensor = torch.rand(3,4)\n",
    "some_tensor"
   ]
  },
  {
   "cell_type": "code",
   "execution_count": 50,
   "id": "43495859",
   "metadata": {},
   "outputs": [
    {
     "name": "stdout",
     "output_type": "stream",
     "text": [
      "tensor([[0.8980, 0.0576, 0.9317, 0.9142],\n",
      "        [0.3759, 0.5165, 0.7520, 0.3415],\n",
      "        [0.0549, 0.5911, 0.3147, 0.4374]])\n",
      "Datatype of tensor: torch.float32\n",
      "Shape of tensor: torch.Size([3, 4])\n",
      "Device tensor is on: cpu\n"
     ]
    }
   ],
   "source": [
    "# Find out details about some tensor\n",
    "print(some_tensor)\n",
    "print(f'Datatype of tensor: {some_tensor.dtype}')\n",
    "print(f'Shape of tensor: {some_tensor.shape}')\n",
    "print(f'Device tensor is on: {some_tensor.device}')"
   ]
  },
  {
   "cell_type": "code",
   "execution_count": 51,
   "id": "8e1ca48b",
   "metadata": {},
   "outputs": [
    {
     "data": {
      "text/plain": [
       "torch.float16"
      ]
     },
     "execution_count": 51,
     "metadata": {},
     "output_type": "execute_result"
    }
   ],
   "source": [
    "some_tens = some_tensor.type(torch.half)\n",
    "some_tens.dtype"
   ]
  },
  {
   "cell_type": "code",
   "execution_count": 52,
   "id": "d8e3a6cd",
   "metadata": {},
   "outputs": [
    {
     "data": {
      "text/plain": [
       "tensor([[0.8979, 0.0576, 0.9316, 0.9141],\n",
       "        [0.3760, 0.5166, 0.7520, 0.3416],\n",
       "        [0.0549, 0.5913, 0.3147, 0.4375]], dtype=torch.float16)"
      ]
     },
     "execution_count": 52,
     "metadata": {},
     "output_type": "execute_result"
    }
   ],
   "source": [
    "some_tens"
   ]
  },
  {
   "cell_type": "markdown",
   "id": "640b137b",
   "metadata": {},
   "source": [
    "### Manipulating Tensors (tensor operations)\n",
    "\n",
    "Tensor operations include:\n",
    "* Addition\n",
    "* Substraction\n",
    "* Multiplication (element-wise)\n",
    "* Division\n",
    "* Matrix  multiplication"
   ]
  },
  {
   "cell_type": "code",
   "execution_count": 53,
   "id": "7e90b5f3",
   "metadata": {},
   "outputs": [
    {
     "data": {
      "text/plain": [
       "tensor([11, 12, 13])"
      ]
     },
     "execution_count": 53,
     "metadata": {},
     "output_type": "execute_result"
    }
   ],
   "source": [
    "# Create a tensor\n",
    "tensor = torch.tensor([1,2,3])\n",
    "tensor + 10"
   ]
  },
  {
   "cell_type": "code",
   "execution_count": 54,
   "id": "30129925",
   "metadata": {},
   "outputs": [
    {
     "data": {
      "text/plain": [
       "tensor([10, 20, 30])"
      ]
     },
     "execution_count": 54,
     "metadata": {},
     "output_type": "execute_result"
    }
   ],
   "source": [
    "# multiply tensor by 10\n",
    "tensor * 10"
   ]
  },
  {
   "cell_type": "code",
   "execution_count": 55,
   "id": "914bdd28",
   "metadata": {},
   "outputs": [
    {
     "data": {
      "text/plain": [
       "tensor([-9, -8, -7])"
      ]
     },
     "execution_count": 55,
     "metadata": {},
     "output_type": "execute_result"
    }
   ],
   "source": [
    "# Substract 10\n",
    "tensor - 10"
   ]
  },
  {
   "cell_type": "code",
   "execution_count": 56,
   "id": "85cb227d",
   "metadata": {},
   "outputs": [
    {
     "data": {
      "text/plain": [
       "tensor([10, 20, 30])"
      ]
     },
     "execution_count": 56,
     "metadata": {},
     "output_type": "execute_result"
    }
   ],
   "source": [
    "# Try out Pytorch in-built functions\n",
    "torch.mul(tensor, 10)"
   ]
  },
  {
   "cell_type": "markdown",
   "id": "70998665",
   "metadata": {},
   "source": [
    "# Matrix Manipulation\n",
    "two types:\n",
    "1. element-wise multiplication\n",
    "2. matrix multiplication (dot product)\n",
    "\n",
    "for more details visit: https://www.mathsisfun.com/algebra/matrix-multiplying.html\n",
    "\n",
    "Main rules:\n",
    "1. The **inner dimensions** must match\n",
    "* `(3,2) @ (3,2)` won't work\n",
    "* `(2,3) @ (3,2)` will work\n",
    "* `(3,2) @ (2,3)` will work\n",
    "2. The resulting matrix has the shape of the **outer dimensions**:\n",
    "* `(2,3) @ (3,2)` gives `(2,2)`\n"
   ]
  },
  {
   "cell_type": "code",
   "execution_count": 58,
   "id": "5cf04e87",
   "metadata": {},
   "outputs": [
    {
     "name": "stdout",
     "output_type": "stream",
     "text": [
      "tensor([1, 2, 3]) * tensor([1, 2, 3])\n",
      "Equals: tensor([1, 4, 9])\n"
     ]
    }
   ],
   "source": [
    "# element wise multiplication\n",
    "print(tensor, '*', tensor)\n",
    "print(f\"Equals: {tensor*tensor}\")"
   ]
  },
  {
   "cell_type": "code",
   "execution_count": 59,
   "id": "ba919498",
   "metadata": {},
   "outputs": [
    {
     "data": {
      "text/plain": [
       "tensor(14)"
      ]
     },
     "execution_count": 59,
     "metadata": {},
     "output_type": "execute_result"
    }
   ],
   "source": [
    "# Matrix multiplication\n",
    "torch.matmul(tensor, tensor)"
   ]
  },
  {
   "cell_type": "code",
   "execution_count": 65,
   "id": "3ff8a9fa",
   "metadata": {},
   "outputs": [
    {
     "name": "stdout",
     "output_type": "stream",
     "text": [
      "tensor([[1, 3],\n",
      "        [1, 1]]) \n",
      " tensor([[10,  6],\n",
      "        [ 8,  9]])\n"
     ]
    }
   ],
   "source": [
    "test22   = torch.randint(low=0, high=5, size=(2,2))\n",
    "test22_2 = torch.randint(low=6, high=13, size=(2,2))\n",
    "print(test22,'\\n', test22_2)"
   ]
  },
  {
   "cell_type": "code",
   "execution_count": 66,
   "id": "f2f4aeb4",
   "metadata": {},
   "outputs": [
    {
     "data": {
      "text/plain": [
       "tensor([[34, 33],\n",
       "        [18, 15]])"
      ]
     },
     "execution_count": 66,
     "metadata": {},
     "output_type": "execute_result"
    }
   ],
   "source": [
    "torch.matmul(test22, test22_2)"
   ]
  },
  {
   "cell_type": "code",
   "execution_count": 71,
   "id": "790bd967",
   "metadata": {},
   "outputs": [
    {
     "data": {
      "text/plain": [
       "tensor([5, 1, 4])"
      ]
     },
     "execution_count": 71,
     "metadata": {},
     "output_type": "execute_result"
    }
   ],
   "source": [
    "# testing dot product\n",
    "test12 = torch.tensor([5, 1, 4])\n",
    "test12"
   ]
  },
  {
   "cell_type": "code",
   "execution_count": 72,
   "id": "8736c761",
   "metadata": {},
   "outputs": [
    {
     "data": {
      "text/plain": [
       "torch.Size([3])"
      ]
     },
     "execution_count": 72,
     "metadata": {},
     "output_type": "execute_result"
    }
   ],
   "source": [
    "test12.shape"
   ]
  },
  {
   "cell_type": "code",
   "execution_count": 82,
   "id": "863ee5da",
   "metadata": {},
   "outputs": [],
   "source": [
    "# this wont work\n",
    "# torch.matmul(test22, test12);"
   ]
  },
  {
   "cell_type": "code",
   "execution_count": 80,
   "id": "3c407f9e",
   "metadata": {},
   "outputs": [
    {
     "data": {
      "text/plain": [
       "torch.Size([3, 3])"
      ]
     },
     "execution_count": 80,
     "metadata": {},
     "output_type": "execute_result"
    }
   ],
   "source": [
    "# Outer dimenstions will be the output (3,2)@(3,2) gives (3,3)\n",
    "torch.matmul(torch.rand(3,2), torch.rand(2,3)).shape"
   ]
  },
  {
   "cell_type": "code",
   "execution_count": 83,
   "id": "e5ca7337",
   "metadata": {},
   "outputs": [
    {
     "data": {
      "text/plain": [
       "torch.Size([4, 3])"
      ]
     },
     "execution_count": 83,
     "metadata": {},
     "output_type": "execute_result"
    }
   ],
   "source": [
    "torch.matmul(torch.rand(4,2), torch.rand(2,3)).shape"
   ]
  },
  {
   "cell_type": "markdown",
   "id": "72d55cff",
   "metadata": {},
   "source": [
    "#### One of the most commn errors in deep learning: shape error\n",
    "http://matrixmultiplication.xyz/"
   ]
  },
  {
   "cell_type": "code",
   "execution_count": 85,
   "id": "a6478306",
   "metadata": {},
   "outputs": [],
   "source": [
    "tensor_A = torch.tensor([[1,2],\n",
    "                         [3,4],\n",
    "                         [5,6]])\n",
    "tensor_B = torch.tensor([[7,1],\n",
    "                         [8,2],\n",
    "                         [9,3]])"
   ]
  },
  {
   "cell_type": "code",
   "execution_count": 87,
   "id": "70d3226a",
   "metadata": {},
   "outputs": [
    {
     "ename": "RuntimeError",
     "evalue": "mat1 and mat2 shapes cannot be multiplied (3x2 and 3x2)",
     "output_type": "error",
     "traceback": [
      "\u001b[1;31m---------------------------------------------------------------------------\u001b[0m",
      "\u001b[1;31mRuntimeError\u001b[0m                              Traceback (most recent call last)",
      "Cell \u001b[1;32mIn[87], line 1\u001b[0m\n\u001b[1;32m----> 1\u001b[0m \u001b[43mtorch\u001b[49m\u001b[38;5;241;43m.\u001b[39;49m\u001b[43mmm\u001b[49m\u001b[43m(\u001b[49m\u001b[43mtensor_A\u001b[49m\u001b[43m,\u001b[49m\u001b[43m \u001b[49m\u001b[43mtensor_B\u001b[49m\u001b[43m)\u001b[49m\n",
      "\u001b[1;31mRuntimeError\u001b[0m: mat1 and mat2 shapes cannot be multiplied (3x2 and 3x2)"
     ]
    }
   ],
   "source": [
    "torch.mm(tensor_A, tensor_B) # this results into an error"
   ]
  },
  {
   "cell_type": "code",
   "execution_count": null,
   "id": "59c5ebfe",
   "metadata": {},
   "outputs": [],
   "source": []
  },
  {
   "cell_type": "code",
   "execution_count": null,
   "id": "6e87dc23",
   "metadata": {},
   "outputs": [],
   "source": []
  },
  {
   "cell_type": "code",
   "execution_count": null,
   "id": "943850fa",
   "metadata": {},
   "outputs": [],
   "source": []
  },
  {
   "cell_type": "markdown",
   "id": "c9cd2844",
   "metadata": {},
   "source": []
  },
  {
   "cell_type": "markdown",
   "id": "29fc07f5",
   "metadata": {},
   "source": []
  }
 ],
 "metadata": {
  "kernelspec": {
   "display_name": "Python 3 (ipykernel)",
   "language": "python",
   "name": "python3"
  },
  "language_info": {
   "codemirror_mode": {
    "name": "ipython",
    "version": 3
   },
   "file_extension": ".py",
   "mimetype": "text/x-python",
   "name": "python",
   "nbconvert_exporter": "python",
   "pygments_lexer": "ipython3",
   "version": "3.12.2"
  }
 },
 "nbformat": 4,
 "nbformat_minor": 5
}
