{
 "cells": [
  {
   "cell_type": "markdown",
   "id": "cd1b3e5f-b260-44d9-bc82-9bea30a720eb",
   "metadata": {},
   "source": [
    "## 00. Pytorch Fundamentals\n",
    "\n",
    "*   List item\n",
    "*   List item\n",
    "\n",
    "\n",
    "Resource notebook: https://github.com/mrdbourke/pytorch-deep-learning/blob/main/00_pytorch_fundamentals.ipynb\n",
    "\n",
    "questions: https://github.com/mrdbourke/pytorch-deep-learning/discussions"
   ]
  },
  {
   "cell_type": "code",
   "execution_count": 1,
   "id": "f1b69466-36fc-4887-946d-d7cc1828c85e",
   "metadata": {},
   "outputs": [
    {
     "ename": "OSError",
     "evalue": "[WinError 126] The specified module could not be found. Error loading \"C:\\Users\\herve\\AppData\\Local\\Programs\\Python\\Python312\\Lib\\site-packages\\torch\\lib\\fbgemm.dll\" or one of its dependencies.",
     "output_type": "error",
     "traceback": [
      "\u001b[1;31m---------------------------------------------------------------------------\u001b[0m",
      "\u001b[1;31mOSError\u001b[0m                                   Traceback (most recent call last)",
      "Cell \u001b[1;32mIn[1], line 1\u001b[0m\n\u001b[1;32m----> 1\u001b[0m \u001b[38;5;28;01mimport\u001b[39;00m \u001b[38;5;21;01mtorch\u001b[39;00m\n\u001b[0;32m      2\u001b[0m \u001b[38;5;28;01mimport\u001b[39;00m \u001b[38;5;21;01mpandas\u001b[39;00m \u001b[38;5;28;01mas\u001b[39;00m \u001b[38;5;21;01mpd\u001b[39;00m\n\u001b[0;32m      3\u001b[0m \u001b[38;5;28;01mimport\u001b[39;00m \u001b[38;5;21;01mnumpy\u001b[39;00m \u001b[38;5;28;01mas\u001b[39;00m \u001b[38;5;21;01mnp\u001b[39;00m\n",
      "File \u001b[1;32m~\\AppData\\Local\\Programs\\Python\\Python312\\Lib\\site-packages\\torch\\__init__.py:148\u001b[0m\n\u001b[0;32m    146\u001b[0m                 err \u001b[38;5;241m=\u001b[39m ctypes\u001b[38;5;241m.\u001b[39mWinError(ctypes\u001b[38;5;241m.\u001b[39mget_last_error())\n\u001b[0;32m    147\u001b[0m                 err\u001b[38;5;241m.\u001b[39mstrerror \u001b[38;5;241m+\u001b[39m\u001b[38;5;241m=\u001b[39m \u001b[38;5;124mf\u001b[39m\u001b[38;5;124m'\u001b[39m\u001b[38;5;124m Error loading \u001b[39m\u001b[38;5;124m\"\u001b[39m\u001b[38;5;132;01m{\u001b[39;00mdll\u001b[38;5;132;01m}\u001b[39;00m\u001b[38;5;124m\"\u001b[39m\u001b[38;5;124m or one of its dependencies.\u001b[39m\u001b[38;5;124m'\u001b[39m\n\u001b[1;32m--> 148\u001b[0m                 \u001b[38;5;28;01mraise\u001b[39;00m err\n\u001b[0;32m    150\u001b[0m     kernel32\u001b[38;5;241m.\u001b[39mSetErrorMode(prev_error_mode)\n\u001b[0;32m    153\u001b[0m \u001b[38;5;28;01mdef\u001b[39;00m \u001b[38;5;21m_preload_cuda_deps\u001b[39m(lib_folder, lib_name):\n",
      "\u001b[1;31mOSError\u001b[0m: [WinError 126] The specified module could not be found. Error loading \"C:\\Users\\herve\\AppData\\Local\\Programs\\Python\\Python312\\Lib\\site-packages\\torch\\lib\\fbgemm.dll\" or one of its dependencies."
     ]
    }
   ],
   "source": [
    "import torch\n",
    "import pandas as pd\n",
    "import numpy as np\n",
    "import matplotlib.pyplot as plt\n",
    "print(torch.__version__)"
   ]
  },
  {
   "cell_type": "code",
   "execution_count": 41,
   "id": "9c2a29b4-90cd-45c6-b131-3bec14c4f855",
   "metadata": {},
   "outputs": [
    {
     "data": {
      "text/plain": [
       "3"
      ]
     },
     "execution_count": 41,
     "metadata": {},
     "output_type": "execute_result"
    }
   ],
   "source": [
    "TENSOR = torch.tensor([[[1,2,3,9],\n",
    "                        [3,6,9,9],\n",
    "                        [2,4,5,9],\n",
    "                        [1,2,3,4]],\n",
    "                       [[1,2,3,9],\n",
    "                        [3,6,9,9],\n",
    "                        [2,4,5,9],\n",
    "                        [1,2,3,4]]\n",
    "                       ])\n",
    "TENSOR.ndim"
   ]
  },
  {
   "cell_type": "markdown",
   "id": "9f3cb70d",
   "metadata": {},
   "source": [
    "# Random Tensors\n",
    "` start with random numbers -> look at data -> update random -> look at data -> update random`"
   ]
  },
  {
   "cell_type": "code",
   "execution_count": 42,
   "id": "6b8c373d",
   "metadata": {},
   "outputs": [
    {
     "data": {
      "text/plain": [
       "tensor([[0.5279, 0.3024, 0.1307, 0.0299],\n",
       "        [0.5185, 0.3766, 0.0862, 0.7558],\n",
       "        [0.1886, 0.0427, 0.8822, 0.7031]])"
      ]
     },
     "execution_count": 42,
     "metadata": {},
     "output_type": "execute_result"
    }
   ],
   "source": [
    "# create a random tensor\n",
    "random_tensor = torch.rand(3,4)\n",
    "random_tensor"
   ]
  },
  {
   "cell_type": "code",
   "execution_count": 43,
   "id": "93547bcd",
   "metadata": {},
   "outputs": [
    {
     "data": {
      "text/plain": [
       "2"
      ]
     },
     "execution_count": 43,
     "metadata": {},
     "output_type": "execute_result"
    }
   ],
   "source": [
    "random_tensor.ndim"
   ]
  },
  {
   "cell_type": "code",
   "execution_count": 44,
   "id": "73386c88",
   "metadata": {},
   "outputs": [
    {
     "data": {
      "text/plain": [
       "tensor([[[0.7563, 0.9231, 0.5587,  ..., 0.8262, 0.9433, 0.7607],\n",
       "         [0.1021, 0.7780, 0.6238,  ..., 0.8845, 0.0529, 0.6929],\n",
       "         [0.1762, 0.3480, 0.0208,  ..., 0.3436, 0.4252, 0.0618],\n",
       "         ...,\n",
       "         [0.9521, 0.2061, 0.8952,  ..., 0.5589, 0.1154, 0.7754],\n",
       "         [0.8858, 0.5582, 0.4039,  ..., 0.3556, 0.1676, 0.6145],\n",
       "         [0.0746, 0.0075, 0.3369,  ..., 0.6644, 0.5306, 0.3677]],\n",
       "\n",
       "        [[0.5787, 0.5428, 0.3017,  ..., 0.0756, 0.1107, 0.8056],\n",
       "         [0.9180, 0.3913, 0.3087,  ..., 0.5569, 0.8266, 0.8002],\n",
       "         [0.4360, 0.5531, 0.9249,  ..., 0.1803, 0.3017, 0.3873],\n",
       "         ...,\n",
       "         [0.8132, 0.8042, 0.4646,  ..., 0.6180, 0.8451, 0.1382],\n",
       "         [0.9062, 0.8710, 0.1774,  ..., 0.9790, 0.9371, 0.1152],\n",
       "         [0.1611, 0.2521, 0.2196,  ..., 0.9555, 0.7106, 0.7671]],\n",
       "\n",
       "        [[0.3201, 0.2301, 0.8420,  ..., 0.8421, 0.3152, 0.6456],\n",
       "         [0.2296, 0.8866, 0.9986,  ..., 0.3698, 0.8165, 0.4702],\n",
       "         [0.8264, 0.3152, 0.6871,  ..., 0.8437, 0.1408, 0.9777],\n",
       "         ...,\n",
       "         [0.1868, 0.7606, 0.7707,  ..., 0.2508, 0.5497, 0.2188],\n",
       "         [0.7710, 0.0610, 0.6353,  ..., 0.0080, 0.6363, 0.7761],\n",
       "         [0.1586, 0.8075, 0.6985,  ..., 0.4743, 0.5615, 0.2879]]])"
      ]
     },
     "execution_count": 44,
     "metadata": {},
     "output_type": "execute_result"
    }
   ],
   "source": [
    "# Create a random tensor with similar shape to an image\n",
    "random_image_size_tensor = torch.rand(size=(3, 244, 244))\n",
    "random_image_size_tensor"
   ]
  },
  {
   "cell_type": "code",
   "execution_count": 45,
   "id": "4bd9f2f4",
   "metadata": {},
   "outputs": [
    {
     "data": {
      "text/plain": [
       "(3, torch.Size([3, 244, 244]))"
      ]
     },
     "execution_count": 45,
     "metadata": {},
     "output_type": "execute_result"
    }
   ],
   "source": [
    "random_image_size_tensor.ndim, random_image_size_tensor.shape"
   ]
  },
  {
   "cell_type": "markdown",
   "id": "5d2c1e2d",
   "metadata": {},
   "source": [
    "# Zeros and Ones \n",
    "useful for masks"
   ]
  },
  {
   "cell_type": "code",
   "execution_count": 46,
   "id": "47819971",
   "metadata": {},
   "outputs": [
    {
     "data": {
      "text/plain": [
       "tensor([[0., 0., 0., 0.],\n",
       "        [0., 0., 0., 0.],\n",
       "        [0., 0., 0., 0.]])"
      ]
     },
     "execution_count": 46,
     "metadata": {},
     "output_type": "execute_result"
    }
   ],
   "source": [
    "# Create a tensor for all zeros\n",
    "zeros = torch.zeros(3,4)\n",
    "zeros"
   ]
  },
  {
   "cell_type": "code",
   "execution_count": 47,
   "id": "598173a4",
   "metadata": {},
   "outputs": [
    {
     "data": {
      "text/plain": [
       "tensor([[0., 0., 0., 0.],\n",
       "        [0., 0., 0., 0.],\n",
       "        [0., 0., 0., 0.]])"
      ]
     },
     "execution_count": 47,
     "metadata": {},
     "output_type": "execute_result"
    }
   ],
   "source": [
    "zeros* torch.rand(3,4)"
   ]
  },
  {
   "cell_type": "code",
   "execution_count": 48,
   "id": "2d9321b4",
   "metadata": {},
   "outputs": [
    {
     "data": {
      "text/plain": [
       "tensor([[[1., 1., 1., 1.],\n",
       "         [1., 1., 1., 1.],\n",
       "         [1., 1., 1., 1.],\n",
       "         [1., 1., 1., 1.]]])"
      ]
     },
     "execution_count": 48,
     "metadata": {},
     "output_type": "execute_result"
    }
   ],
   "source": [
    "# Ones\n",
    "ones = torch.ones(1,4,4)\n",
    "ones"
   ]
  },
  {
   "cell_type": "code",
   "execution_count": 49,
   "id": "14bba531",
   "metadata": {},
   "outputs": [
    {
     "data": {
      "text/plain": [
       "tensor([[[1.],\n",
       "         [1.],\n",
       "         [1.],\n",
       "         [1.]],\n",
       "\n",
       "        [[1.],\n",
       "         [1.],\n",
       "         [1.],\n",
       "         [1.]],\n",
       "\n",
       "        [[1.],\n",
       "         [1.],\n",
       "         [1.],\n",
       "         [1.]],\n",
       "\n",
       "        [[1.],\n",
       "         [1.],\n",
       "         [1.],\n",
       "         [1.]]])"
      ]
     },
     "execution_count": 49,
     "metadata": {},
     "output_type": "execute_result"
    }
   ],
   "source": [
    "# Ones\n",
    "ones = torch.ones(4,4,1)\n",
    "ones"
   ]
  },
  {
   "cell_type": "code",
   "execution_count": 50,
   "id": "a0643fd8",
   "metadata": {},
   "outputs": [
    {
     "data": {
      "text/plain": [
       "(torch.float32, torch.float32)"
      ]
     },
     "execution_count": 50,
     "metadata": {},
     "output_type": "execute_result"
    }
   ],
   "source": [
    "ones.dtype, zeros.dtype"
   ]
  },
  {
   "cell_type": "markdown",
   "id": "dc220ede",
   "metadata": {},
   "source": [
    "# Creating a range of tensors and tensors-like"
   ]
  },
  {
   "cell_type": "code",
   "execution_count": 51,
   "id": "30031e8a",
   "metadata": {},
   "outputs": [
    {
     "data": {
      "text/plain": [
       "tensor([  1,  51, 101, 151, 201, 251, 301, 351, 401, 451])"
      ]
     },
     "execution_count": 51,
     "metadata": {},
     "output_type": "execute_result"
    }
   ],
   "source": [
    "# \n",
    "ranges = torch.arange(start=1,end=500, step =  50)\n",
    "ranges"
   ]
  },
  {
   "cell_type": "code",
   "execution_count": 52,
   "id": "59303a12",
   "metadata": {},
   "outputs": [
    {
     "data": {
      "text/plain": [
       "tensor([0, 0, 0, 0, 0, 0, 0, 0, 0, 0])"
      ]
     },
     "execution_count": 52,
     "metadata": {},
     "output_type": "execute_result"
    }
   ],
   "source": [
    "# Creating tensors like\n",
    "zeros_like_ranges = torch.zeros_like(input=ranges)\n",
    "zeros_like_ranges"
   ]
  },
  {
   "cell_type": "markdown",
   "id": "2b6bb59f",
   "metadata": {},
   "source": [
    "# Tensor Datatype"
   ]
  },
  {
   "cell_type": "code",
   "execution_count": 53,
   "id": "d8f44bc6",
   "metadata": {},
   "outputs": [
    {
     "data": {
      "text/plain": [
       "torch.float32"
      ]
     },
     "execution_count": 53,
     "metadata": {},
     "output_type": "execute_result"
    }
   ],
   "source": [
    "# Float 32 tensor is the default\n",
    "float_32_tensor = torch.tensor([3.1, 6.4, 9.0], \n",
    "                               dtype = None,\n",
    "                               device = None, \n",
    "                               requires_grad = False) # whether or not to track gradeints with this tensors operations\n",
    "float_32_tensor.dtype"
   ]
  },
  {
   "cell_type": "code",
   "execution_count": 54,
   "id": "832c430c",
   "metadata": {},
   "outputs": [
    {
     "data": {
      "text/plain": [
       "torch.float16"
      ]
     },
     "execution_count": 54,
     "metadata": {},
     "output_type": "execute_result"
    }
   ],
   "source": [
    "# Float 16 tensor is the default\n",
    "float_16_tensor = torch.tensor([3.1, 6.4, 9.0], \n",
    "                               dtype = torch.float16,\n",
    "                               device = None,\n",
    "                               requires_grad = False)\n",
    "float_16_tensor.dtype"
   ]
  },
  {
   "cell_type": "code",
   "execution_count": 55,
   "id": "7af6a478",
   "metadata": {},
   "outputs": [
    {
     "data": {
      "text/plain": [
       "tensor([3.0996, 6.3984, 9.0000], dtype=torch.float16)"
      ]
     },
     "execution_count": 55,
     "metadata": {},
     "output_type": "execute_result"
    }
   ],
   "source": [
    "float_16_tensor"
   ]
  },
  {
   "cell_type": "markdown",
   "id": "57b49a21",
   "metadata": {},
   "source": []
  },
  {
   "cell_type": "code",
   "execution_count": 56,
   "id": "025c8514",
   "metadata": {},
   "outputs": [
    {
     "data": {
      "text/plain": [
       "device(type='cpu')"
      ]
     },
     "execution_count": 56,
     "metadata": {},
     "output_type": "execute_result"
    }
   ],
   "source": [
    "# CPU\n",
    "cpu = torch.tensor([3.1, 6.4, 9.0], \n",
    "                               \n",
    "                               device = 'cpu',\n",
    "                               requires_grad = False)\n",
    "cpu.device"
   ]
  },
  {
   "cell_type": "code",
   "execution_count": 57,
   "id": "f644cd1f",
   "metadata": {},
   "outputs": [
    {
     "data": {
      "text/plain": [
       "device(type='cpu')"
      ]
     },
     "execution_count": 57,
     "metadata": {},
     "output_type": "execute_result"
    }
   ],
   "source": [
    "TENSOR.device"
   ]
  },
  {
   "cell_type": "code",
   "execution_count": 58,
   "id": "bd6cc802",
   "metadata": {},
   "outputs": [
    {
     "data": {
      "text/plain": [
       "tensor([3.0996, 6.3984, 9.0000], dtype=torch.float16)"
      ]
     },
     "execution_count": 58,
     "metadata": {},
     "output_type": "execute_result"
    }
   ],
   "source": [
    "# Change dtype\n",
    "float_half = float_32_tensor.type(torch.float16)\n",
    "float_half"
   ]
  },
  {
   "cell_type": "code",
   "execution_count": 59,
   "id": "c1a939df",
   "metadata": {},
   "outputs": [
    {
     "data": {
      "text/plain": [
       "tensor([3.0996, 6.3984, 9.0000], dtype=torch.float16)"
      ]
     },
     "execution_count": 59,
     "metadata": {},
     "output_type": "execute_result"
    }
   ],
   "source": [
    "# Change dtype\n",
    "float_half = float_32_tensor.type(torch.half)\n",
    "float_half"
   ]
  },
  {
   "cell_type": "markdown",
   "id": "45f53220",
   "metadata": {},
   "source": [
    "### Getting  Tensors Attributes\n",
    "1. Tensor not right datatype - to get datatype from a tensor, can use `tensor.type`\n",
    "2. `tensor.shape` to know the shape\n",
    "2.   `tensor.device` to know the right device"
   ]
  },
  {
   "cell_type": "code",
   "execution_count": 60,
   "id": "28a87b6d",
   "metadata": {},
   "outputs": [
    {
     "data": {
      "text/plain": [
       "tensor([[0.5470, 0.8436, 0.9802, 0.0715],\n",
       "        [0.8483, 0.8714, 0.2027, 0.7231],\n",
       "        [0.5353, 0.8395, 0.0241, 0.0335]])"
      ]
     },
     "execution_count": 60,
     "metadata": {},
     "output_type": "execute_result"
    }
   ],
   "source": [
    "some_tensor = torch.rand(3,4)\n",
    "some_tensor"
   ]
  },
  {
   "cell_type": "code",
   "execution_count": 61,
   "id": "43495859",
   "metadata": {},
   "outputs": [
    {
     "name": "stdout",
     "output_type": "stream",
     "text": [
      "tensor([[0.5470, 0.8436, 0.9802, 0.0715],\n",
      "        [0.8483, 0.8714, 0.2027, 0.7231],\n",
      "        [0.5353, 0.8395, 0.0241, 0.0335]])\n",
      "Datatype of tensor: torch.float32\n",
      "Shape of tensor: torch.Size([3, 4])\n",
      "Device tensor is on: cpu\n"
     ]
    }
   ],
   "source": [
    "# Find out details about some tensor\n",
    "print(some_tensor)\n",
    "print(f'Datatype of tensor: {some_tensor.dtype}')\n",
    "print(f'Shape of tensor: {some_tensor.shape}')\n",
    "print(f'Device tensor is on: {some_tensor.device}')"
   ]
  },
  {
   "cell_type": "code",
   "execution_count": 62,
   "id": "8e1ca48b",
   "metadata": {},
   "outputs": [
    {
     "data": {
      "text/plain": [
       "torch.float16"
      ]
     },
     "execution_count": 62,
     "metadata": {},
     "output_type": "execute_result"
    }
   ],
   "source": [
    "some_tens = some_tensor.type(torch.half)\n",
    "some_tens.dtype"
   ]
  },
  {
   "cell_type": "code",
   "execution_count": 63,
   "id": "d8e3a6cd",
   "metadata": {},
   "outputs": [
    {
     "data": {
      "text/plain": [
       "tensor([[0.5469, 0.8438, 0.9805, 0.0715],\n",
       "        [0.8481, 0.8716, 0.2026, 0.7231],\n",
       "        [0.5352, 0.8394, 0.0241, 0.0335]], dtype=torch.float16)"
      ]
     },
     "execution_count": 63,
     "metadata": {},
     "output_type": "execute_result"
    }
   ],
   "source": [
    "some_tens"
   ]
  },
  {
   "cell_type": "markdown",
   "id": "640b137b",
   "metadata": {},
   "source": [
    "### Manipulating Tensors (tensor operations)\n",
    "\n",
    "Tensor operations include:\n",
    "* Addition\n",
    "* Substraction\n",
    "* Multiplication (element-wise)\n",
    "* Division\n",
    "* Matrix  multiplication"
   ]
  },
  {
   "cell_type": "code",
   "execution_count": 64,
   "id": "7e90b5f3",
   "metadata": {},
   "outputs": [
    {
     "data": {
      "text/plain": [
       "tensor([11, 12, 13])"
      ]
     },
     "execution_count": 64,
     "metadata": {},
     "output_type": "execute_result"
    }
   ],
   "source": [
    "# Create a tensor\n",
    "tensor = torch.tensor([1,2,3])\n",
    "tensor + 10"
   ]
  },
  {
   "cell_type": "code",
   "execution_count": 65,
   "id": "30129925",
   "metadata": {},
   "outputs": [
    {
     "data": {
      "text/plain": [
       "tensor([10, 20, 30])"
      ]
     },
     "execution_count": 65,
     "metadata": {},
     "output_type": "execute_result"
    }
   ],
   "source": [
    "# multiply tensor by 10\n",
    "tensor * 10"
   ]
  },
  {
   "cell_type": "code",
   "execution_count": 66,
   "id": "914bdd28",
   "metadata": {},
   "outputs": [
    {
     "data": {
      "text/plain": [
       "tensor([-9, -8, -7])"
      ]
     },
     "execution_count": 66,
     "metadata": {},
     "output_type": "execute_result"
    }
   ],
   "source": [
    "# Substract 10\n",
    "tensor - 10"
   ]
  },
  {
   "cell_type": "code",
   "execution_count": 67,
   "id": "85cb227d",
   "metadata": {},
   "outputs": [
    {
     "data": {
      "text/plain": [
       "tensor([10, 20, 30])"
      ]
     },
     "execution_count": 67,
     "metadata": {},
     "output_type": "execute_result"
    }
   ],
   "source": [
    "# Try out Pytorch in-built functions\n",
    "torch.mul(tensor, 10)"
   ]
  },
  {
   "cell_type": "markdown",
   "id": "70998665",
   "metadata": {},
   "source": [
    "# Matrix Manipulation\n",
    "two types:\n",
    "1. element-wise multiplication\n",
    "2. matrix multiplication (dot product)\n",
    "\n",
    "for more details visit: https://www.mathsisfun.com/algebra/matrix-multiplying.html\n",
    "\n",
    "Main rules:\n",
    "1. The **inner dimensions** must match\n",
    "* `(3,2) @ (3,2)` won't work\n",
    "* `(2,3) @ (3,2)` will work\n",
    "* `(3,2) @ (2,3)` will work\n",
    "2. The resulting matrix has the shape of the **outer dimensions**:\n",
    "* `(2,3) @ (3,2)` gives `(2,2)`\n"
   ]
  },
  {
   "cell_type": "code",
   "execution_count": 68,
   "id": "5cf04e87",
   "metadata": {},
   "outputs": [
    {
     "name": "stdout",
     "output_type": "stream",
     "text": [
      "tensor([1, 2, 3]) * tensor([1, 2, 3])\n",
      "Equals: tensor([1, 4, 9])\n"
     ]
    }
   ],
   "source": [
    "# element wise multiplication\n",
    "print(tensor, '*', tensor)\n",
    "print(f\"Equals: {tensor*tensor}\")"
   ]
  },
  {
   "cell_type": "code",
   "execution_count": 69,
   "id": "ba919498",
   "metadata": {},
   "outputs": [
    {
     "data": {
      "text/plain": [
       "tensor(14)"
      ]
     },
     "execution_count": 69,
     "metadata": {},
     "output_type": "execute_result"
    }
   ],
   "source": [
    "# Matrix multiplication\n",
    "torch.matmul(tensor, tensor)"
   ]
  },
  {
   "cell_type": "code",
   "execution_count": 70,
   "id": "3ff8a9fa",
   "metadata": {},
   "outputs": [
    {
     "name": "stdout",
     "output_type": "stream",
     "text": [
      "tensor([[3, 3],\n",
      "        [1, 0]]) \n",
      " tensor([[12, 11],\n",
      "        [ 9, 12]])\n"
     ]
    }
   ],
   "source": [
    "test22   = torch.randint(low=0, high=5, size=(2,2))\n",
    "test22_2 = torch.randint(low=6, high=13, size=(2,2))\n",
    "print(test22,'\\n', test22_2)"
   ]
  },
  {
   "cell_type": "code",
   "execution_count": 71,
   "id": "f2f4aeb4",
   "metadata": {},
   "outputs": [
    {
     "data": {
      "text/plain": [
       "tensor([[63, 69],\n",
       "        [12, 11]])"
      ]
     },
     "execution_count": 71,
     "metadata": {},
     "output_type": "execute_result"
    }
   ],
   "source": [
    "torch.matmul(test22, test22_2)"
   ]
  },
  {
   "cell_type": "code",
   "execution_count": 72,
   "id": "790bd967",
   "metadata": {},
   "outputs": [
    {
     "data": {
      "text/plain": [
       "tensor([5, 1, 4])"
      ]
     },
     "execution_count": 72,
     "metadata": {},
     "output_type": "execute_result"
    }
   ],
   "source": [
    "# testing dot product\n",
    "test12 = torch.tensor([5, 1, 4])\n",
    "test12"
   ]
  },
  {
   "cell_type": "code",
   "execution_count": 73,
   "id": "8736c761",
   "metadata": {},
   "outputs": [
    {
     "data": {
      "text/plain": [
       "torch.Size([3])"
      ]
     },
     "execution_count": 73,
     "metadata": {},
     "output_type": "execute_result"
    }
   ],
   "source": [
    "test12.shape"
   ]
  },
  {
   "cell_type": "code",
   "execution_count": 74,
   "id": "863ee5da",
   "metadata": {},
   "outputs": [],
   "source": [
    "# this wont work\n",
    "# torch.matmul(test22, test12);"
   ]
  },
  {
   "cell_type": "code",
   "execution_count": 75,
   "id": "3c407f9e",
   "metadata": {},
   "outputs": [
    {
     "data": {
      "text/plain": [
       "torch.Size([3, 3])"
      ]
     },
     "execution_count": 75,
     "metadata": {},
     "output_type": "execute_result"
    }
   ],
   "source": [
    "# Outer dimenstions will be the output (3,2)@(3,2) gives (3,3)\n",
    "torch.matmul(torch.rand(3,2), torch.rand(2,3)).shape"
   ]
  },
  {
   "cell_type": "code",
   "execution_count": 76,
   "id": "e5ca7337",
   "metadata": {},
   "outputs": [
    {
     "data": {
      "text/plain": [
       "torch.Size([4, 3])"
      ]
     },
     "execution_count": 76,
     "metadata": {},
     "output_type": "execute_result"
    }
   ],
   "source": [
    "torch.matmul(torch.rand(4,2), torch.rand(2,3)).shape"
   ]
  },
  {
   "cell_type": "markdown",
   "id": "72d55cff",
   "metadata": {},
   "source": [
    "#### One of the most commn errors in deep learning: shape error\n",
    "http://matrixmultiplication.xyz/"
   ]
  },
  {
   "cell_type": "code",
   "execution_count": 79,
   "id": "a6478306",
   "metadata": {},
   "outputs": [],
   "source": [
    "tensor_A = torch.tensor([[1,2],\n",
    "                         [3,4],\n",
    "                         [5,6]])\n",
    "tensor_B = torch.tensor([[7,1],\n",
    "                         [8,2],\n",
    "                         [9,3]])"
   ]
  },
  {
   "cell_type": "code",
   "execution_count": 78,
   "id": "70d3226a",
   "metadata": {},
   "outputs": [
    {
     "ename": "RuntimeError",
     "evalue": "mat1 and mat2 shapes cannot be multiplied (3x2 and 3x2)",
     "output_type": "error",
     "traceback": [
      "\u001b[1;31m---------------------------------------------------------------------------\u001b[0m",
      "\u001b[1;31mRuntimeError\u001b[0m                              Traceback (most recent call last)",
      "Cell \u001b[1;32mIn[78], line 1\u001b[0m\n\u001b[1;32m----> 1\u001b[0m \u001b[43mtorch\u001b[49m\u001b[38;5;241;43m.\u001b[39;49m\u001b[43mmm\u001b[49m\u001b[43m(\u001b[49m\u001b[43mtensor_A\u001b[49m\u001b[43m,\u001b[49m\u001b[43m \u001b[49m\u001b[43mtensor_B\u001b[49m\u001b[43m)\u001b[49m \u001b[38;5;66;03m# this results into an error\u001b[39;00m\n",
      "\u001b[1;31mRuntimeError\u001b[0m: mat1 and mat2 shapes cannot be multiplied (3x2 and 3x2)"
     ]
    }
   ],
   "source": [
    "torch.mm(tensor_A, tensor_B) # this results into an error"
   ]
  },
  {
   "cell_type": "markdown",
   "id": "59c5ebfe",
   "metadata": {},
   "source": [
    "### Transpose\n",
    "in order to overcome shape errors, we *transpose* our tensors\n"
   ]
  },
  {
   "cell_type": "code",
   "execution_count": 80,
   "id": "6e87dc23",
   "metadata": {},
   "outputs": [
    {
     "data": {
      "text/plain": [
       "tensor([[7, 8, 9],\n",
       "        [1, 2, 3]])"
      ]
     },
     "execution_count": 80,
     "metadata": {},
     "output_type": "execute_result"
    }
   ],
   "source": [
    "tensor_B.T"
   ]
  },
  {
   "cell_type": "code",
   "execution_count": 81,
   "id": "943850fa",
   "metadata": {},
   "outputs": [
    {
     "name": "stdout",
     "output_type": "stream",
     "text": [
      "tensor([[7, 8, 9],\n",
      "        [1, 2, 3]])\n"
     ]
    },
    {
     "data": {
      "text/plain": [
       "torch.Size([2, 3])"
      ]
     },
     "execution_count": 81,
     "metadata": {},
     "output_type": "execute_result"
    }
   ],
   "source": [
    "print(tensor_B.T)\n",
    "tensor_B.T.shape"
   ]
  },
  {
   "cell_type": "code",
   "execution_count": 82,
   "id": "87a3a46d",
   "metadata": {},
   "outputs": [
    {
     "data": {
      "text/plain": [
       "tensor([[ 9, 12, 15],\n",
       "        [25, 32, 39],\n",
       "        [41, 52, 63]])"
      ]
     },
     "execution_count": 82,
     "metadata": {},
     "output_type": "execute_result"
    }
   ],
   "source": [
    "torch.mm(tensor_A, tensor_B.T) # this works"
   ]
  },
  {
   "cell_type": "markdown",
   "id": "e079b034",
   "metadata": {},
   "source": [
    "## Finding the min, max, mean, sum, etc (tensor aggregation)"
   ]
  },
  {
   "cell_type": "code",
   "execution_count": 97,
   "id": "2d850cf2",
   "metadata": {},
   "outputs": [
    {
     "data": {
      "text/plain": [
       "tensor([ 2, 12, 22, 32, 42, 52, 62, 72, 82, 92])"
      ]
     },
     "execution_count": 97,
     "metadata": {},
     "output_type": "execute_result"
    }
   ],
   "source": [
    "# create a tensor\n",
    "x = torch.arange(1,100,10) + 1\n",
    "x"
   ]
  },
  {
   "cell_type": "code",
   "execution_count": 87,
   "id": "5d678ab3",
   "metadata": {},
   "outputs": [
    {
     "data": {
      "text/plain": [
       "(tensor(1), tensor(1))"
      ]
     },
     "execution_count": 87,
     "metadata": {},
     "output_type": "execute_result"
    }
   ],
   "source": [
    "# find min\n",
    "torch.min(x), x.min()"
   ]
  },
  {
   "cell_type": "code",
   "execution_count": 88,
   "id": "e99480f1",
   "metadata": {},
   "outputs": [
    {
     "data": {
      "text/plain": [
       "(tensor(91), tensor(91))"
      ]
     },
     "execution_count": 88,
     "metadata": {},
     "output_type": "execute_result"
    }
   ],
   "source": [
    "# max\n",
    "torch.max(x), x.max()"
   ]
  },
  {
   "cell_type": "code",
   "execution_count": 93,
   "id": "dd2fe211",
   "metadata": {},
   "outputs": [
    {
     "data": {
      "text/plain": [
       "(tensor(46.), tensor(46.))"
      ]
     },
     "execution_count": 93,
     "metadata": {},
     "output_type": "execute_result"
    }
   ],
   "source": [
    "# average\n",
    "torch.mean(x.type(torch.float32)), x.type(torch.float32).mean()"
   ]
  },
  {
   "cell_type": "code",
   "execution_count": 95,
   "id": "e6cf2434",
   "metadata": {},
   "outputs": [
    {
     "data": {
      "text/plain": [
       "(tensor(460), tensor(460))"
      ]
     },
     "execution_count": 95,
     "metadata": {},
     "output_type": "execute_result"
    }
   ],
   "source": [
    "# sum\n",
    "torch.sum(x), x.sum()"
   ]
  },
  {
   "cell_type": "markdown",
   "id": "7ee7568a",
   "metadata": {},
   "source": [
    "## Finding the positional min and max"
   ]
  },
  {
   "cell_type": "code",
   "execution_count": 96,
   "id": "25e32eb7",
   "metadata": {},
   "outputs": [
    {
     "data": {
      "text/plain": [
       "tensor([ 1, 11, 21, 31, 41, 51, 61, 71, 81, 91])"
      ]
     },
     "execution_count": 96,
     "metadata": {},
     "output_type": "execute_result"
    }
   ],
   "source": [
    "x"
   ]
  },
  {
   "cell_type": "code",
   "execution_count": 98,
   "id": "463134ac",
   "metadata": {},
   "outputs": [
    {
     "data": {
      "text/plain": [
       "tensor(0)"
      ]
     },
     "execution_count": 98,
     "metadata": {},
     "output_type": "execute_result"
    }
   ],
   "source": [
    "# Find the in the tensor that has the minimum value with argmin()-> returns index position of target tensor where the minimum value occurs\n",
    "x.argmin()"
   ]
  },
  {
   "cell_type": "code",
   "execution_count": 99,
   "id": "78b7723f",
   "metadata": {},
   "outputs": [
    {
     "data": {
      "text/plain": [
       "tensor(2)"
      ]
     },
     "execution_count": 99,
     "metadata": {},
     "output_type": "execute_result"
    }
   ],
   "source": [
    "x[0]"
   ]
  },
  {
   "cell_type": "code",
   "execution_count": 100,
   "id": "f8279a1a",
   "metadata": {},
   "outputs": [
    {
     "data": {
      "text/plain": [
       "tensor(9)"
      ]
     },
     "execution_count": 100,
     "metadata": {},
     "output_type": "execute_result"
    }
   ],
   "source": [
    "# Find the position in tensor that has the maximum value with argmax()\n",
    "x.argmax()"
   ]
  },
  {
   "cell_type": "code",
   "execution_count": 101,
   "id": "19a2c36f",
   "metadata": {},
   "outputs": [
    {
     "data": {
      "text/plain": [
       "tensor(92)"
      ]
     },
     "execution_count": 101,
     "metadata": {},
     "output_type": "execute_result"
    }
   ],
   "source": [
    "x[9]"
   ]
  },
  {
   "cell_type": "markdown",
   "id": "fa6f64d1",
   "metadata": {},
   "source": [
    "## Reshaping, stacking, squeezing and unsqueezing tensors\n",
    "\n",
    "* Reshaping - reshapes input tensor to a defined shape\n",
    "* View - Return a view of an input tensor of certain shape but keep the same memory as the original tensor\n",
    "* Stacking -  combine multiple tensors on top of each other (vstack) or side by side (hstack) (v is vertical h is horizontal)\n",
    "* Squeeze - removes all `1` dimensions from a tensor \n",
    "* Unsqueeze - add a `1` dimensions to a target tensor\n",
    "* Permute - Return a view of the input with dimensions permuted (swapped) in a certain way"
   ]
  },
  {
   "cell_type": "markdown",
   "id": "f20e3a5f",
   "metadata": {},
   "source": []
  },
  {
   "cell_type": "code",
   "execution_count": 102,
   "id": "174a4fc7",
   "metadata": {},
   "outputs": [
    {
     "data": {
      "text/plain": [
       "(tensor([1., 2., 3., 4., 5., 6., 7., 8., 9.]), torch.Size([9]))"
      ]
     },
     "execution_count": 102,
     "metadata": {},
     "output_type": "execute_result"
    }
   ],
   "source": [
    "# let's create a tensor\n",
    "import torch\n",
    "x = torch.arange(1.,10.)\n",
    "x, x.shape"
   ]
  },
  {
   "cell_type": "code",
   "execution_count": 103,
   "id": "11d052b4",
   "metadata": {},
   "outputs": [
    {
     "data": {
      "text/plain": [
       "torch.float32"
      ]
     },
     "execution_count": 103,
     "metadata": {},
     "output_type": "execute_result"
    }
   ],
   "source": [
    "x.dtype"
   ]
  },
  {
   "cell_type": "code",
   "execution_count": 106,
   "id": "543914ff",
   "metadata": {},
   "outputs": [
    {
     "data": {
      "text/plain": [
       "tensor([[1., 2., 3., 4., 5., 6., 7., 8., 9.]])"
      ]
     },
     "execution_count": 106,
     "metadata": {},
     "output_type": "execute_result"
    }
   ],
   "source": [
    "# add an extra dimension\n",
    "x_reshaped = x.reshape(1,9)\n",
    "x_reshaped"
   ]
  },
  {
   "cell_type": "code",
   "execution_count": 108,
   "id": "83871b52",
   "metadata": {},
   "outputs": [
    {
     "data": {
      "text/plain": [
       "tensor([[1.],\n",
       "        [2.],\n",
       "        [3.],\n",
       "        [4.],\n",
       "        [5.],\n",
       "        [6.],\n",
       "        [7.],\n",
       "        [8.],\n",
       "        [9.]])"
      ]
     },
     "execution_count": 108,
     "metadata": {},
     "output_type": "execute_result"
    }
   ],
   "source": [
    "x_reshaped = x.reshape(9,1)\n",
    "x_reshaped"
   ]
  },
  {
   "cell_type": "code",
   "execution_count": 109,
   "id": "4fcc9a93",
   "metadata": {},
   "outputs": [
    {
     "data": {
      "text/plain": [
       "(tensor([[1., 2., 3., 4., 5., 6., 7., 8., 9.]]), torch.Size([1, 9]))"
      ]
     },
     "execution_count": 109,
     "metadata": {},
     "output_type": "execute_result"
    }
   ],
   "source": [
    "# change view\n",
    "z = x.view(1,9)\n",
    "z, z.shape"
   ]
  },
  {
   "cell_type": "code",
   "execution_count": 111,
   "id": "c8df71bc",
   "metadata": {},
   "outputs": [
    {
     "data": {
      "text/plain": [
       "(tensor([[5., 2., 3., 4., 5., 6., 7., 8., 9.]]),\n",
       " tensor([5., 2., 3., 4., 5., 6., 7., 8., 9.]))"
      ]
     },
     "execution_count": 111,
     "metadata": {},
     "output_type": "execute_result"
    }
   ],
   "source": [
    "# changing z changes x (the share same memory and they technically same things)\n",
    "z[:,0] = 5\n",
    "z,x"
   ]
  },
  {
   "cell_type": "code",
   "execution_count": 114,
   "id": "7ad17987",
   "metadata": {},
   "outputs": [
    {
     "data": {
      "text/plain": [
       "tensor([[5., 2., 3., 4., 5., 6., 7., 8., 9.],\n",
       "        [5., 2., 3., 4., 5., 6., 7., 8., 9.],\n",
       "        [5., 2., 3., 4., 5., 6., 7., 8., 9.],\n",
       "        [5., 2., 3., 4., 5., 6., 7., 8., 9.]])"
      ]
     },
     "execution_count": 114,
     "metadata": {},
     "output_type": "execute_result"
    }
   ],
   "source": [
    "# Stack tensor on top of each other\n",
    "x_stacked = torch.stack([x, x,x,x], dim=0)\n",
    "x_stacked"
   ]
  },
  {
   "cell_type": "code",
   "execution_count": 115,
   "id": "48527fbf",
   "metadata": {},
   "outputs": [
    {
     "data": {
      "text/plain": [
       "tensor([[5., 5., 5., 5.],\n",
       "        [2., 2., 2., 2.],\n",
       "        [3., 3., 3., 3.],\n",
       "        [4., 4., 4., 4.],\n",
       "        [5., 5., 5., 5.],\n",
       "        [6., 6., 6., 6.],\n",
       "        [7., 7., 7., 7.],\n",
       "        [8., 8., 8., 8.],\n",
       "        [9., 9., 9., 9.]])"
      ]
     },
     "execution_count": 115,
     "metadata": {},
     "output_type": "execute_result"
    }
   ],
   "source": [
    "x_stacked = torch.stack([x, x,x,x], dim=1)\n",
    "x_stacked"
   ]
  },
  {
   "cell_type": "code",
   "execution_count": 129,
   "id": "72bd9a03",
   "metadata": {},
   "outputs": [
    {
     "data": {
      "text/plain": [
       "(torch.Size([9, 4]), torch.Size([9, 4]))"
      ]
     },
     "execution_count": 129,
     "metadata": {},
     "output_type": "execute_result"
    }
   ],
   "source": [
    "# Squeeze\n",
    "x_stacked.size(), torch.squeeze(x_stacked, -2).size()"
   ]
  },
  {
   "cell_type": "code",
   "execution_count": 130,
   "id": "fe73b00d",
   "metadata": {},
   "outputs": [],
   "source": [
    "x = torch.zeros(2, 1, 2, 1, 2)\n",
    "x.size()\n",
    "\n",
    "y = torch.squeeze(x, 0)\n",
    "y.size()\n",
    "\n"
   ]
  },
  {
   "cell_type": "code",
   "execution_count": 133,
   "id": "1fc0e2e4",
   "metadata": {},
   "outputs": [
    {
     "data": {
      "text/plain": [
       "torch.Size([2, 1, 2, 1, 2])"
      ]
     },
     "execution_count": 133,
     "metadata": {},
     "output_type": "execute_result"
    }
   ],
   "source": [
    "x.size()"
   ]
  },
  {
   "cell_type": "code",
   "execution_count": 134,
   "id": "da99d81c",
   "metadata": {},
   "outputs": [
    {
     "data": {
      "text/plain": [
       "torch.Size([2, 2, 2])"
      ]
     },
     "execution_count": 134,
     "metadata": {},
     "output_type": "execute_result"
    }
   ],
   "source": [
    "y = torch.squeeze(x)\n",
    "y.size()"
   ]
  },
  {
   "cell_type": "code",
   "execution_count": 135,
   "id": "bbb1fc04",
   "metadata": {},
   "outputs": [
    {
     "data": {
      "text/plain": [
       "torch.Size([2, 2, 1, 2])"
      ]
     },
     "execution_count": 135,
     "metadata": {},
     "output_type": "execute_result"
    }
   ],
   "source": [
    "y = torch.squeeze(x, 1)\n",
    "y.size()"
   ]
  },
  {
   "cell_type": "code",
   "execution_count": 136,
   "id": "79963ce4",
   "metadata": {},
   "outputs": [
    {
     "data": {
      "text/plain": [
       "torch.Size([2, 2, 2])"
      ]
     },
     "execution_count": 136,
     "metadata": {},
     "output_type": "execute_result"
    }
   ],
   "source": [
    "y = torch.squeeze(x, (1, 2, 3))\n",
    "y.size()"
   ]
  },
  {
   "cell_type": "code",
   "execution_count": 137,
   "id": "e32b702d",
   "metadata": {},
   "outputs": [
    {
     "data": {
      "text/plain": [
       "tensor([[1., 2., 3., 4., 5., 6., 7., 8., 9.]])"
      ]
     },
     "execution_count": 137,
     "metadata": {},
     "output_type": "execute_result"
    }
   ],
   "source": [
    "x = torch.arange(1., 10.)\n",
    "x_reshaped = x.reshape(1,9)\n",
    "x_reshaped"
   ]
  },
  {
   "cell_type": "code",
   "execution_count": 139,
   "id": "50f44ce3",
   "metadata": {},
   "outputs": [
    {
     "data": {
      "text/plain": [
       "torch.Size([1, 9])"
      ]
     },
     "execution_count": 139,
     "metadata": {},
     "output_type": "execute_result"
    }
   ],
   "source": [
    "x_reshaped.size()"
   ]
  },
  {
   "cell_type": "code",
   "execution_count": 141,
   "id": "a94c28b4",
   "metadata": {},
   "outputs": [
    {
     "data": {
      "text/plain": [
       "tensor([1., 2., 3., 4., 5., 6., 7., 8., 9.])"
      ]
     },
     "execution_count": 141,
     "metadata": {},
     "output_type": "execute_result"
    }
   ],
   "source": [
    "x_reshaped.squeeze()"
   ]
  },
  {
   "cell_type": "code",
   "execution_count": 142,
   "id": "1649c2da",
   "metadata": {},
   "outputs": [
    {
     "data": {
      "text/plain": [
       "torch.Size([9])"
      ]
     },
     "execution_count": 142,
     "metadata": {},
     "output_type": "execute_result"
    }
   ],
   "source": [
    "x_reshaped.squeeze().shape"
   ]
  },
  {
   "cell_type": "code",
   "execution_count": 143,
   "id": "8a68db72",
   "metadata": {},
   "outputs": [
    {
     "name": "stdout",
     "output_type": "stream",
     "text": [
      "Previous tensor : tensor([[1., 2., 3., 4., 5., 6., 7., 8., 9.]])\n",
      "Previous shape: torch.Size([1, 9])\n",
      "New tensor : tensor([1., 2., 3., 4., 5., 6., 7., 8., 9.])\n",
      "New shape : torch.Size([9])\n"
     ]
    }
   ],
   "source": [
    "print(f\"Previous tensor : {x_reshaped}\")\n",
    "print(f\"Previous shape: {x_reshaped.shape}\")\n",
    "\n",
    "print(f\"New tensor : {x_reshaped.squeeze()}\") # this removes one blacket\n",
    "print(f\"New shape : {x_reshaped.squeeze().shape}\")"
   ]
  },
  {
   "cell_type": "code",
   "execution_count": 145,
   "id": "06bc7dcf",
   "metadata": {},
   "outputs": [
    {
     "name": "stdout",
     "output_type": "stream",
     "text": [
      "Previous target: tensor([1., 2., 3., 4., 5., 6., 7., 8., 9.])\n",
      "Previous shape: torch.Size([9])\n",
      "New target: tensor([[1., 2., 3., 4., 5., 6., 7., 8., 9.]])\n",
      "New shape: torch.Size([1, 9])\n"
     ]
    }
   ],
   "source": [
    "# torch.unsqueeze() - adds a single dimension to a target tensor at a specific dim (vertical or horizontal)\n",
    "x_squeezed = x_reshaped.squeeze()\n",
    "print(f\"Previous target: {x_squeezed}\")\n",
    "print(f\"Previous shape: {x_squeezed.shape}\")\n",
    "\n",
    "# add extra dimension\n",
    "x_unsqueezed = x_squeezed.unsqueeze(dim=0)\n",
    "\n",
    "print(f\"New target: {x_unsqueezed}\")\n",
    "print(f\"New shape: {x_unsqueezed.shape}\")\n"
   ]
  },
  {
   "cell_type": "code",
   "execution_count": 146,
   "id": "62decfb0",
   "metadata": {},
   "outputs": [
    {
     "name": "stdout",
     "output_type": "stream",
     "text": [
      "New target: tensor([[1.],\n",
      "        [2.],\n",
      "        [3.],\n",
      "        [4.],\n",
      "        [5.],\n",
      "        [6.],\n",
      "        [7.],\n",
      "        [8.],\n",
      "        [9.]])\n",
      "New shape: torch.Size([9, 1])\n"
     ]
    }
   ],
   "source": [
    "# add extra dimension\n",
    "x_unsqueezed = x_squeezed.unsqueeze(dim=1)\n",
    "\n",
    "print(f\"New target: {x_unsqueezed}\")\n",
    "print(f\"New shape: {x_unsqueezed.shape}\")"
   ]
  },
  {
   "cell_type": "markdown",
   "id": "8de24f6b",
   "metadata": {},
   "source": [
    "## Permute - rearranges the dimensions of a target in a specific order\n",
    "\n"
   ]
  },
  {
   "cell_type": "code",
   "execution_count": 148,
   "id": "c5caa4b7",
   "metadata": {},
   "outputs": [
    {
     "name": "stdout",
     "output_type": "stream",
     "text": [
      "torch.Size([224, 224, 3])\n",
      "torch.Size([3, 224, 224])\n"
     ]
    }
   ],
   "source": [
    "x_original = torch.rand(size = (224, 224, 3)) #height width and color\n",
    "print(x_original.shape)\n",
    "\n",
    "# permute the original tensor to rearrange the axis (or dim) order\n",
    "\n",
    "x_permuted = x_original.permute(2,0,1) # shift axis 0->1, 1->2, 2->0\n",
    "print(x_permuted.shape)"
   ]
  },
  {
   "cell_type": "code",
   "execution_count": 150,
   "id": "538b1d57",
   "metadata": {},
   "outputs": [
    {
     "name": "stdout",
     "output_type": "stream",
     "text": [
      "torch.Size([5, 5, 3])\n"
     ]
    },
    {
     "data": {
      "text/plain": [
       "tensor([[[0.3474, 0.1166, 0.2591],\n",
       "         [0.0804, 0.6707, 0.2048],\n",
       "         [0.6320, 0.9148, 0.5595],\n",
       "         [0.6056, 0.6369, 0.9347],\n",
       "         [0.5436, 0.1846, 0.9779]],\n",
       "\n",
       "        [[0.3759, 0.4521, 0.3060],\n",
       "         [0.4214, 0.0033, 0.9985],\n",
       "         [0.5127, 0.5240, 0.6872],\n",
       "         [0.7123, 0.5613, 0.7903],\n",
       "         [0.4880, 0.7939, 0.7612]],\n",
       "\n",
       "        [[0.5200, 0.9190, 0.8586],\n",
       "         [0.2616, 0.8788, 0.5516],\n",
       "         [0.8113, 0.0380, 0.2469],\n",
       "         [0.1021, 0.9174, 0.6076],\n",
       "         [0.8927, 0.0755, 0.0170]],\n",
       "\n",
       "        [[0.3754, 0.5652, 0.4497],\n",
       "         [0.6007, 0.2076, 0.6277],\n",
       "         [0.6171, 0.2341, 0.0788],\n",
       "         [0.0579, 0.8323, 0.1707],\n",
       "         [0.4306, 0.2778, 0.8251]],\n",
       "\n",
       "        [[0.1453, 0.4257, 0.6474],\n",
       "         [0.3913, 0.4612, 0.6796],\n",
       "         [0.3597, 0.8915, 0.0611],\n",
       "         [0.3607, 0.0262, 0.6734],\n",
       "         [0.6283, 0.9063, 0.5743]]])"
      ]
     },
     "execution_count": 150,
     "metadata": {},
     "output_type": "execute_result"
    }
   ],
   "source": [
    "another_test = torch.rand(size=(5,5,3))\n",
    "print(another_test.shape)\n",
    "another_test"
   ]
  },
  {
   "cell_type": "code",
   "execution_count": 152,
   "id": "3862b17b",
   "metadata": {},
   "outputs": [
    {
     "name": "stdout",
     "output_type": "stream",
     "text": [
      "torch.Size([3, 5, 5])\n"
     ]
    },
    {
     "data": {
      "text/plain": [
       "tensor([[[0.3474, 0.0804, 0.6320, 0.6056, 0.5436],\n",
       "         [0.3759, 0.4214, 0.5127, 0.7123, 0.4880],\n",
       "         [0.5200, 0.2616, 0.8113, 0.1021, 0.8927],\n",
       "         [0.3754, 0.6007, 0.6171, 0.0579, 0.4306],\n",
       "         [0.1453, 0.3913, 0.3597, 0.3607, 0.6283]],\n",
       "\n",
       "        [[0.1166, 0.6707, 0.9148, 0.6369, 0.1846],\n",
       "         [0.4521, 0.0033, 0.5240, 0.5613, 0.7939],\n",
       "         [0.9190, 0.8788, 0.0380, 0.9174, 0.0755],\n",
       "         [0.5652, 0.2076, 0.2341, 0.8323, 0.2778],\n",
       "         [0.4257, 0.4612, 0.8915, 0.0262, 0.9063]],\n",
       "\n",
       "        [[0.2591, 0.2048, 0.5595, 0.9347, 0.9779],\n",
       "         [0.3060, 0.9985, 0.6872, 0.7903, 0.7612],\n",
       "         [0.8586, 0.5516, 0.2469, 0.6076, 0.0170],\n",
       "         [0.4497, 0.6277, 0.0788, 0.1707, 0.8251],\n",
       "         [0.6474, 0.6796, 0.0611, 0.6734, 0.5743]]])"
      ]
     },
     "execution_count": 152,
     "metadata": {},
     "output_type": "execute_result"
    }
   ],
   "source": [
    "another_permuted = another_test.permute(2,0,1)\n",
    "print(another_permuted.shape)\n",
    "another_permuted"
   ]
  },
  {
   "cell_type": "code",
   "execution_count": 157,
   "id": "66d604e2",
   "metadata": {},
   "outputs": [],
   "source": [
    "another_test[0,0,0] = 10"
   ]
  },
  {
   "cell_type": "code",
   "execution_count": 158,
   "id": "900fd631",
   "metadata": {},
   "outputs": [
    {
     "data": {
      "text/plain": [
       "tensor(10.)"
      ]
     },
     "execution_count": 158,
     "metadata": {},
     "output_type": "execute_result"
    }
   ],
   "source": [
    "another_permuted[0,0,0]"
   ]
  },
  {
   "cell_type": "markdown",
   "id": "f5ffaef3",
   "metadata": {},
   "source": [
    "### Indexing (selecting data from a tensors)\n",
    "indexing with pyTorch is similar to indexing with Numpy"
   ]
  },
  {
   "cell_type": "code",
   "execution_count": 165,
   "id": "cb1dfca5",
   "metadata": {},
   "outputs": [
    {
     "name": "stdout",
     "output_type": "stream",
     "text": [
      "torch.Size([9]) tensor([1, 2, 3, 4, 5, 6, 7, 8, 9])\n",
      "torch.Size([1, 3, 3])\n"
     ]
    },
    {
     "data": {
      "text/plain": [
       "tensor([[[1, 2, 3],\n",
       "         [4, 5, 6],\n",
       "         [7, 8, 9]]])"
      ]
     },
     "execution_count": 165,
     "metadata": {},
     "output_type": "execute_result"
    }
   ],
   "source": [
    "import torch\n",
    "\n",
    "x = torch.arange(1,10)\n",
    "print(x.shape, x)\n",
    "x = x.reshape(1,3,3)\n",
    "print(x.shape)\n",
    "x"
   ]
  },
  {
   "cell_type": "code",
   "execution_count": 164,
   "id": "593fe947",
   "metadata": {},
   "outputs": [
    {
     "data": {
      "text/plain": [
       "tensor(1)"
      ]
     },
     "execution_count": 164,
     "metadata": {},
     "output_type": "execute_result"
    }
   ],
   "source": [
    "x[0][0][0]"
   ]
  },
  {
   "cell_type": "code",
   "execution_count": 166,
   "id": "271e93ce",
   "metadata": {},
   "outputs": [
    {
     "data": {
      "text/plain": [
       "tensor(9)"
      ]
     },
     "execution_count": 166,
     "metadata": {},
     "output_type": "execute_result"
    }
   ],
   "source": [
    "x[0,2,2]"
   ]
  },
  {
   "cell_type": "code",
   "execution_count": 176,
   "id": "aa7cc15a",
   "metadata": {},
   "outputs": [
    {
     "name": "stdout",
     "output_type": "stream",
     "text": [
      "first column tensor([[1, 4, 7]])\n",
      "Second column tensor([[2, 5, 8]])\n",
      "Third column tensor([[3, 6, 9]])\n"
     ]
    }
   ],
   "source": [
    "# in this example, the last value will always return a column\n",
    "print(f\"first column {x[:,:,0]}\")\n",
    "print(f\"Second column {x[:,:,1]}\")\n",
    "print(f\"Third column {x[:,:,2]}\")"
   ]
  },
  {
   "cell_type": "code",
   "execution_count": 177,
   "id": "7f760575",
   "metadata": {},
   "outputs": [
    {
     "name": "stdout",
     "output_type": "stream",
     "text": [
      "first row tensor([[1, 2, 3]])\n",
      "Second row tensor([[4, 5, 6]])\n",
      "Third row tensor([[7, 8, 9]])\n"
     ]
    }
   ],
   "source": [
    "# in this example, the middle value will always return a row\n",
    "print(f\"first row {x[:,0, :]}\")\n",
    "print(f\"Second row {x[:,1, :]}\")\n",
    "print(f\"Third row {x[:,2, :]}\")"
   ]
  },
  {
   "cell_type": "markdown",
   "id": "9c284591",
   "metadata": {},
   "source": [
    "### PyTorch tensors & Numpy\n",
    "Numpy is a popular scientific python numerical computing library\n",
    "PyTorch interacts with it\n",
    "* Data in NumPy can be made Tensors `torch.from_numpy(ndarray)`\n",
    "* From PyTorch to Numpy `torch.Tensor.numpy`"
   ]
  },
  {
   "cell_type": "code",
   "execution_count": 178,
   "id": "e9112952",
   "metadata": {},
   "outputs": [],
   "source": [
    "import torch\n",
    "import numpy as np"
   ]
  },
  {
   "cell_type": "code",
   "execution_count": 181,
   "id": "0c528a8c",
   "metadata": {},
   "outputs": [
    {
     "name": "stdout",
     "output_type": "stream",
     "text": [
      "[1. 2. 3. 4. 5. 6. 7.]\n",
      "tensor([1., 2., 3., 4., 5., 6., 7.], dtype=torch.float64)\n"
     ]
    }
   ],
   "source": [
    "array = np.arange(1., 8.) # default dtype is float64 and thus this will be carried over to tensor\n",
    "print(array)\n",
    "tensor = torch.from_numpy(array)\n",
    "print(tensor)"
   ]
  },
  {
   "cell_type": "code",
   "execution_count": 182,
   "id": "ba0b8893",
   "metadata": {},
   "outputs": [
    {
     "data": {
      "text/plain": [
       "(tensor([1., 1., 1., 1., 1., 1., 1., 1., 1., 1.]),\n",
       " array([1., 1., 1., 1., 1., 1., 1., 1., 1., 1.], dtype=float32))"
      ]
     },
     "execution_count": 182,
     "metadata": {},
     "output_type": "execute_result"
    }
   ],
   "source": [
    "# Tensor to Numpy array\n",
    "tensor = torch.ones(10)\n",
    "numpy_tensor = tensor.numpy()\n",
    "tensor, numpy_tensor"
   ]
  },
  {
   "cell_type": "code",
   "execution_count": 183,
   "id": "45f2837a",
   "metadata": {},
   "outputs": [
    {
     "data": {
      "text/plain": [
       "dtype('float32')"
      ]
     },
     "execution_count": 183,
     "metadata": {},
     "output_type": "execute_result"
    }
   ],
   "source": [
    "numpy_tensor.dtype"
   ]
  },
  {
   "cell_type": "markdown",
   "id": "f508af36",
   "metadata": {},
   "source": [
    "### Reproducibility (trying to take the random out of random)"
   ]
  },
  {
   "cell_type": "code",
   "execution_count": 2,
   "id": "56c06372",
   "metadata": {},
   "outputs": [
    {
     "ename": "OSError",
     "evalue": "[WinError 126] The specified module could not be found. Error loading \"C:\\Users\\herve\\AppData\\Local\\Programs\\Python\\Python311\\Lib\\site-packages\\torch\\lib\\fbgemm.dll\" or one of its dependencies.",
     "output_type": "error",
     "traceback": [
      "\u001b[1;31m---------------------------------------------------------------------------\u001b[0m",
      "\u001b[1;31mOSError\u001b[0m                                   Traceback (most recent call last)",
      "Cell \u001b[1;32mIn[2], line 1\u001b[0m\n\u001b[1;32m----> 1\u001b[0m \u001b[38;5;28;01mimport\u001b[39;00m \u001b[38;5;21;01mtorch\u001b[39;00m\n",
      "File \u001b[1;32m~\\AppData\\Local\\Programs\\Python\\Python311\\Lib\\site-packages\\torch\\__init__.py:148\u001b[0m\n\u001b[0;32m    146\u001b[0m                 err \u001b[38;5;241m=\u001b[39m ctypes\u001b[38;5;241m.\u001b[39mWinError(ctypes\u001b[38;5;241m.\u001b[39mget_last_error())\n\u001b[0;32m    147\u001b[0m                 err\u001b[38;5;241m.\u001b[39mstrerror \u001b[38;5;241m+\u001b[39m\u001b[38;5;241m=\u001b[39m \u001b[38;5;124mf\u001b[39m\u001b[38;5;124m'\u001b[39m\u001b[38;5;124m Error loading \u001b[39m\u001b[38;5;124m\"\u001b[39m\u001b[38;5;132;01m{\u001b[39;00mdll\u001b[38;5;132;01m}\u001b[39;00m\u001b[38;5;124m\"\u001b[39m\u001b[38;5;124m or one of its dependencies.\u001b[39m\u001b[38;5;124m'\u001b[39m\n\u001b[1;32m--> 148\u001b[0m                 \u001b[38;5;28;01mraise\u001b[39;00m err\n\u001b[0;32m    150\u001b[0m     kernel32\u001b[38;5;241m.\u001b[39mSetErrorMode(prev_error_mode)\n\u001b[0;32m    153\u001b[0m \u001b[38;5;28;01mdef\u001b[39;00m \u001b[38;5;21m_preload_cuda_deps\u001b[39m(lib_folder, lib_name):\n",
      "\u001b[1;31mOSError\u001b[0m: [WinError 126] The specified module could not be found. Error loading \"C:\\Users\\herve\\AppData\\Local\\Programs\\Python\\Python311\\Lib\\site-packages\\torch\\lib\\fbgemm.dll\" or one of its dependencies."
     ]
    }
   ],
   "source": [
    "import torch"
   ]
  },
  {
   "cell_type": "code",
   "execution_count": null,
   "id": "9730ee1b",
   "metadata": {},
   "outputs": [],
   "source": []
  },
  {
   "cell_type": "code",
   "execution_count": null,
   "id": "6400e789",
   "metadata": {},
   "outputs": [],
   "source": []
  },
  {
   "cell_type": "code",
   "execution_count": null,
   "id": "57a8bb04",
   "metadata": {},
   "outputs": [],
   "source": []
  },
  {
   "cell_type": "code",
   "execution_count": null,
   "id": "23b3430b",
   "metadata": {},
   "outputs": [],
   "source": []
  },
  {
   "cell_type": "code",
   "execution_count": null,
   "id": "1b69071f",
   "metadata": {},
   "outputs": [],
   "source": []
  },
  {
   "cell_type": "code",
   "execution_count": null,
   "id": "0a51817b",
   "metadata": {},
   "outputs": [],
   "source": []
  },
  {
   "cell_type": "markdown",
   "id": "ec1700da",
   "metadata": {},
   "source": []
  },
  {
   "cell_type": "markdown",
   "id": "983ccbde",
   "metadata": {},
   "source": []
  }
 ],
 "metadata": {
  "kernelspec": {
   "display_name": "Python 3 (ipykernel)",
   "language": "python",
   "name": "python3"
  },
  "language_info": {
   "codemirror_mode": {
    "name": "ipython",
    "version": 3
   },
   "file_extension": ".py",
   "mimetype": "text/x-python",
   "name": "python",
   "nbconvert_exporter": "python",
   "pygments_lexer": "ipython3",
   "version": "3.12.5"
  }
 },
 "nbformat": 4,
 "nbformat_minor": 5
}
