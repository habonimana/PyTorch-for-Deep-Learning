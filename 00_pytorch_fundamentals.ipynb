{
 "cells": [
  {
   "cell_type": "markdown",
   "id": "cd1b3e5f-b260-44d9-bc82-9bea30a720eb",
   "metadata": {},
   "source": [
    "## 00. Pytorch Fundamentals\n",
    "\n",
    "*   List item\n",
    "*   List item\n",
    "\n",
    "\n",
    "Resource notebook: https://github.com/mrdbourke/pytorch-deep-learning/blob/main/00_pytorch_fundamentals.ipynb\n",
    "\n",
    "questions: https://github.com/mrdbourke/pytorch-deep-learning/discussions"
   ]
  },
  {
   "cell_type": "code",
   "execution_count": 88,
   "id": "f1b69466-36fc-4887-946d-d7cc1828c85e",
   "metadata": {},
   "outputs": [
    {
     "name": "stdout",
     "output_type": "stream",
     "text": [
      "2.3.0+cpu\n"
     ]
    }
   ],
   "source": [
    "import torch\n",
    "import pandas as pd\n",
    "import numpy as np\n",
    "import matplotlib.pyplot as plt\n",
    "print(torch.__version__)"
   ]
  },
  {
   "cell_type": "code",
   "execution_count": 89,
   "id": "9c2a29b4-90cd-45c6-b131-3bec14c4f855",
   "metadata": {},
   "outputs": [
    {
     "data": {
      "text/plain": [
       "3"
      ]
     },
     "execution_count": 89,
     "metadata": {},
     "output_type": "execute_result"
    }
   ],
   "source": [
    "TENSOR = torch.tensor([[[1,2,3,9],\n",
    "                        [3,6,9,9],\n",
    "                        [2,4,5,9],\n",
    "                        [1,2,3,4]],\n",
    "                       [[1,2,3,9],\n",
    "                        [3,6,9,9],\n",
    "                        [2,4,5,9],\n",
    "                        [1,2,3,4]]\n",
    "                       ])\n",
    "TENSOR.ndim"
   ]
  },
  {
   "cell_type": "markdown",
   "id": "9f3cb70d",
   "metadata": {},
   "source": [
    "# Random Tensors\n",
    "` start with random numbers -> look at data -> update random -> look at data -> update random`"
   ]
  },
  {
   "cell_type": "code",
   "execution_count": 90,
   "id": "6b8c373d",
   "metadata": {},
   "outputs": [
    {
     "data": {
      "text/plain": [
       "tensor([[0.0163, 0.9022, 0.0770, 0.4494],\n",
       "        [0.8670, 0.2528, 0.4688, 0.8232],\n",
       "        [0.1825, 0.4031, 0.8273, 0.8052]])"
      ]
     },
     "execution_count": 90,
     "metadata": {},
     "output_type": "execute_result"
    }
   ],
   "source": [
    "# create a random tensor\n",
    "random_tensor = torch.rand(3,4)\n",
    "random_tensor"
   ]
  },
  {
   "cell_type": "code",
   "execution_count": 91,
   "id": "93547bcd",
   "metadata": {},
   "outputs": [
    {
     "data": {
      "text/plain": [
       "2"
      ]
     },
     "execution_count": 91,
     "metadata": {},
     "output_type": "execute_result"
    }
   ],
   "source": [
    "random_tensor.ndim"
   ]
  },
  {
   "cell_type": "code",
   "execution_count": 92,
   "id": "73386c88",
   "metadata": {},
   "outputs": [
    {
     "data": {
      "text/plain": [
       "tensor([[[0.4657, 0.2648, 0.9879,  ..., 0.1943, 0.0953, 0.1166],\n",
       "         [0.1869, 0.8783, 0.8610,  ..., 0.5851, 0.8779, 0.5024],\n",
       "         [0.2896, 0.2771, 0.2535,  ..., 0.6231, 0.4145, 0.9096],\n",
       "         ...,\n",
       "         [0.9726, 0.3420, 0.4964,  ..., 0.0635, 0.7266, 0.9954],\n",
       "         [0.4929, 0.0748, 0.2736,  ..., 0.9052, 0.6710, 0.3969],\n",
       "         [0.3013, 0.3647, 0.9984,  ..., 0.6287, 0.5693, 0.6764]],\n",
       "\n",
       "        [[0.7959, 0.4452, 0.3128,  ..., 0.4214, 0.9604, 0.6456],\n",
       "         [0.9167, 0.2868, 0.6074,  ..., 0.1786, 0.5632, 0.6286],\n",
       "         [0.2890, 0.7193, 0.2263,  ..., 0.2577, 0.9568, 0.6645],\n",
       "         ...,\n",
       "         [0.6776, 0.6912, 0.9649,  ..., 0.0558, 0.7742, 0.4429],\n",
       "         [0.4135, 0.9883, 0.4958,  ..., 0.9234, 0.4425, 0.1688],\n",
       "         [0.0440, 0.6590, 0.7793,  ..., 0.9350, 0.0994, 0.0625]],\n",
       "\n",
       "        [[0.8529, 0.9272, 0.8555,  ..., 0.0013, 0.7416, 0.3809],\n",
       "         [0.2993, 0.9537, 0.8510,  ..., 0.1897, 0.1274, 0.2415],\n",
       "         [0.0065, 0.9951, 0.7164,  ..., 0.4632, 0.1519, 0.1869],\n",
       "         ...,\n",
       "         [0.2910, 0.9749, 0.9626,  ..., 0.5219, 0.9549, 0.9370],\n",
       "         [0.5951, 0.5990, 0.5834,  ..., 0.7954, 0.2863, 0.1588],\n",
       "         [0.7245, 0.7118, 0.7617,  ..., 0.1296, 0.7382, 0.3566]]])"
      ]
     },
     "execution_count": 92,
     "metadata": {},
     "output_type": "execute_result"
    }
   ],
   "source": [
    "# Create a random tensor with similar shape to an image\n",
    "random_image_size_tensor = torch.rand(size=(3, 244, 244))\n",
    "random_image_size_tensor"
   ]
  },
  {
   "cell_type": "code",
   "execution_count": 93,
   "id": "4bd9f2f4",
   "metadata": {},
   "outputs": [
    {
     "data": {
      "text/plain": [
       "(3, torch.Size([3, 244, 244]))"
      ]
     },
     "execution_count": 93,
     "metadata": {},
     "output_type": "execute_result"
    }
   ],
   "source": [
    "random_image_size_tensor.ndim, random_image_size_tensor.shape"
   ]
  },
  {
   "cell_type": "markdown",
   "id": "5d2c1e2d",
   "metadata": {},
   "source": [
    "# Zeros and Ones \n",
    "useful for masks"
   ]
  },
  {
   "cell_type": "code",
   "execution_count": 94,
   "id": "47819971",
   "metadata": {},
   "outputs": [
    {
     "data": {
      "text/plain": [
       "tensor([[0., 0., 0., 0.],\n",
       "        [0., 0., 0., 0.],\n",
       "        [0., 0., 0., 0.]])"
      ]
     },
     "execution_count": 94,
     "metadata": {},
     "output_type": "execute_result"
    }
   ],
   "source": [
    "# Create a tensor for all zeros\n",
    "zeros = torch.zeros(3,4)\n",
    "zeros"
   ]
  },
  {
   "cell_type": "code",
   "execution_count": 95,
   "id": "598173a4",
   "metadata": {},
   "outputs": [
    {
     "data": {
      "text/plain": [
       "tensor([[0., 0., 0., 0.],\n",
       "        [0., 0., 0., 0.],\n",
       "        [0., 0., 0., 0.]])"
      ]
     },
     "execution_count": 95,
     "metadata": {},
     "output_type": "execute_result"
    }
   ],
   "source": [
    "zeros* torch.rand(3,4)"
   ]
  },
  {
   "cell_type": "code",
   "execution_count": 96,
   "id": "2d9321b4",
   "metadata": {},
   "outputs": [
    {
     "data": {
      "text/plain": [
       "tensor([[[1., 1., 1., 1.],\n",
       "         [1., 1., 1., 1.],\n",
       "         [1., 1., 1., 1.],\n",
       "         [1., 1., 1., 1.]]])"
      ]
     },
     "execution_count": 96,
     "metadata": {},
     "output_type": "execute_result"
    }
   ],
   "source": [
    "# Ones\n",
    "ones = torch.ones(1,4,4)\n",
    "ones"
   ]
  },
  {
   "cell_type": "code",
   "execution_count": 97,
   "id": "14bba531",
   "metadata": {},
   "outputs": [
    {
     "data": {
      "text/plain": [
       "tensor([[[1.],\n",
       "         [1.],\n",
       "         [1.],\n",
       "         [1.]],\n",
       "\n",
       "        [[1.],\n",
       "         [1.],\n",
       "         [1.],\n",
       "         [1.]],\n",
       "\n",
       "        [[1.],\n",
       "         [1.],\n",
       "         [1.],\n",
       "         [1.]],\n",
       "\n",
       "        [[1.],\n",
       "         [1.],\n",
       "         [1.],\n",
       "         [1.]]])"
      ]
     },
     "execution_count": 97,
     "metadata": {},
     "output_type": "execute_result"
    }
   ],
   "source": [
    "# Ones\n",
    "ones = torch.ones(4,4,1)\n",
    "ones"
   ]
  },
  {
   "cell_type": "code",
   "execution_count": 98,
   "id": "a0643fd8",
   "metadata": {},
   "outputs": [
    {
     "data": {
      "text/plain": [
       "(torch.float32, torch.float32)"
      ]
     },
     "execution_count": 98,
     "metadata": {},
     "output_type": "execute_result"
    }
   ],
   "source": [
    "ones.dtype, zeros.dtype"
   ]
  },
  {
   "cell_type": "markdown",
   "id": "dc220ede",
   "metadata": {},
   "source": [
    "# Creating a range of tensors and tensors-like"
   ]
  },
  {
   "cell_type": "code",
   "execution_count": 99,
   "id": "30031e8a",
   "metadata": {},
   "outputs": [
    {
     "data": {
      "text/plain": [
       "tensor([  1,  51, 101, 151, 201, 251, 301, 351, 401, 451])"
      ]
     },
     "execution_count": 99,
     "metadata": {},
     "output_type": "execute_result"
    }
   ],
   "source": [
    "# \n",
    "ranges = torch.arange(start=1,end=500, step =  50)\n",
    "ranges"
   ]
  },
  {
   "cell_type": "code",
   "execution_count": 100,
   "id": "59303a12",
   "metadata": {},
   "outputs": [
    {
     "data": {
      "text/plain": [
       "tensor([0, 0, 0, 0, 0, 0, 0, 0, 0, 0])"
      ]
     },
     "execution_count": 100,
     "metadata": {},
     "output_type": "execute_result"
    }
   ],
   "source": [
    "# Creating tensors like\n",
    "zeros_like_ranges = torch.zeros_like(input=ranges)\n",
    "zeros_like_ranges"
   ]
  },
  {
   "cell_type": "markdown",
   "id": "2b6bb59f",
   "metadata": {},
   "source": [
    "# Tensor Datatype"
   ]
  },
  {
   "cell_type": "code",
   "execution_count": 101,
   "id": "d8f44bc6",
   "metadata": {},
   "outputs": [
    {
     "data": {
      "text/plain": [
       "torch.float32"
      ]
     },
     "execution_count": 101,
     "metadata": {},
     "output_type": "execute_result"
    }
   ],
   "source": [
    "# Float 32 tensor is the default\n",
    "float_32_tensor = torch.tensor([3.1, 6.4, 9.0], \n",
    "                               dtype = None,\n",
    "                               device = None, \n",
    "                               requires_grad = False) # whether or not to track gradeints with this tensors operations\n",
    "float_32_tensor.dtype"
   ]
  },
  {
   "cell_type": "code",
   "execution_count": 102,
   "id": "832c430c",
   "metadata": {},
   "outputs": [
    {
     "data": {
      "text/plain": [
       "torch.float16"
      ]
     },
     "execution_count": 102,
     "metadata": {},
     "output_type": "execute_result"
    }
   ],
   "source": [
    "# Float 16 tensor is the default\n",
    "float_16_tensor = torch.tensor([3.1, 6.4, 9.0], \n",
    "                               dtype = torch.float16,\n",
    "                               device = None,\n",
    "                               requires_grad = False)\n",
    "float_16_tensor.dtype"
   ]
  },
  {
   "cell_type": "code",
   "execution_count": 103,
   "id": "7af6a478",
   "metadata": {},
   "outputs": [
    {
     "data": {
      "text/plain": [
       "tensor([3.0996, 6.3984, 9.0000], dtype=torch.float16)"
      ]
     },
     "execution_count": 103,
     "metadata": {},
     "output_type": "execute_result"
    }
   ],
   "source": [
    "float_16_tensor"
   ]
  },
  {
   "cell_type": "markdown",
   "id": "57b49a21",
   "metadata": {},
   "source": []
  },
  {
   "cell_type": "code",
   "execution_count": 104,
   "id": "025c8514",
   "metadata": {},
   "outputs": [
    {
     "data": {
      "text/plain": [
       "device(type='cpu')"
      ]
     },
     "execution_count": 104,
     "metadata": {},
     "output_type": "execute_result"
    }
   ],
   "source": [
    "# CPU\n",
    "cpu = torch.tensor([3.1, 6.4, 9.0], \n",
    "                               \n",
    "                               device = 'cpu',\n",
    "                               requires_grad = False)\n",
    "cpu.device"
   ]
  },
  {
   "cell_type": "code",
   "execution_count": 105,
   "id": "f644cd1f",
   "metadata": {},
   "outputs": [
    {
     "data": {
      "text/plain": [
       "device(type='cpu')"
      ]
     },
     "execution_count": 105,
     "metadata": {},
     "output_type": "execute_result"
    }
   ],
   "source": [
    "TENSOR.device"
   ]
  },
  {
   "cell_type": "code",
   "execution_count": 106,
   "id": "bd6cc802",
   "metadata": {},
   "outputs": [
    {
     "data": {
      "text/plain": [
       "tensor([3.0996, 6.3984, 9.0000], dtype=torch.float16)"
      ]
     },
     "execution_count": 106,
     "metadata": {},
     "output_type": "execute_result"
    }
   ],
   "source": [
    "# Change dtype\n",
    "float_half = float_32_tensor.type(torch.float16)\n",
    "float_half"
   ]
  },
  {
   "cell_type": "code",
   "execution_count": 107,
   "id": "c1a939df",
   "metadata": {},
   "outputs": [
    {
     "data": {
      "text/plain": [
       "tensor([3.0996, 6.3984, 9.0000], dtype=torch.float16)"
      ]
     },
     "execution_count": 107,
     "metadata": {},
     "output_type": "execute_result"
    }
   ],
   "source": [
    "# Change dtype\n",
    "float_half = float_32_tensor.type(torch.half)\n",
    "float_half"
   ]
  },
  {
   "cell_type": "markdown",
   "id": "45f53220",
   "metadata": {},
   "source": [
    "### Getting  Tensors Attributes\n",
    "1. Tensor not right datatype - to get datatype from a tensor, can use `tensor.type`\n",
    "2. `tensor.shape` to know the shape\n",
    "2.   `tensor.device` to know the right device"
   ]
  },
  {
   "cell_type": "code",
   "execution_count": 108,
   "id": "28a87b6d",
   "metadata": {},
   "outputs": [
    {
     "data": {
      "text/plain": [
       "tensor([[0.0566, 0.1371, 0.4881, 0.2991],\n",
       "        [0.8576, 0.3834, 0.5064, 0.8932],\n",
       "        [0.0886, 0.6405, 0.7128, 0.4967]])"
      ]
     },
     "execution_count": 108,
     "metadata": {},
     "output_type": "execute_result"
    }
   ],
   "source": [
    "some_tensor = torch.rand(3,4)\n",
    "some_tensor"
   ]
  },
  {
   "cell_type": "code",
   "execution_count": 109,
   "id": "43495859",
   "metadata": {},
   "outputs": [
    {
     "name": "stdout",
     "output_type": "stream",
     "text": [
      "tensor([[0.0566, 0.1371, 0.4881, 0.2991],\n",
      "        [0.8576, 0.3834, 0.5064, 0.8932],\n",
      "        [0.0886, 0.6405, 0.7128, 0.4967]])\n",
      "Datatype of tensor: torch.float32\n",
      "Shape of tensor: torch.Size([3, 4])\n",
      "Device tensor is on: cpu\n"
     ]
    }
   ],
   "source": [
    "# Find out details about some tensor\n",
    "print(some_tensor)\n",
    "print(f'Datatype of tensor: {some_tensor.dtype}')\n",
    "print(f'Shape of tensor: {some_tensor.shape}')\n",
    "print(f'Device tensor is on: {some_tensor.device}')"
   ]
  },
  {
   "cell_type": "code",
   "execution_count": 110,
   "id": "8e1ca48b",
   "metadata": {},
   "outputs": [
    {
     "data": {
      "text/plain": [
       "torch.float16"
      ]
     },
     "execution_count": 110,
     "metadata": {},
     "output_type": "execute_result"
    }
   ],
   "source": [
    "some_tens = some_tensor.type(torch.half)\n",
    "some_tens.dtype"
   ]
  },
  {
   "cell_type": "code",
   "execution_count": 111,
   "id": "d8e3a6cd",
   "metadata": {},
   "outputs": [
    {
     "data": {
      "text/plain": [
       "tensor([[0.0566, 0.1371, 0.4880, 0.2991],\n",
       "        [0.8574, 0.3833, 0.5063, 0.8931],\n",
       "        [0.0886, 0.6406, 0.7129, 0.4968]], dtype=torch.float16)"
      ]
     },
     "execution_count": 111,
     "metadata": {},
     "output_type": "execute_result"
    }
   ],
   "source": [
    "some_tens"
   ]
  },
  {
   "cell_type": "markdown",
   "id": "640b137b",
   "metadata": {},
   "source": [
    "### Manipulating Tensors (tensor operations)\n",
    "\n",
    "Tensor operations include:\n",
    "* Addition\n",
    "* Substraction\n",
    "* Multiplication (element-wise)\n",
    "* Division\n",
    "* Matrix  multiplication"
   ]
  },
  {
   "cell_type": "code",
   "execution_count": 112,
   "id": "7e90b5f3",
   "metadata": {},
   "outputs": [
    {
     "data": {
      "text/plain": [
       "tensor([11, 12, 13])"
      ]
     },
     "execution_count": 112,
     "metadata": {},
     "output_type": "execute_result"
    }
   ],
   "source": [
    "# Create a tensor\n",
    "tensor = torch.tensor([1,2,3])\n",
    "tensor + 10"
   ]
  },
  {
   "cell_type": "code",
   "execution_count": 113,
   "id": "30129925",
   "metadata": {},
   "outputs": [
    {
     "data": {
      "text/plain": [
       "tensor([10, 20, 30])"
      ]
     },
     "execution_count": 113,
     "metadata": {},
     "output_type": "execute_result"
    }
   ],
   "source": [
    "# multiply tensor by 10\n",
    "tensor * 10"
   ]
  },
  {
   "cell_type": "code",
   "execution_count": 114,
   "id": "914bdd28",
   "metadata": {},
   "outputs": [
    {
     "data": {
      "text/plain": [
       "tensor([-9, -8, -7])"
      ]
     },
     "execution_count": 114,
     "metadata": {},
     "output_type": "execute_result"
    }
   ],
   "source": [
    "# Substract 10\n",
    "tensor - 10"
   ]
  },
  {
   "cell_type": "code",
   "execution_count": 115,
   "id": "85cb227d",
   "metadata": {},
   "outputs": [
    {
     "data": {
      "text/plain": [
       "tensor([10, 20, 30])"
      ]
     },
     "execution_count": 115,
     "metadata": {},
     "output_type": "execute_result"
    }
   ],
   "source": [
    "# Try out Pytorch in-built functions\n",
    "torch.mul(tensor, 10)"
   ]
  },
  {
   "cell_type": "markdown",
   "id": "70998665",
   "metadata": {},
   "source": [
    "# Matrix Manipulation\n",
    "two types:\n",
    "1. element-wise multiplication\n",
    "2. matrix multiplication (dot product)\n",
    "\n",
    "for more details visit: https://www.mathsisfun.com/algebra/matrix-multiplying.html\n",
    "\n",
    "Main rules:\n",
    "1. The **inner dimensions** must match\n",
    "* `(3,2) @ (3,2)` won't work\n",
    "* `(2,3) @ (3,2)` will work\n",
    "* `(3,2) @ (2,3)` will work\n",
    "2. The resulting matrix has the shape of the **outer dimensions**:\n",
    "* `(2,3) @ (3,2)` gives `(2,2)`\n"
   ]
  },
  {
   "cell_type": "code",
   "execution_count": 116,
   "id": "5cf04e87",
   "metadata": {},
   "outputs": [
    {
     "name": "stdout",
     "output_type": "stream",
     "text": [
      "tensor([1, 2, 3]) * tensor([1, 2, 3])\n",
      "Equals: tensor([1, 4, 9])\n"
     ]
    }
   ],
   "source": [
    "# element wise multiplication\n",
    "print(tensor, '*', tensor)\n",
    "print(f\"Equals: {tensor*tensor}\")"
   ]
  },
  {
   "cell_type": "code",
   "execution_count": 117,
   "id": "ba919498",
   "metadata": {},
   "outputs": [
    {
     "data": {
      "text/plain": [
       "tensor(14)"
      ]
     },
     "execution_count": 117,
     "metadata": {},
     "output_type": "execute_result"
    }
   ],
   "source": [
    "# Matrix multiplication\n",
    "torch.matmul(tensor, tensor)"
   ]
  },
  {
   "cell_type": "code",
   "execution_count": 118,
   "id": "3ff8a9fa",
   "metadata": {},
   "outputs": [
    {
     "name": "stdout",
     "output_type": "stream",
     "text": [
      "tensor([[2, 1],\n",
      "        [1, 4]]) \n",
      " tensor([[ 9, 10],\n",
      "        [12,  8]])\n"
     ]
    }
   ],
   "source": [
    "test22   = torch.randint(low=0, high=5, size=(2,2))\n",
    "test22_2 = torch.randint(low=6, high=13, size=(2,2))\n",
    "print(test22,'\\n', test22_2)"
   ]
  },
  {
   "cell_type": "code",
   "execution_count": 119,
   "id": "f2f4aeb4",
   "metadata": {},
   "outputs": [
    {
     "data": {
      "text/plain": [
       "tensor([[30, 28],\n",
       "        [57, 42]])"
      ]
     },
     "execution_count": 119,
     "metadata": {},
     "output_type": "execute_result"
    }
   ],
   "source": [
    "torch.matmul(test22, test22_2)"
   ]
  },
  {
   "cell_type": "code",
   "execution_count": 120,
   "id": "790bd967",
   "metadata": {},
   "outputs": [
    {
     "data": {
      "text/plain": [
       "tensor([5, 1, 4])"
      ]
     },
     "execution_count": 120,
     "metadata": {},
     "output_type": "execute_result"
    }
   ],
   "source": [
    "# testing dot product\n",
    "test12 = torch.tensor([5, 1, 4])\n",
    "test12"
   ]
  },
  {
   "cell_type": "code",
   "execution_count": 121,
   "id": "8736c761",
   "metadata": {},
   "outputs": [
    {
     "data": {
      "text/plain": [
       "torch.Size([3])"
      ]
     },
     "execution_count": 121,
     "metadata": {},
     "output_type": "execute_result"
    }
   ],
   "source": [
    "test12.shape"
   ]
  },
  {
   "cell_type": "code",
   "execution_count": 122,
   "id": "863ee5da",
   "metadata": {},
   "outputs": [],
   "source": [
    "# this wont work\n",
    "# torch.matmul(test22, test12);"
   ]
  },
  {
   "cell_type": "code",
   "execution_count": 123,
   "id": "3c407f9e",
   "metadata": {},
   "outputs": [
    {
     "data": {
      "text/plain": [
       "torch.Size([3, 3])"
      ]
     },
     "execution_count": 123,
     "metadata": {},
     "output_type": "execute_result"
    }
   ],
   "source": [
    "# Outer dimenstions will be the output (3,2)@(3,2) gives (3,3)\n",
    "torch.matmul(torch.rand(3,2), torch.rand(2,3)).shape"
   ]
  },
  {
   "cell_type": "code",
   "execution_count": 124,
   "id": "e5ca7337",
   "metadata": {},
   "outputs": [
    {
     "data": {
      "text/plain": [
       "torch.Size([4, 3])"
      ]
     },
     "execution_count": 124,
     "metadata": {},
     "output_type": "execute_result"
    }
   ],
   "source": [
    "torch.matmul(torch.rand(4,2), torch.rand(2,3)).shape"
   ]
  },
  {
   "cell_type": "markdown",
   "id": "72d55cff",
   "metadata": {},
   "source": [
    "#### One of the most commn errors in deep learning: shape error\n",
    "http://matrixmultiplication.xyz/"
   ]
  },
  {
   "cell_type": "code",
   "execution_count": 125,
   "id": "a6478306",
   "metadata": {},
   "outputs": [],
   "source": [
    "tensor_A = torch.tensor([[1,2],\n",
    "                         [3,4],\n",
    "                         [5,6]])\n",
    "tensor_B = torch.tensor([[7,1],\n",
    "                         [8,2],\n",
    "                         [9,3]])"
   ]
  },
  {
   "cell_type": "code",
   "execution_count": 126,
   "id": "70d3226a",
   "metadata": {},
   "outputs": [
    {
     "ename": "RuntimeError",
     "evalue": "mat1 and mat2 shapes cannot be multiplied (3x2 and 3x2)",
     "output_type": "error",
     "traceback": [
      "\u001b[1;31m---------------------------------------------------------------------------\u001b[0m",
      "\u001b[1;31mRuntimeError\u001b[0m                              Traceback (most recent call last)",
      "Cell \u001b[1;32mIn[126], line 1\u001b[0m\n\u001b[1;32m----> 1\u001b[0m \u001b[43mtorch\u001b[49m\u001b[38;5;241;43m.\u001b[39;49m\u001b[43mmm\u001b[49m\u001b[43m(\u001b[49m\u001b[43mtensor_A\u001b[49m\u001b[43m,\u001b[49m\u001b[43m \u001b[49m\u001b[43mtensor_B\u001b[49m\u001b[43m)\u001b[49m \u001b[38;5;66;03m# this results into an error\u001b[39;00m\n",
      "\u001b[1;31mRuntimeError\u001b[0m: mat1 and mat2 shapes cannot be multiplied (3x2 and 3x2)"
     ]
    }
   ],
   "source": [
    "torch.mm(tensor_A, tensor_B) # this results into an error"
   ]
  },
  {
   "cell_type": "code",
   "execution_count": null,
   "id": "59c5ebfe",
   "metadata": {},
   "outputs": [],
   "source": []
  },
  {
   "cell_type": "code",
   "execution_count": null,
   "id": "6e87dc23",
   "metadata": {},
   "outputs": [],
   "source": []
  },
  {
   "cell_type": "code",
   "execution_count": null,
   "id": "943850fa",
   "metadata": {},
   "outputs": [],
   "source": []
  },
  {
   "cell_type": "markdown",
   "id": "c9cd2844",
   "metadata": {},
   "source": []
  },
  {
   "cell_type": "markdown",
   "id": "29fc07f5",
   "metadata": {},
   "source": []
  }
 ],
 "metadata": {
  "kernelspec": {
   "display_name": "Python 3 (ipykernel)",
   "language": "python",
   "name": "python3"
  },
  "language_info": {
   "codemirror_mode": {
    "name": "ipython",
    "version": 3
   },
   "file_extension": ".py",
   "mimetype": "text/x-python",
   "name": "python",
   "nbconvert_exporter": "python",
   "pygments_lexer": "ipython3",
   "version": "3.12.2"
  }
 },
 "nbformat": 4,
 "nbformat_minor": 5
}
