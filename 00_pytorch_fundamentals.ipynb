{
  "cells": [
    {
      "cell_type": "markdown",
      "metadata": {
        "id": "view-in-github",
        "colab_type": "text"
      },
      "source": [
        "<a href=\"https://colab.research.google.com/github/habonimana/PyTorch-for-Deep-Learning/blob/main/00_pytorch_fundamentals.ipynb\" target=\"_parent\"><img src=\"https://colab.research.google.com/assets/colab-badge.svg\" alt=\"Open In Colab\"/></a>"
      ]
    },
    {
      "cell_type": "markdown",
      "id": "cd1b3e5f-b260-44d9-bc82-9bea30a720eb",
      "metadata": {
        "id": "cd1b3e5f-b260-44d9-bc82-9bea30a720eb"
      },
      "source": [
        "## 00. Pytorch Fundamentals\n",
        "\n",
        "*   List item\n",
        "*   List item\n",
        "\n",
        "\n",
        "Resource notebook: https://github.com/mrdbourke/pytorch-deep-learning/blob/main/00_pytorch_fundamentals.ipynb\n",
        "\n",
        "questions: https://github.com/mrdbourke/pytorch-deep-learning/discussions"
      ]
    },
    {
      "cell_type": "code",
      "execution_count": null,
      "id": "f1b69466-36fc-4887-946d-d7cc1828c85e",
      "metadata": {
        "id": "f1b69466-36fc-4887-946d-d7cc1828c85e",
        "outputId": "d27aad49-6edd-4e65-d037-8644e40a9107",
        "colab": {
          "base_uri": "https://localhost:8080/"
        }
      },
      "outputs": [
        {
          "output_type": "stream",
          "name": "stdout",
          "text": [
            "2.3.1+cu121\n"
          ]
        }
      ],
      "source": [
        "import torch\n",
        "import pandas as pd\n",
        "import numpy as np\n",
        "import matplotlib.pyplot as plt\n",
        "print(torch.__version__)"
      ]
    },
    {
      "cell_type": "code",
      "execution_count": null,
      "id": "9c2a29b4-90cd-45c6-b131-3bec14c4f855",
      "metadata": {
        "id": "9c2a29b4-90cd-45c6-b131-3bec14c4f855",
        "outputId": "7a436741-8bff-4014-b9dd-52183881beb5"
      },
      "outputs": [
        {
          "data": {
            "text/plain": [
              "3"
            ]
          },
          "execution_count": 41,
          "metadata": {},
          "output_type": "execute_result"
        }
      ],
      "source": [
        "TENSOR = torch.tensor([[[1,2,3,9],\n",
        "                        [3,6,9,9],\n",
        "                        [2,4,5,9],\n",
        "                        [1,2,3,4]],\n",
        "                       [[1,2,3,9],\n",
        "                        [3,6,9,9],\n",
        "                        [2,4,5,9],\n",
        "                        [1,2,3,4]]\n",
        "                       ])\n",
        "TENSOR.ndim"
      ]
    },
    {
      "cell_type": "markdown",
      "id": "9f3cb70d",
      "metadata": {
        "id": "9f3cb70d"
      },
      "source": [
        "# Random Tensors\n",
        "` start with random numbers -> look at data -> update random -> look at data -> update random`"
      ]
    },
    {
      "cell_type": "code",
      "execution_count": null,
      "id": "6b8c373d",
      "metadata": {
        "id": "6b8c373d",
        "outputId": "ffa3bb2b-d756-4e70-a189-d78458183ded"
      },
      "outputs": [
        {
          "data": {
            "text/plain": [
              "tensor([[0.5279, 0.3024, 0.1307, 0.0299],\n",
              "        [0.5185, 0.3766, 0.0862, 0.7558],\n",
              "        [0.1886, 0.0427, 0.8822, 0.7031]])"
            ]
          },
          "execution_count": 42,
          "metadata": {},
          "output_type": "execute_result"
        }
      ],
      "source": [
        "# create a random tensor\n",
        "random_tensor = torch.rand(3,4)\n",
        "random_tensor"
      ]
    },
    {
      "cell_type": "code",
      "execution_count": null,
      "id": "93547bcd",
      "metadata": {
        "id": "93547bcd",
        "outputId": "e3c5ad97-5e3e-45d6-ada7-2485a7d94c37"
      },
      "outputs": [
        {
          "data": {
            "text/plain": [
              "2"
            ]
          },
          "execution_count": 43,
          "metadata": {},
          "output_type": "execute_result"
        }
      ],
      "source": [
        "random_tensor.ndim"
      ]
    },
    {
      "cell_type": "code",
      "execution_count": null,
      "id": "73386c88",
      "metadata": {
        "id": "73386c88",
        "outputId": "d1f14c18-6de4-483c-d4af-59655e8b6dcf"
      },
      "outputs": [
        {
          "data": {
            "text/plain": [
              "tensor([[[0.7563, 0.9231, 0.5587,  ..., 0.8262, 0.9433, 0.7607],\n",
              "         [0.1021, 0.7780, 0.6238,  ..., 0.8845, 0.0529, 0.6929],\n",
              "         [0.1762, 0.3480, 0.0208,  ..., 0.3436, 0.4252, 0.0618],\n",
              "         ...,\n",
              "         [0.9521, 0.2061, 0.8952,  ..., 0.5589, 0.1154, 0.7754],\n",
              "         [0.8858, 0.5582, 0.4039,  ..., 0.3556, 0.1676, 0.6145],\n",
              "         [0.0746, 0.0075, 0.3369,  ..., 0.6644, 0.5306, 0.3677]],\n",
              "\n",
              "        [[0.5787, 0.5428, 0.3017,  ..., 0.0756, 0.1107, 0.8056],\n",
              "         [0.9180, 0.3913, 0.3087,  ..., 0.5569, 0.8266, 0.8002],\n",
              "         [0.4360, 0.5531, 0.9249,  ..., 0.1803, 0.3017, 0.3873],\n",
              "         ...,\n",
              "         [0.8132, 0.8042, 0.4646,  ..., 0.6180, 0.8451, 0.1382],\n",
              "         [0.9062, 0.8710, 0.1774,  ..., 0.9790, 0.9371, 0.1152],\n",
              "         [0.1611, 0.2521, 0.2196,  ..., 0.9555, 0.7106, 0.7671]],\n",
              "\n",
              "        [[0.3201, 0.2301, 0.8420,  ..., 0.8421, 0.3152, 0.6456],\n",
              "         [0.2296, 0.8866, 0.9986,  ..., 0.3698, 0.8165, 0.4702],\n",
              "         [0.8264, 0.3152, 0.6871,  ..., 0.8437, 0.1408, 0.9777],\n",
              "         ...,\n",
              "         [0.1868, 0.7606, 0.7707,  ..., 0.2508, 0.5497, 0.2188],\n",
              "         [0.7710, 0.0610, 0.6353,  ..., 0.0080, 0.6363, 0.7761],\n",
              "         [0.1586, 0.8075, 0.6985,  ..., 0.4743, 0.5615, 0.2879]]])"
            ]
          },
          "execution_count": 44,
          "metadata": {},
          "output_type": "execute_result"
        }
      ],
      "source": [
        "# Create a random tensor with similar shape to an image\n",
        "random_image_size_tensor = torch.rand(size=(3, 244, 244))\n",
        "random_image_size_tensor"
      ]
    },
    {
      "cell_type": "code",
      "execution_count": null,
      "id": "4bd9f2f4",
      "metadata": {
        "id": "4bd9f2f4",
        "outputId": "7ef25aa2-d461-480c-e976-c5cddcbc0a39"
      },
      "outputs": [
        {
          "data": {
            "text/plain": [
              "(3, torch.Size([3, 244, 244]))"
            ]
          },
          "execution_count": 45,
          "metadata": {},
          "output_type": "execute_result"
        }
      ],
      "source": [
        "random_image_size_tensor.ndim, random_image_size_tensor.shape"
      ]
    },
    {
      "cell_type": "markdown",
      "id": "5d2c1e2d",
      "metadata": {
        "id": "5d2c1e2d"
      },
      "source": [
        "# Zeros and Ones\n",
        "useful for masks"
      ]
    },
    {
      "cell_type": "code",
      "execution_count": null,
      "id": "47819971",
      "metadata": {
        "id": "47819971",
        "outputId": "26540b4e-0acc-4d7e-9c6b-2d643171df98"
      },
      "outputs": [
        {
          "data": {
            "text/plain": [
              "tensor([[0., 0., 0., 0.],\n",
              "        [0., 0., 0., 0.],\n",
              "        [0., 0., 0., 0.]])"
            ]
          },
          "execution_count": 46,
          "metadata": {},
          "output_type": "execute_result"
        }
      ],
      "source": [
        "# Create a tensor for all zeros\n",
        "zeros = torch.zeros(3,4)\n",
        "zeros"
      ]
    },
    {
      "cell_type": "code",
      "execution_count": null,
      "id": "598173a4",
      "metadata": {
        "id": "598173a4",
        "outputId": "0eb54072-7187-467f-fc6c-223d5d14f12b"
      },
      "outputs": [
        {
          "data": {
            "text/plain": [
              "tensor([[0., 0., 0., 0.],\n",
              "        [0., 0., 0., 0.],\n",
              "        [0., 0., 0., 0.]])"
            ]
          },
          "execution_count": 47,
          "metadata": {},
          "output_type": "execute_result"
        }
      ],
      "source": [
        "zeros* torch.rand(3,4)"
      ]
    },
    {
      "cell_type": "code",
      "execution_count": null,
      "id": "2d9321b4",
      "metadata": {
        "id": "2d9321b4",
        "outputId": "ec8da23c-07b6-4aec-8150-6d4aff53cc79"
      },
      "outputs": [
        {
          "data": {
            "text/plain": [
              "tensor([[[1., 1., 1., 1.],\n",
              "         [1., 1., 1., 1.],\n",
              "         [1., 1., 1., 1.],\n",
              "         [1., 1., 1., 1.]]])"
            ]
          },
          "execution_count": 48,
          "metadata": {},
          "output_type": "execute_result"
        }
      ],
      "source": [
        "# Ones\n",
        "ones = torch.ones(1,4,4)\n",
        "ones"
      ]
    },
    {
      "cell_type": "code",
      "execution_count": null,
      "id": "14bba531",
      "metadata": {
        "id": "14bba531",
        "outputId": "339ab183-cced-47a0-f59d-b4f7767c13aa"
      },
      "outputs": [
        {
          "data": {
            "text/plain": [
              "tensor([[[1.],\n",
              "         [1.],\n",
              "         [1.],\n",
              "         [1.]],\n",
              "\n",
              "        [[1.],\n",
              "         [1.],\n",
              "         [1.],\n",
              "         [1.]],\n",
              "\n",
              "        [[1.],\n",
              "         [1.],\n",
              "         [1.],\n",
              "         [1.]],\n",
              "\n",
              "        [[1.],\n",
              "         [1.],\n",
              "         [1.],\n",
              "         [1.]]])"
            ]
          },
          "execution_count": 49,
          "metadata": {},
          "output_type": "execute_result"
        }
      ],
      "source": [
        "# Ones\n",
        "ones = torch.ones(4,4,1)\n",
        "ones"
      ]
    },
    {
      "cell_type": "code",
      "execution_count": null,
      "id": "a0643fd8",
      "metadata": {
        "id": "a0643fd8",
        "outputId": "dce24d6d-a38e-4d13-8f51-9deb3b26b6c7"
      },
      "outputs": [
        {
          "data": {
            "text/plain": [
              "(torch.float32, torch.float32)"
            ]
          },
          "execution_count": 50,
          "metadata": {},
          "output_type": "execute_result"
        }
      ],
      "source": [
        "ones.dtype, zeros.dtype"
      ]
    },
    {
      "cell_type": "markdown",
      "id": "dc220ede",
      "metadata": {
        "id": "dc220ede"
      },
      "source": [
        "# Creating a range of tensors and tensors-like"
      ]
    },
    {
      "cell_type": "code",
      "execution_count": null,
      "id": "30031e8a",
      "metadata": {
        "id": "30031e8a",
        "outputId": "552fc1a2-2a29-40f6-d493-842399ccead2"
      },
      "outputs": [
        {
          "data": {
            "text/plain": [
              "tensor([  1,  51, 101, 151, 201, 251, 301, 351, 401, 451])"
            ]
          },
          "execution_count": 51,
          "metadata": {},
          "output_type": "execute_result"
        }
      ],
      "source": [
        "#\n",
        "ranges = torch.arange(start=1,end=500, step =  50)\n",
        "ranges"
      ]
    },
    {
      "cell_type": "code",
      "execution_count": null,
      "id": "59303a12",
      "metadata": {
        "id": "59303a12",
        "outputId": "baf846c7-ee35-452c-f50e-f67ebb2dc493"
      },
      "outputs": [
        {
          "data": {
            "text/plain": [
              "tensor([0, 0, 0, 0, 0, 0, 0, 0, 0, 0])"
            ]
          },
          "execution_count": 52,
          "metadata": {},
          "output_type": "execute_result"
        }
      ],
      "source": [
        "# Creating tensors like\n",
        "zeros_like_ranges = torch.zeros_like(input=ranges)\n",
        "zeros_like_ranges"
      ]
    },
    {
      "cell_type": "markdown",
      "id": "2b6bb59f",
      "metadata": {
        "id": "2b6bb59f"
      },
      "source": [
        "# Tensor Datatype"
      ]
    },
    {
      "cell_type": "code",
      "execution_count": null,
      "id": "d8f44bc6",
      "metadata": {
        "id": "d8f44bc6",
        "outputId": "f742a22b-4d7a-41ae-8310-74a310d2bad6"
      },
      "outputs": [
        {
          "data": {
            "text/plain": [
              "torch.float32"
            ]
          },
          "execution_count": 53,
          "metadata": {},
          "output_type": "execute_result"
        }
      ],
      "source": [
        "# Float 32 tensor is the default\n",
        "float_32_tensor = torch.tensor([3.1, 6.4, 9.0],\n",
        "                               dtype = None,\n",
        "                               device = None,\n",
        "                               requires_grad = False) # whether or not to track gradeints with this tensors operations\n",
        "float_32_tensor.dtype"
      ]
    },
    {
      "cell_type": "code",
      "execution_count": null,
      "id": "832c430c",
      "metadata": {
        "id": "832c430c",
        "outputId": "c288a3fc-cde6-4f39-e30b-06a009df6c2b"
      },
      "outputs": [
        {
          "data": {
            "text/plain": [
              "torch.float16"
            ]
          },
          "execution_count": 54,
          "metadata": {},
          "output_type": "execute_result"
        }
      ],
      "source": [
        "# Float 16 tensor is the default\n",
        "float_16_tensor = torch.tensor([3.1, 6.4, 9.0],\n",
        "                               dtype = torch.float16,\n",
        "                               device = None,\n",
        "                               requires_grad = False)\n",
        "float_16_tensor.dtype"
      ]
    },
    {
      "cell_type": "code",
      "execution_count": null,
      "id": "7af6a478",
      "metadata": {
        "id": "7af6a478",
        "outputId": "6c077ee2-318e-4a47-c8ed-6fef97460bfb"
      },
      "outputs": [
        {
          "data": {
            "text/plain": [
              "tensor([3.0996, 6.3984, 9.0000], dtype=torch.float16)"
            ]
          },
          "execution_count": 55,
          "metadata": {},
          "output_type": "execute_result"
        }
      ],
      "source": [
        "float_16_tensor"
      ]
    },
    {
      "cell_type": "markdown",
      "id": "57b49a21",
      "metadata": {
        "id": "57b49a21"
      },
      "source": []
    },
    {
      "cell_type": "code",
      "execution_count": null,
      "id": "025c8514",
      "metadata": {
        "id": "025c8514",
        "outputId": "d5ee22e3-6cef-44b4-ecec-58cc7d0c8510"
      },
      "outputs": [
        {
          "data": {
            "text/plain": [
              "device(type='cpu')"
            ]
          },
          "execution_count": 56,
          "metadata": {},
          "output_type": "execute_result"
        }
      ],
      "source": [
        "# CPU\n",
        "cpu = torch.tensor([3.1, 6.4, 9.0],\n",
        "\n",
        "                               device = 'cpu',\n",
        "                               requires_grad = False)\n",
        "cpu.device"
      ]
    },
    {
      "cell_type": "code",
      "execution_count": null,
      "id": "f644cd1f",
      "metadata": {
        "id": "f644cd1f",
        "outputId": "657b4708-00c7-4a7b-d869-761b80148e89"
      },
      "outputs": [
        {
          "data": {
            "text/plain": [
              "device(type='cpu')"
            ]
          },
          "execution_count": 57,
          "metadata": {},
          "output_type": "execute_result"
        }
      ],
      "source": [
        "TENSOR.device"
      ]
    },
    {
      "cell_type": "code",
      "execution_count": null,
      "id": "bd6cc802",
      "metadata": {
        "id": "bd6cc802",
        "outputId": "407431ff-0683-4715-ebda-7c3c68da434a"
      },
      "outputs": [
        {
          "data": {
            "text/plain": [
              "tensor([3.0996, 6.3984, 9.0000], dtype=torch.float16)"
            ]
          },
          "execution_count": 58,
          "metadata": {},
          "output_type": "execute_result"
        }
      ],
      "source": [
        "# Change dtype\n",
        "float_half = float_32_tensor.type(torch.float16)\n",
        "float_half"
      ]
    },
    {
      "cell_type": "code",
      "execution_count": null,
      "id": "c1a939df",
      "metadata": {
        "id": "c1a939df",
        "outputId": "09f44c03-a092-4418-f0b1-ef902785211f"
      },
      "outputs": [
        {
          "data": {
            "text/plain": [
              "tensor([3.0996, 6.3984, 9.0000], dtype=torch.float16)"
            ]
          },
          "execution_count": 59,
          "metadata": {},
          "output_type": "execute_result"
        }
      ],
      "source": [
        "# Change dtype\n",
        "float_half = float_32_tensor.type(torch.half)\n",
        "float_half"
      ]
    },
    {
      "cell_type": "markdown",
      "id": "45f53220",
      "metadata": {
        "id": "45f53220"
      },
      "source": [
        "### Getting  Tensors Attributes\n",
        "1. Tensor not right datatype - to get datatype from a tensor, can use `tensor.type`\n",
        "2. `tensor.shape` to know the shape\n",
        "2.   `tensor.device` to know the right device"
      ]
    },
    {
      "cell_type": "code",
      "execution_count": null,
      "id": "28a87b6d",
      "metadata": {
        "id": "28a87b6d",
        "outputId": "f28dee7b-bfd8-41c9-a009-1113c4dff945"
      },
      "outputs": [
        {
          "data": {
            "text/plain": [
              "tensor([[0.5470, 0.8436, 0.9802, 0.0715],\n",
              "        [0.8483, 0.8714, 0.2027, 0.7231],\n",
              "        [0.5353, 0.8395, 0.0241, 0.0335]])"
            ]
          },
          "execution_count": 60,
          "metadata": {},
          "output_type": "execute_result"
        }
      ],
      "source": [
        "some_tensor = torch.rand(3,4)\n",
        "some_tensor"
      ]
    },
    {
      "cell_type": "code",
      "execution_count": null,
      "id": "43495859",
      "metadata": {
        "id": "43495859",
        "outputId": "951a8c01-e968-4b70-a838-c69821a6bac0"
      },
      "outputs": [
        {
          "name": "stdout",
          "output_type": "stream",
          "text": [
            "tensor([[0.5470, 0.8436, 0.9802, 0.0715],\n",
            "        [0.8483, 0.8714, 0.2027, 0.7231],\n",
            "        [0.5353, 0.8395, 0.0241, 0.0335]])\n",
            "Datatype of tensor: torch.float32\n",
            "Shape of tensor: torch.Size([3, 4])\n",
            "Device tensor is on: cpu\n"
          ]
        }
      ],
      "source": [
        "# Find out details about some tensor\n",
        "print(some_tensor)\n",
        "print(f'Datatype of tensor: {some_tensor.dtype}')\n",
        "print(f'Shape of tensor: {some_tensor.shape}')\n",
        "print(f'Device tensor is on: {some_tensor.device}')"
      ]
    },
    {
      "cell_type": "code",
      "execution_count": null,
      "id": "8e1ca48b",
      "metadata": {
        "id": "8e1ca48b",
        "outputId": "c6c879c0-560d-4146-aeb3-8e1e20e7008e"
      },
      "outputs": [
        {
          "data": {
            "text/plain": [
              "torch.float16"
            ]
          },
          "execution_count": 62,
          "metadata": {},
          "output_type": "execute_result"
        }
      ],
      "source": [
        "some_tens = some_tensor.type(torch.half)\n",
        "some_tens.dtype"
      ]
    },
    {
      "cell_type": "code",
      "execution_count": null,
      "id": "d8e3a6cd",
      "metadata": {
        "id": "d8e3a6cd",
        "outputId": "e5b51077-1544-4cf7-d47c-cec3036d34df"
      },
      "outputs": [
        {
          "data": {
            "text/plain": [
              "tensor([[0.5469, 0.8438, 0.9805, 0.0715],\n",
              "        [0.8481, 0.8716, 0.2026, 0.7231],\n",
              "        [0.5352, 0.8394, 0.0241, 0.0335]], dtype=torch.float16)"
            ]
          },
          "execution_count": 63,
          "metadata": {},
          "output_type": "execute_result"
        }
      ],
      "source": [
        "some_tens"
      ]
    },
    {
      "cell_type": "markdown",
      "id": "640b137b",
      "metadata": {
        "id": "640b137b"
      },
      "source": [
        "### Manipulating Tensors (tensor operations)\n",
        "\n",
        "Tensor operations include:\n",
        "* Addition\n",
        "* Substraction\n",
        "* Multiplication (element-wise)\n",
        "* Division\n",
        "* Matrix  multiplication"
      ]
    },
    {
      "cell_type": "code",
      "execution_count": null,
      "id": "7e90b5f3",
      "metadata": {
        "id": "7e90b5f3",
        "outputId": "c29f23be-fa39-4249-9f5b-cb5cc606039f"
      },
      "outputs": [
        {
          "data": {
            "text/plain": [
              "tensor([11, 12, 13])"
            ]
          },
          "execution_count": 64,
          "metadata": {},
          "output_type": "execute_result"
        }
      ],
      "source": [
        "# Create a tensor\n",
        "tensor = torch.tensor([1,2,3])\n",
        "tensor + 10"
      ]
    },
    {
      "cell_type": "code",
      "execution_count": null,
      "id": "30129925",
      "metadata": {
        "id": "30129925",
        "outputId": "31e9c57a-5177-4774-82bf-5d969a59bd74"
      },
      "outputs": [
        {
          "data": {
            "text/plain": [
              "tensor([10, 20, 30])"
            ]
          },
          "execution_count": 65,
          "metadata": {},
          "output_type": "execute_result"
        }
      ],
      "source": [
        "# multiply tensor by 10\n",
        "tensor * 10"
      ]
    },
    {
      "cell_type": "code",
      "execution_count": null,
      "id": "914bdd28",
      "metadata": {
        "id": "914bdd28",
        "outputId": "ad766cd3-bd96-49dd-c5cf-c0093945f9e5"
      },
      "outputs": [
        {
          "data": {
            "text/plain": [
              "tensor([-9, -8, -7])"
            ]
          },
          "execution_count": 66,
          "metadata": {},
          "output_type": "execute_result"
        }
      ],
      "source": [
        "# Substract 10\n",
        "tensor - 10"
      ]
    },
    {
      "cell_type": "code",
      "execution_count": null,
      "id": "85cb227d",
      "metadata": {
        "id": "85cb227d",
        "outputId": "6e06c3ed-2c00-4162-c301-442df9ce0ea2"
      },
      "outputs": [
        {
          "data": {
            "text/plain": [
              "tensor([10, 20, 30])"
            ]
          },
          "execution_count": 67,
          "metadata": {},
          "output_type": "execute_result"
        }
      ],
      "source": [
        "# Try out Pytorch in-built functions\n",
        "torch.mul(tensor, 10)"
      ]
    },
    {
      "cell_type": "markdown",
      "id": "70998665",
      "metadata": {
        "id": "70998665"
      },
      "source": [
        "# Matrix Manipulation\n",
        "two types:\n",
        "1. element-wise multiplication\n",
        "2. matrix multiplication (dot product)\n",
        "\n",
        "for more details visit: https://www.mathsisfun.com/algebra/matrix-multiplying.html\n",
        "\n",
        "Main rules:\n",
        "1. The **inner dimensions** must match\n",
        "* `(3,2) @ (3,2)` won't work\n",
        "* `(2,3) @ (3,2)` will work\n",
        "* `(3,2) @ (2,3)` will work\n",
        "2. The resulting matrix has the shape of the **outer dimensions**:\n",
        "* `(2,3) @ (3,2)` gives `(2,2)`\n"
      ]
    },
    {
      "cell_type": "code",
      "execution_count": null,
      "id": "5cf04e87",
      "metadata": {
        "id": "5cf04e87",
        "outputId": "9ff3fa9e-26ca-4345-c834-38bc39ebc16b"
      },
      "outputs": [
        {
          "name": "stdout",
          "output_type": "stream",
          "text": [
            "tensor([1, 2, 3]) * tensor([1, 2, 3])\n",
            "Equals: tensor([1, 4, 9])\n"
          ]
        }
      ],
      "source": [
        "# element wise multiplication\n",
        "print(tensor, '*', tensor)\n",
        "print(f\"Equals: {tensor*tensor}\")"
      ]
    },
    {
      "cell_type": "code",
      "execution_count": null,
      "id": "ba919498",
      "metadata": {
        "id": "ba919498",
        "outputId": "589b19e7-1d2b-4695-f077-eeb7e8a50a03"
      },
      "outputs": [
        {
          "data": {
            "text/plain": [
              "tensor(14)"
            ]
          },
          "execution_count": 69,
          "metadata": {},
          "output_type": "execute_result"
        }
      ],
      "source": [
        "# Matrix multiplication\n",
        "torch.matmul(tensor, tensor)"
      ]
    },
    {
      "cell_type": "code",
      "execution_count": null,
      "id": "3ff8a9fa",
      "metadata": {
        "id": "3ff8a9fa",
        "outputId": "69255556-bc80-4907-e181-54946c010339"
      },
      "outputs": [
        {
          "name": "stdout",
          "output_type": "stream",
          "text": [
            "tensor([[3, 3],\n",
            "        [1, 0]]) \n",
            " tensor([[12, 11],\n",
            "        [ 9, 12]])\n"
          ]
        }
      ],
      "source": [
        "test22   = torch.randint(low=0, high=5, size=(2,2))\n",
        "test22_2 = torch.randint(low=6, high=13, size=(2,2))\n",
        "print(test22,'\\n', test22_2)"
      ]
    },
    {
      "cell_type": "code",
      "execution_count": null,
      "id": "f2f4aeb4",
      "metadata": {
        "id": "f2f4aeb4",
        "outputId": "a177778e-804d-4c23-c7c1-d3842f6f8b80"
      },
      "outputs": [
        {
          "data": {
            "text/plain": [
              "tensor([[63, 69],\n",
              "        [12, 11]])"
            ]
          },
          "execution_count": 71,
          "metadata": {},
          "output_type": "execute_result"
        }
      ],
      "source": [
        "torch.matmul(test22, test22_2)"
      ]
    },
    {
      "cell_type": "code",
      "execution_count": null,
      "id": "790bd967",
      "metadata": {
        "id": "790bd967",
        "outputId": "d7697eec-1a98-493a-c9c3-0ba277195a57"
      },
      "outputs": [
        {
          "data": {
            "text/plain": [
              "tensor([5, 1, 4])"
            ]
          },
          "execution_count": 72,
          "metadata": {},
          "output_type": "execute_result"
        }
      ],
      "source": [
        "# testing dot product\n",
        "test12 = torch.tensor([5, 1, 4])\n",
        "test12"
      ]
    },
    {
      "cell_type": "code",
      "execution_count": null,
      "id": "8736c761",
      "metadata": {
        "id": "8736c761",
        "outputId": "f809f5c3-52e5-4c7c-a92a-00610c145eeb"
      },
      "outputs": [
        {
          "data": {
            "text/plain": [
              "torch.Size([3])"
            ]
          },
          "execution_count": 73,
          "metadata": {},
          "output_type": "execute_result"
        }
      ],
      "source": [
        "test12.shape"
      ]
    },
    {
      "cell_type": "code",
      "execution_count": null,
      "id": "863ee5da",
      "metadata": {
        "id": "863ee5da"
      },
      "outputs": [],
      "source": [
        "# this wont work\n",
        "# torch.matmul(test22, test12);"
      ]
    },
    {
      "cell_type": "code",
      "execution_count": null,
      "id": "3c407f9e",
      "metadata": {
        "id": "3c407f9e",
        "outputId": "4a6b8cf7-ce3b-4926-f02a-f6c7cd315465"
      },
      "outputs": [
        {
          "data": {
            "text/plain": [
              "torch.Size([3, 3])"
            ]
          },
          "execution_count": 75,
          "metadata": {},
          "output_type": "execute_result"
        }
      ],
      "source": [
        "# Outer dimenstions will be the output (3,2)@(3,2) gives (3,3)\n",
        "torch.matmul(torch.rand(3,2), torch.rand(2,3)).shape"
      ]
    },
    {
      "cell_type": "code",
      "execution_count": null,
      "id": "e5ca7337",
      "metadata": {
        "id": "e5ca7337",
        "outputId": "13a3a181-12d5-4868-b5a6-86d3695a0408"
      },
      "outputs": [
        {
          "data": {
            "text/plain": [
              "torch.Size([4, 3])"
            ]
          },
          "execution_count": 76,
          "metadata": {},
          "output_type": "execute_result"
        }
      ],
      "source": [
        "torch.matmul(torch.rand(4,2), torch.rand(2,3)).shape"
      ]
    },
    {
      "cell_type": "markdown",
      "id": "72d55cff",
      "metadata": {
        "id": "72d55cff"
      },
      "source": [
        "#### One of the most commn errors in deep learning: shape error\n",
        "http://matrixmultiplication.xyz/"
      ]
    },
    {
      "cell_type": "code",
      "execution_count": null,
      "id": "a6478306",
      "metadata": {
        "id": "a6478306"
      },
      "outputs": [],
      "source": [
        "tensor_A = torch.tensor([[1,2],\n",
        "                         [3,4],\n",
        "                         [5,6]])\n",
        "tensor_B = torch.tensor([[7,1],\n",
        "                         [8,2],\n",
        "                         [9,3]])"
      ]
    },
    {
      "cell_type": "code",
      "execution_count": null,
      "id": "70d3226a",
      "metadata": {
        "id": "70d3226a",
        "outputId": "51bf8773-f96c-418b-a611-a865a6798334"
      },
      "outputs": [
        {
          "ename": "RuntimeError",
          "evalue": "mat1 and mat2 shapes cannot be multiplied (3x2 and 3x2)",
          "output_type": "error",
          "traceback": [
            "\u001b[1;31m---------------------------------------------------------------------------\u001b[0m",
            "\u001b[1;31mRuntimeError\u001b[0m                              Traceback (most recent call last)",
            "Cell \u001b[1;32mIn[78], line 1\u001b[0m\n\u001b[1;32m----> 1\u001b[0m \u001b[43mtorch\u001b[49m\u001b[38;5;241;43m.\u001b[39;49m\u001b[43mmm\u001b[49m\u001b[43m(\u001b[49m\u001b[43mtensor_A\u001b[49m\u001b[43m,\u001b[49m\u001b[43m \u001b[49m\u001b[43mtensor_B\u001b[49m\u001b[43m)\u001b[49m \u001b[38;5;66;03m# this results into an error\u001b[39;00m\n",
            "\u001b[1;31mRuntimeError\u001b[0m: mat1 and mat2 shapes cannot be multiplied (3x2 and 3x2)"
          ]
        }
      ],
      "source": [
        "torch.mm(tensor_A, tensor_B) # this results into an error"
      ]
    },
    {
      "cell_type": "markdown",
      "id": "59c5ebfe",
      "metadata": {
        "id": "59c5ebfe"
      },
      "source": [
        "### Transpose\n",
        "in order to overcome shape errors, we *transpose* our tensors\n"
      ]
    },
    {
      "cell_type": "code",
      "execution_count": null,
      "id": "6e87dc23",
      "metadata": {
        "id": "6e87dc23",
        "outputId": "9301f4f1-0443-4728-87d6-fab3112b81cc"
      },
      "outputs": [
        {
          "data": {
            "text/plain": [
              "tensor([[7, 8, 9],\n",
              "        [1, 2, 3]])"
            ]
          },
          "execution_count": 80,
          "metadata": {},
          "output_type": "execute_result"
        }
      ],
      "source": [
        "tensor_B.T"
      ]
    },
    {
      "cell_type": "code",
      "execution_count": null,
      "id": "943850fa",
      "metadata": {
        "id": "943850fa",
        "outputId": "da0d70ea-881d-40eb-a4c6-5346d55c97a8"
      },
      "outputs": [
        {
          "name": "stdout",
          "output_type": "stream",
          "text": [
            "tensor([[7, 8, 9],\n",
            "        [1, 2, 3]])\n"
          ]
        },
        {
          "data": {
            "text/plain": [
              "torch.Size([2, 3])"
            ]
          },
          "execution_count": 81,
          "metadata": {},
          "output_type": "execute_result"
        }
      ],
      "source": [
        "print(tensor_B.T)\n",
        "tensor_B.T.shape"
      ]
    },
    {
      "cell_type": "code",
      "execution_count": null,
      "id": "87a3a46d",
      "metadata": {
        "id": "87a3a46d",
        "outputId": "17dcdd6d-0ada-4945-ac24-115ce7e81bbd"
      },
      "outputs": [
        {
          "data": {
            "text/plain": [
              "tensor([[ 9, 12, 15],\n",
              "        [25, 32, 39],\n",
              "        [41, 52, 63]])"
            ]
          },
          "execution_count": 82,
          "metadata": {},
          "output_type": "execute_result"
        }
      ],
      "source": [
        "torch.mm(tensor_A, tensor_B.T) # this works"
      ]
    },
    {
      "cell_type": "markdown",
      "id": "e079b034",
      "metadata": {
        "id": "e079b034"
      },
      "source": [
        "## Finding the min, max, mean, sum, etc (tensor aggregation)"
      ]
    },
    {
      "cell_type": "code",
      "execution_count": null,
      "id": "2d850cf2",
      "metadata": {
        "id": "2d850cf2",
        "outputId": "cb5f366c-69be-46e5-d310-195e4039bc6c"
      },
      "outputs": [
        {
          "data": {
            "text/plain": [
              "tensor([ 2, 12, 22, 32, 42, 52, 62, 72, 82, 92])"
            ]
          },
          "execution_count": 97,
          "metadata": {},
          "output_type": "execute_result"
        }
      ],
      "source": [
        "# create a tensor\n",
        "x = torch.arange(1,100,10) + 1\n",
        "x"
      ]
    },
    {
      "cell_type": "code",
      "execution_count": null,
      "id": "5d678ab3",
      "metadata": {
        "id": "5d678ab3",
        "outputId": "422be084-3bcf-4d7d-cd10-68ed08ea9e71"
      },
      "outputs": [
        {
          "data": {
            "text/plain": [
              "(tensor(1), tensor(1))"
            ]
          },
          "execution_count": 87,
          "metadata": {},
          "output_type": "execute_result"
        }
      ],
      "source": [
        "# find min\n",
        "torch.min(x), x.min()"
      ]
    },
    {
      "cell_type": "code",
      "execution_count": null,
      "id": "e99480f1",
      "metadata": {
        "id": "e99480f1",
        "outputId": "0c76b213-3802-484d-811c-5af1bcacc93d"
      },
      "outputs": [
        {
          "data": {
            "text/plain": [
              "(tensor(91), tensor(91))"
            ]
          },
          "execution_count": 88,
          "metadata": {},
          "output_type": "execute_result"
        }
      ],
      "source": [
        "# max\n",
        "torch.max(x), x.max()"
      ]
    },
    {
      "cell_type": "code",
      "execution_count": null,
      "id": "dd2fe211",
      "metadata": {
        "id": "dd2fe211",
        "outputId": "b35e9f05-68a2-4bc4-acbc-d5917065719d"
      },
      "outputs": [
        {
          "data": {
            "text/plain": [
              "(tensor(46.), tensor(46.))"
            ]
          },
          "execution_count": 93,
          "metadata": {},
          "output_type": "execute_result"
        }
      ],
      "source": [
        "# average\n",
        "torch.mean(x.type(torch.float32)), x.type(torch.float32).mean()"
      ]
    },
    {
      "cell_type": "code",
      "execution_count": null,
      "id": "e6cf2434",
      "metadata": {
        "id": "e6cf2434",
        "outputId": "5bc039e2-26a4-4a5a-f554-7cf31e854c9b"
      },
      "outputs": [
        {
          "data": {
            "text/plain": [
              "(tensor(460), tensor(460))"
            ]
          },
          "execution_count": 95,
          "metadata": {},
          "output_type": "execute_result"
        }
      ],
      "source": [
        "# sum\n",
        "torch.sum(x), x.sum()"
      ]
    },
    {
      "cell_type": "markdown",
      "id": "7ee7568a",
      "metadata": {
        "id": "7ee7568a"
      },
      "source": [
        "## Finding the positional min and max"
      ]
    },
    {
      "cell_type": "code",
      "execution_count": null,
      "id": "25e32eb7",
      "metadata": {
        "id": "25e32eb7",
        "outputId": "73a6349b-79e2-45f8-ca82-9b46e0a27954"
      },
      "outputs": [
        {
          "data": {
            "text/plain": [
              "tensor([ 1, 11, 21, 31, 41, 51, 61, 71, 81, 91])"
            ]
          },
          "execution_count": 96,
          "metadata": {},
          "output_type": "execute_result"
        }
      ],
      "source": [
        "x"
      ]
    },
    {
      "cell_type": "code",
      "execution_count": null,
      "id": "463134ac",
      "metadata": {
        "id": "463134ac",
        "outputId": "7d4fb6bc-6fb4-4bda-8d14-0b129d2a553a"
      },
      "outputs": [
        {
          "data": {
            "text/plain": [
              "tensor(0)"
            ]
          },
          "execution_count": 98,
          "metadata": {},
          "output_type": "execute_result"
        }
      ],
      "source": [
        "# Find the in the tensor that has the minimum value with argmin()-> returns index position of target tensor where the minimum value occurs\n",
        "x.argmin()"
      ]
    },
    {
      "cell_type": "code",
      "execution_count": null,
      "id": "78b7723f",
      "metadata": {
        "id": "78b7723f",
        "outputId": "04751ea3-597f-4aa4-bdbd-791098bbbe0b"
      },
      "outputs": [
        {
          "data": {
            "text/plain": [
              "tensor(2)"
            ]
          },
          "execution_count": 99,
          "metadata": {},
          "output_type": "execute_result"
        }
      ],
      "source": [
        "x[0]"
      ]
    },
    {
      "cell_type": "code",
      "execution_count": null,
      "id": "f8279a1a",
      "metadata": {
        "id": "f8279a1a",
        "outputId": "1c6f640d-4148-4397-a737-b3624fe5f151"
      },
      "outputs": [
        {
          "data": {
            "text/plain": [
              "tensor(9)"
            ]
          },
          "execution_count": 100,
          "metadata": {},
          "output_type": "execute_result"
        }
      ],
      "source": [
        "# Find the position in tensor that has the maximum value with argmax()\n",
        "x.argmax()"
      ]
    },
    {
      "cell_type": "code",
      "execution_count": null,
      "id": "19a2c36f",
      "metadata": {
        "id": "19a2c36f",
        "outputId": "3ef207db-568e-4b98-9e06-0629c7284c41"
      },
      "outputs": [
        {
          "data": {
            "text/plain": [
              "tensor(92)"
            ]
          },
          "execution_count": 101,
          "metadata": {},
          "output_type": "execute_result"
        }
      ],
      "source": [
        "x[9]"
      ]
    },
    {
      "cell_type": "markdown",
      "id": "fa6f64d1",
      "metadata": {
        "id": "fa6f64d1"
      },
      "source": [
        "## Reshaping, stacking, squeezing and unsqueezing tensors\n",
        "\n",
        "* Reshaping - reshapes input tensor to a defined shape\n",
        "* View - Return a view of an input tensor of certain shape but keep the same memory as the original tensor\n",
        "* Stacking -  combine multiple tensors on top of each other (vstack) or side by side (hstack) (v is vertical h is horizontal)\n",
        "* Squeeze - removes all `1` dimensions from a tensor\n",
        "* Unsqueeze - add a `1` dimensions to a target tensor\n",
        "* Permute - Return a view of the input with dimensions permuted (swapped) in a certain way"
      ]
    },
    {
      "cell_type": "markdown",
      "id": "f20e3a5f",
      "metadata": {
        "id": "f20e3a5f"
      },
      "source": []
    },
    {
      "cell_type": "code",
      "execution_count": null,
      "id": "174a4fc7",
      "metadata": {
        "id": "174a4fc7",
        "outputId": "d959444c-b687-46fe-9b7a-3dfe4e36deca"
      },
      "outputs": [
        {
          "data": {
            "text/plain": [
              "(tensor([1., 2., 3., 4., 5., 6., 7., 8., 9.]), torch.Size([9]))"
            ]
          },
          "execution_count": 102,
          "metadata": {},
          "output_type": "execute_result"
        }
      ],
      "source": [
        "# let's create a tensor\n",
        "import torch\n",
        "x = torch.arange(1.,10.)\n",
        "x, x.shape"
      ]
    },
    {
      "cell_type": "code",
      "execution_count": null,
      "id": "11d052b4",
      "metadata": {
        "id": "11d052b4",
        "outputId": "133b0bef-c695-4cd4-a9db-ae0afbb63b95"
      },
      "outputs": [
        {
          "data": {
            "text/plain": [
              "torch.float32"
            ]
          },
          "execution_count": 103,
          "metadata": {},
          "output_type": "execute_result"
        }
      ],
      "source": [
        "x.dtype"
      ]
    },
    {
      "cell_type": "code",
      "execution_count": null,
      "id": "543914ff",
      "metadata": {
        "id": "543914ff",
        "outputId": "06b0d6f9-2ffa-480b-af5b-268b6d34413d"
      },
      "outputs": [
        {
          "data": {
            "text/plain": [
              "tensor([[1., 2., 3., 4., 5., 6., 7., 8., 9.]])"
            ]
          },
          "execution_count": 106,
          "metadata": {},
          "output_type": "execute_result"
        }
      ],
      "source": [
        "# add an extra dimension\n",
        "x_reshaped = x.reshape(1,9)\n",
        "x_reshaped"
      ]
    },
    {
      "cell_type": "code",
      "execution_count": null,
      "id": "83871b52",
      "metadata": {
        "id": "83871b52",
        "outputId": "db8f0da1-853b-47aa-857c-1f6cbccddd64"
      },
      "outputs": [
        {
          "data": {
            "text/plain": [
              "tensor([[1.],\n",
              "        [2.],\n",
              "        [3.],\n",
              "        [4.],\n",
              "        [5.],\n",
              "        [6.],\n",
              "        [7.],\n",
              "        [8.],\n",
              "        [9.]])"
            ]
          },
          "execution_count": 108,
          "metadata": {},
          "output_type": "execute_result"
        }
      ],
      "source": [
        "x_reshaped = x.reshape(9,1)\n",
        "x_reshaped"
      ]
    },
    {
      "cell_type": "code",
      "execution_count": null,
      "id": "4fcc9a93",
      "metadata": {
        "id": "4fcc9a93",
        "outputId": "43992f1a-26df-44b5-c7fb-9a0fdf0b9e1d"
      },
      "outputs": [
        {
          "data": {
            "text/plain": [
              "(tensor([[1., 2., 3., 4., 5., 6., 7., 8., 9.]]), torch.Size([1, 9]))"
            ]
          },
          "execution_count": 109,
          "metadata": {},
          "output_type": "execute_result"
        }
      ],
      "source": [
        "# change view\n",
        "z = x.view(1,9)\n",
        "z, z.shape"
      ]
    },
    {
      "cell_type": "code",
      "execution_count": null,
      "id": "c8df71bc",
      "metadata": {
        "id": "c8df71bc",
        "outputId": "0b6c8a32-aac1-41ac-d165-1b700f8955f4"
      },
      "outputs": [
        {
          "data": {
            "text/plain": [
              "(tensor([[5., 2., 3., 4., 5., 6., 7., 8., 9.]]),\n",
              " tensor([5., 2., 3., 4., 5., 6., 7., 8., 9.]))"
            ]
          },
          "execution_count": 111,
          "metadata": {},
          "output_type": "execute_result"
        }
      ],
      "source": [
        "# changing z changes x (the share same memory and they technically same things)\n",
        "z[:,0] = 5\n",
        "z,x"
      ]
    },
    {
      "cell_type": "code",
      "execution_count": null,
      "id": "7ad17987",
      "metadata": {
        "id": "7ad17987",
        "outputId": "d2d3c8e5-8e3c-4677-e7e5-3db1d598e3e6"
      },
      "outputs": [
        {
          "data": {
            "text/plain": [
              "tensor([[5., 2., 3., 4., 5., 6., 7., 8., 9.],\n",
              "        [5., 2., 3., 4., 5., 6., 7., 8., 9.],\n",
              "        [5., 2., 3., 4., 5., 6., 7., 8., 9.],\n",
              "        [5., 2., 3., 4., 5., 6., 7., 8., 9.]])"
            ]
          },
          "execution_count": 114,
          "metadata": {},
          "output_type": "execute_result"
        }
      ],
      "source": [
        "# Stack tensor on top of each other\n",
        "x_stacked = torch.stack([x, x,x,x], dim=0)\n",
        "x_stacked"
      ]
    },
    {
      "cell_type": "code",
      "execution_count": null,
      "id": "48527fbf",
      "metadata": {
        "id": "48527fbf",
        "outputId": "15d18bbc-7578-4cec-8f6c-f9af48667485"
      },
      "outputs": [
        {
          "data": {
            "text/plain": [
              "tensor([[5., 5., 5., 5.],\n",
              "        [2., 2., 2., 2.],\n",
              "        [3., 3., 3., 3.],\n",
              "        [4., 4., 4., 4.],\n",
              "        [5., 5., 5., 5.],\n",
              "        [6., 6., 6., 6.],\n",
              "        [7., 7., 7., 7.],\n",
              "        [8., 8., 8., 8.],\n",
              "        [9., 9., 9., 9.]])"
            ]
          },
          "execution_count": 115,
          "metadata": {},
          "output_type": "execute_result"
        }
      ],
      "source": [
        "x_stacked = torch.stack([x, x,x,x], dim=1)\n",
        "x_stacked"
      ]
    },
    {
      "cell_type": "code",
      "execution_count": null,
      "id": "72bd9a03",
      "metadata": {
        "id": "72bd9a03",
        "outputId": "aa31a767-1e48-4a49-eaed-a081d52f9c3d"
      },
      "outputs": [
        {
          "data": {
            "text/plain": [
              "(torch.Size([9, 4]), torch.Size([9, 4]))"
            ]
          },
          "execution_count": 129,
          "metadata": {},
          "output_type": "execute_result"
        }
      ],
      "source": [
        "# Squeeze\n",
        "x_stacked.size(), torch.squeeze(x_stacked, -2).size()"
      ]
    },
    {
      "cell_type": "code",
      "execution_count": null,
      "id": "fe73b00d",
      "metadata": {
        "id": "fe73b00d"
      },
      "outputs": [],
      "source": [
        "x = torch.zeros(2, 1, 2, 1, 2)\n",
        "x.size()\n",
        "\n",
        "y = torch.squeeze(x, 0)\n",
        "y.size()\n",
        "\n"
      ]
    },
    {
      "cell_type": "code",
      "execution_count": null,
      "id": "1fc0e2e4",
      "metadata": {
        "id": "1fc0e2e4",
        "outputId": "cf728749-9a50-4750-ad96-be6689e9e914"
      },
      "outputs": [
        {
          "data": {
            "text/plain": [
              "torch.Size([2, 1, 2, 1, 2])"
            ]
          },
          "execution_count": 133,
          "metadata": {},
          "output_type": "execute_result"
        }
      ],
      "source": [
        "x.size()"
      ]
    },
    {
      "cell_type": "code",
      "execution_count": null,
      "id": "da99d81c",
      "metadata": {
        "id": "da99d81c",
        "outputId": "7d4fad31-d89f-4dc7-892e-3dcf16d4de7b"
      },
      "outputs": [
        {
          "data": {
            "text/plain": [
              "torch.Size([2, 2, 2])"
            ]
          },
          "execution_count": 134,
          "metadata": {},
          "output_type": "execute_result"
        }
      ],
      "source": [
        "y = torch.squeeze(x)\n",
        "y.size()"
      ]
    },
    {
      "cell_type": "code",
      "execution_count": null,
      "id": "bbb1fc04",
      "metadata": {
        "id": "bbb1fc04",
        "outputId": "ac36b490-902c-4440-83c5-4a70608d25c2"
      },
      "outputs": [
        {
          "data": {
            "text/plain": [
              "torch.Size([2, 2, 1, 2])"
            ]
          },
          "execution_count": 135,
          "metadata": {},
          "output_type": "execute_result"
        }
      ],
      "source": [
        "y = torch.squeeze(x, 1)\n",
        "y.size()"
      ]
    },
    {
      "cell_type": "code",
      "execution_count": null,
      "id": "79963ce4",
      "metadata": {
        "id": "79963ce4",
        "outputId": "66f22bca-c379-4187-f038-de825d249dce"
      },
      "outputs": [
        {
          "data": {
            "text/plain": [
              "torch.Size([2, 2, 2])"
            ]
          },
          "execution_count": 136,
          "metadata": {},
          "output_type": "execute_result"
        }
      ],
      "source": [
        "y = torch.squeeze(x, (1, 2, 3))\n",
        "y.size()"
      ]
    },
    {
      "cell_type": "code",
      "execution_count": null,
      "id": "e32b702d",
      "metadata": {
        "id": "e32b702d",
        "outputId": "e8a63adf-18cb-4dda-82e4-8a7ed52f33ae"
      },
      "outputs": [
        {
          "data": {
            "text/plain": [
              "tensor([[1., 2., 3., 4., 5., 6., 7., 8., 9.]])"
            ]
          },
          "execution_count": 137,
          "metadata": {},
          "output_type": "execute_result"
        }
      ],
      "source": [
        "x = torch.arange(1., 10.)\n",
        "x_reshaped = x.reshape(1,9)\n",
        "x_reshaped"
      ]
    },
    {
      "cell_type": "code",
      "execution_count": null,
      "id": "50f44ce3",
      "metadata": {
        "id": "50f44ce3",
        "outputId": "274619c7-c039-4ca4-baf7-4b5709ac438e"
      },
      "outputs": [
        {
          "data": {
            "text/plain": [
              "torch.Size([1, 9])"
            ]
          },
          "execution_count": 139,
          "metadata": {},
          "output_type": "execute_result"
        }
      ],
      "source": [
        "x_reshaped.size()"
      ]
    },
    {
      "cell_type": "code",
      "execution_count": null,
      "id": "a94c28b4",
      "metadata": {
        "id": "a94c28b4",
        "outputId": "ed0eb0d8-b8ca-47bc-d964-254fd56a113f"
      },
      "outputs": [
        {
          "data": {
            "text/plain": [
              "tensor([1., 2., 3., 4., 5., 6., 7., 8., 9.])"
            ]
          },
          "execution_count": 141,
          "metadata": {},
          "output_type": "execute_result"
        }
      ],
      "source": [
        "x_reshaped.squeeze()"
      ]
    },
    {
      "cell_type": "code",
      "execution_count": null,
      "id": "1649c2da",
      "metadata": {
        "id": "1649c2da",
        "outputId": "bb71c101-f5e8-423f-81df-d57b1b41ca0e"
      },
      "outputs": [
        {
          "data": {
            "text/plain": [
              "torch.Size([9])"
            ]
          },
          "execution_count": 142,
          "metadata": {},
          "output_type": "execute_result"
        }
      ],
      "source": [
        "x_reshaped.squeeze().shape"
      ]
    },
    {
      "cell_type": "code",
      "execution_count": null,
      "id": "8a68db72",
      "metadata": {
        "id": "8a68db72",
        "outputId": "5f0cda65-4a01-4b92-9d9e-ac1b881dda38"
      },
      "outputs": [
        {
          "name": "stdout",
          "output_type": "stream",
          "text": [
            "Previous tensor : tensor([[1., 2., 3., 4., 5., 6., 7., 8., 9.]])\n",
            "Previous shape: torch.Size([1, 9])\n",
            "New tensor : tensor([1., 2., 3., 4., 5., 6., 7., 8., 9.])\n",
            "New shape : torch.Size([9])\n"
          ]
        }
      ],
      "source": [
        "print(f\"Previous tensor : {x_reshaped}\")\n",
        "print(f\"Previous shape: {x_reshaped.shape}\")\n",
        "\n",
        "print(f\"New tensor : {x_reshaped.squeeze()}\") # this removes one blacket\n",
        "print(f\"New shape : {x_reshaped.squeeze().shape}\")"
      ]
    },
    {
      "cell_type": "code",
      "execution_count": null,
      "id": "06bc7dcf",
      "metadata": {
        "id": "06bc7dcf",
        "outputId": "5c840b27-950f-4650-c687-5b8ec5ddfbe6"
      },
      "outputs": [
        {
          "name": "stdout",
          "output_type": "stream",
          "text": [
            "Previous target: tensor([1., 2., 3., 4., 5., 6., 7., 8., 9.])\n",
            "Previous shape: torch.Size([9])\n",
            "New target: tensor([[1., 2., 3., 4., 5., 6., 7., 8., 9.]])\n",
            "New shape: torch.Size([1, 9])\n"
          ]
        }
      ],
      "source": [
        "# torch.unsqueeze() - adds a single dimension to a target tensor at a specific dim (vertical or horizontal)\n",
        "x_squeezed = x_reshaped.squeeze()\n",
        "print(f\"Previous target: {x_squeezed}\")\n",
        "print(f\"Previous shape: {x_squeezed.shape}\")\n",
        "\n",
        "# add extra dimension\n",
        "x_unsqueezed = x_squeezed.unsqueeze(dim=0)\n",
        "\n",
        "print(f\"New target: {x_unsqueezed}\")\n",
        "print(f\"New shape: {x_unsqueezed.shape}\")\n"
      ]
    },
    {
      "cell_type": "code",
      "execution_count": null,
      "id": "62decfb0",
      "metadata": {
        "id": "62decfb0",
        "outputId": "cfb2ded4-afb1-4fa2-d9c5-35a87bc34944"
      },
      "outputs": [
        {
          "name": "stdout",
          "output_type": "stream",
          "text": [
            "New target: tensor([[1.],\n",
            "        [2.],\n",
            "        [3.],\n",
            "        [4.],\n",
            "        [5.],\n",
            "        [6.],\n",
            "        [7.],\n",
            "        [8.],\n",
            "        [9.]])\n",
            "New shape: torch.Size([9, 1])\n"
          ]
        }
      ],
      "source": [
        "# add extra dimension\n",
        "x_unsqueezed = x_squeezed.unsqueeze(dim=1)\n",
        "\n",
        "print(f\"New target: {x_unsqueezed}\")\n",
        "print(f\"New shape: {x_unsqueezed.shape}\")"
      ]
    },
    {
      "cell_type": "markdown",
      "id": "8de24f6b",
      "metadata": {
        "id": "8de24f6b"
      },
      "source": [
        "## Permute - rearranges the dimensions of a target in a specific order\n",
        "\n"
      ]
    },
    {
      "cell_type": "code",
      "execution_count": null,
      "id": "c5caa4b7",
      "metadata": {
        "id": "c5caa4b7",
        "outputId": "9142c4c8-75bd-43c8-9e21-ee568d9bde4e"
      },
      "outputs": [
        {
          "name": "stdout",
          "output_type": "stream",
          "text": [
            "torch.Size([224, 224, 3])\n",
            "torch.Size([3, 224, 224])\n"
          ]
        }
      ],
      "source": [
        "x_original = torch.rand(size = (224, 224, 3)) #height width and color\n",
        "print(x_original.shape)\n",
        "\n",
        "# permute the original tensor to rearrange the axis (or dim) order\n",
        "\n",
        "x_permuted = x_original.permute(2,0,1) # shift axis 0->1, 1->2, 2->0\n",
        "print(x_permuted.shape)"
      ]
    },
    {
      "cell_type": "code",
      "execution_count": null,
      "id": "538b1d57",
      "metadata": {
        "id": "538b1d57",
        "outputId": "4dd2d789-842c-4b7a-e295-4f9f1f94f749"
      },
      "outputs": [
        {
          "name": "stdout",
          "output_type": "stream",
          "text": [
            "torch.Size([5, 5, 3])\n"
          ]
        },
        {
          "data": {
            "text/plain": [
              "tensor([[[0.3474, 0.1166, 0.2591],\n",
              "         [0.0804, 0.6707, 0.2048],\n",
              "         [0.6320, 0.9148, 0.5595],\n",
              "         [0.6056, 0.6369, 0.9347],\n",
              "         [0.5436, 0.1846, 0.9779]],\n",
              "\n",
              "        [[0.3759, 0.4521, 0.3060],\n",
              "         [0.4214, 0.0033, 0.9985],\n",
              "         [0.5127, 0.5240, 0.6872],\n",
              "         [0.7123, 0.5613, 0.7903],\n",
              "         [0.4880, 0.7939, 0.7612]],\n",
              "\n",
              "        [[0.5200, 0.9190, 0.8586],\n",
              "         [0.2616, 0.8788, 0.5516],\n",
              "         [0.8113, 0.0380, 0.2469],\n",
              "         [0.1021, 0.9174, 0.6076],\n",
              "         [0.8927, 0.0755, 0.0170]],\n",
              "\n",
              "        [[0.3754, 0.5652, 0.4497],\n",
              "         [0.6007, 0.2076, 0.6277],\n",
              "         [0.6171, 0.2341, 0.0788],\n",
              "         [0.0579, 0.8323, 0.1707],\n",
              "         [0.4306, 0.2778, 0.8251]],\n",
              "\n",
              "        [[0.1453, 0.4257, 0.6474],\n",
              "         [0.3913, 0.4612, 0.6796],\n",
              "         [0.3597, 0.8915, 0.0611],\n",
              "         [0.3607, 0.0262, 0.6734],\n",
              "         [0.6283, 0.9063, 0.5743]]])"
            ]
          },
          "execution_count": 150,
          "metadata": {},
          "output_type": "execute_result"
        }
      ],
      "source": [
        "another_test = torch.rand(size=(5,5,3))\n",
        "print(another_test.shape)\n",
        "another_test"
      ]
    },
    {
      "cell_type": "code",
      "execution_count": null,
      "id": "3862b17b",
      "metadata": {
        "id": "3862b17b",
        "outputId": "c3160420-c5de-4931-aa47-9d602249490d"
      },
      "outputs": [
        {
          "name": "stdout",
          "output_type": "stream",
          "text": [
            "torch.Size([3, 5, 5])\n"
          ]
        },
        {
          "data": {
            "text/plain": [
              "tensor([[[0.3474, 0.0804, 0.6320, 0.6056, 0.5436],\n",
              "         [0.3759, 0.4214, 0.5127, 0.7123, 0.4880],\n",
              "         [0.5200, 0.2616, 0.8113, 0.1021, 0.8927],\n",
              "         [0.3754, 0.6007, 0.6171, 0.0579, 0.4306],\n",
              "         [0.1453, 0.3913, 0.3597, 0.3607, 0.6283]],\n",
              "\n",
              "        [[0.1166, 0.6707, 0.9148, 0.6369, 0.1846],\n",
              "         [0.4521, 0.0033, 0.5240, 0.5613, 0.7939],\n",
              "         [0.9190, 0.8788, 0.0380, 0.9174, 0.0755],\n",
              "         [0.5652, 0.2076, 0.2341, 0.8323, 0.2778],\n",
              "         [0.4257, 0.4612, 0.8915, 0.0262, 0.9063]],\n",
              "\n",
              "        [[0.2591, 0.2048, 0.5595, 0.9347, 0.9779],\n",
              "         [0.3060, 0.9985, 0.6872, 0.7903, 0.7612],\n",
              "         [0.8586, 0.5516, 0.2469, 0.6076, 0.0170],\n",
              "         [0.4497, 0.6277, 0.0788, 0.1707, 0.8251],\n",
              "         [0.6474, 0.6796, 0.0611, 0.6734, 0.5743]]])"
            ]
          },
          "execution_count": 152,
          "metadata": {},
          "output_type": "execute_result"
        }
      ],
      "source": [
        "another_permuted = another_test.permute(2,0,1)\n",
        "print(another_permuted.shape)\n",
        "another_permuted"
      ]
    },
    {
      "cell_type": "code",
      "execution_count": null,
      "id": "66d604e2",
      "metadata": {
        "id": "66d604e2"
      },
      "outputs": [],
      "source": [
        "another_test[0,0,0] = 10"
      ]
    },
    {
      "cell_type": "code",
      "execution_count": null,
      "id": "900fd631",
      "metadata": {
        "id": "900fd631",
        "outputId": "1d24d248-e856-4607-ac7d-e74cda9364fb"
      },
      "outputs": [
        {
          "data": {
            "text/plain": [
              "tensor(10.)"
            ]
          },
          "execution_count": 158,
          "metadata": {},
          "output_type": "execute_result"
        }
      ],
      "source": [
        "another_permuted[0,0,0]"
      ]
    },
    {
      "cell_type": "markdown",
      "id": "f5ffaef3",
      "metadata": {
        "id": "f5ffaef3"
      },
      "source": [
        "### Indexing (selecting data from a tensors)\n",
        "indexing with pyTorch is similar to indexing with Numpy"
      ]
    },
    {
      "cell_type": "code",
      "execution_count": null,
      "id": "cb1dfca5",
      "metadata": {
        "id": "cb1dfca5",
        "outputId": "69f5ede2-5882-4f17-dac2-812f3b3897e9"
      },
      "outputs": [
        {
          "name": "stdout",
          "output_type": "stream",
          "text": [
            "torch.Size([9]) tensor([1, 2, 3, 4, 5, 6, 7, 8, 9])\n",
            "torch.Size([1, 3, 3])\n"
          ]
        },
        {
          "data": {
            "text/plain": [
              "tensor([[[1, 2, 3],\n",
              "         [4, 5, 6],\n",
              "         [7, 8, 9]]])"
            ]
          },
          "execution_count": 165,
          "metadata": {},
          "output_type": "execute_result"
        }
      ],
      "source": [
        "import torch\n",
        "\n",
        "x = torch.arange(1,10)\n",
        "print(x.shape, x)\n",
        "x = x.reshape(1,3,3)\n",
        "print(x.shape)\n",
        "x"
      ]
    },
    {
      "cell_type": "code",
      "execution_count": null,
      "id": "593fe947",
      "metadata": {
        "id": "593fe947",
        "outputId": "5125583e-9a34-401c-830f-dff6cdedf2cc"
      },
      "outputs": [
        {
          "data": {
            "text/plain": [
              "tensor(1)"
            ]
          },
          "execution_count": 164,
          "metadata": {},
          "output_type": "execute_result"
        }
      ],
      "source": [
        "x[0][0][0]"
      ]
    },
    {
      "cell_type": "code",
      "execution_count": null,
      "id": "271e93ce",
      "metadata": {
        "id": "271e93ce",
        "outputId": "4d396b7e-f4b3-4297-9efc-c3b9b9d2cf03"
      },
      "outputs": [
        {
          "data": {
            "text/plain": [
              "tensor(9)"
            ]
          },
          "execution_count": 166,
          "metadata": {},
          "output_type": "execute_result"
        }
      ],
      "source": [
        "x[0,2,2]"
      ]
    },
    {
      "cell_type": "code",
      "execution_count": null,
      "id": "aa7cc15a",
      "metadata": {
        "id": "aa7cc15a",
        "outputId": "2f049dfe-f1a1-4e26-9034-0cff60963784"
      },
      "outputs": [
        {
          "name": "stdout",
          "output_type": "stream",
          "text": [
            "first column tensor([[1, 4, 7]])\n",
            "Second column tensor([[2, 5, 8]])\n",
            "Third column tensor([[3, 6, 9]])\n"
          ]
        }
      ],
      "source": [
        "# in this example, the last value will always return a column\n",
        "print(f\"first column {x[:,:,0]}\")\n",
        "print(f\"Second column {x[:,:,1]}\")\n",
        "print(f\"Third column {x[:,:,2]}\")"
      ]
    },
    {
      "cell_type": "code",
      "execution_count": null,
      "id": "7f760575",
      "metadata": {
        "id": "7f760575",
        "outputId": "944e5ed6-6750-4fd7-bdb2-2cfc3d007490"
      },
      "outputs": [
        {
          "name": "stdout",
          "output_type": "stream",
          "text": [
            "first row tensor([[1, 2, 3]])\n",
            "Second row tensor([[4, 5, 6]])\n",
            "Third row tensor([[7, 8, 9]])\n"
          ]
        }
      ],
      "source": [
        "# in this example, the middle value will always return a row\n",
        "print(f\"first row {x[:,0, :]}\")\n",
        "print(f\"Second row {x[:,1, :]}\")\n",
        "print(f\"Third row {x[:,2, :]}\")"
      ]
    },
    {
      "cell_type": "markdown",
      "id": "9c284591",
      "metadata": {
        "id": "9c284591"
      },
      "source": [
        "### PyTorch tensors & Numpy\n",
        "Numpy is a popular scientific python numerical computing library\n",
        "PyTorch interacts with it\n",
        "* Data in NumPy can be made Tensors `torch.from_numpy(ndarray)`\n",
        "* From PyTorch to Numpy `torch.Tensor.numpy`"
      ]
    },
    {
      "cell_type": "code",
      "execution_count": null,
      "id": "e9112952",
      "metadata": {
        "id": "e9112952"
      },
      "outputs": [],
      "source": [
        "import torch\n",
        "import numpy as np"
      ]
    },
    {
      "cell_type": "code",
      "execution_count": null,
      "id": "0c528a8c",
      "metadata": {
        "id": "0c528a8c",
        "outputId": "1b763811-0f8c-410d-e74d-2b73e6b146d5"
      },
      "outputs": [
        {
          "name": "stdout",
          "output_type": "stream",
          "text": [
            "[1. 2. 3. 4. 5. 6. 7.]\n",
            "tensor([1., 2., 3., 4., 5., 6., 7.], dtype=torch.float64)\n"
          ]
        }
      ],
      "source": [
        "array = np.arange(1., 8.) # default dtype is float64 and thus this will be carried over to tensor\n",
        "print(array)\n",
        "tensor = torch.from_numpy(array)\n",
        "print(tensor)"
      ]
    },
    {
      "cell_type": "code",
      "execution_count": null,
      "id": "ba0b8893",
      "metadata": {
        "id": "ba0b8893",
        "outputId": "c0a36ca6-e978-4211-9fd3-9db2ac8c701f"
      },
      "outputs": [
        {
          "data": {
            "text/plain": [
              "(tensor([1., 1., 1., 1., 1., 1., 1., 1., 1., 1.]),\n",
              " array([1., 1., 1., 1., 1., 1., 1., 1., 1., 1.], dtype=float32))"
            ]
          },
          "execution_count": 182,
          "metadata": {},
          "output_type": "execute_result"
        }
      ],
      "source": [
        "# Tensor to Numpy array\n",
        "tensor = torch.ones(10)\n",
        "numpy_tensor = tensor.numpy()\n",
        "tensor, numpy_tensor"
      ]
    },
    {
      "cell_type": "code",
      "execution_count": null,
      "id": "45f2837a",
      "metadata": {
        "id": "45f2837a",
        "outputId": "ecf28fd7-a6b1-4439-f363-dc3ee3e71835"
      },
      "outputs": [
        {
          "data": {
            "text/plain": [
              "dtype('float32')"
            ]
          },
          "execution_count": 183,
          "metadata": {},
          "output_type": "execute_result"
        }
      ],
      "source": [
        "numpy_tensor.dtype"
      ]
    },
    {
      "cell_type": "markdown",
      "id": "f508af36",
      "metadata": {
        "id": "f508af36"
      },
      "source": [
        "### Reproducibility (trying to take the random out of random)"
      ]
    },
    {
      "cell_type": "code",
      "execution_count": null,
      "id": "56c06372",
      "metadata": {
        "id": "56c06372"
      },
      "outputs": [],
      "source": [
        "import torch"
      ]
    },
    {
      "cell_type": "code",
      "source": [
        "# Create two random tensors\n",
        "random_tensor_A = torch.rand(4,3)\n",
        "random_tensor_B = torch.rand(4,3)\n",
        "print(random_tensor_A)\n",
        "print(random_tensor_B)\n",
        "print(random_tensor_A == random_tensor_B)"
      ],
      "metadata": {
        "colab": {
          "base_uri": "https://localhost:8080/"
        },
        "id": "9iLGKZHNHWs3",
        "outputId": "ba704df3-c835-463d-ad89-00f15b752c76"
      },
      "id": "9iLGKZHNHWs3",
      "execution_count": null,
      "outputs": [
        {
          "output_type": "stream",
          "name": "stdout",
          "text": [
            "tensor([[0.5681, 0.5221, 0.6899],\n",
            "        [0.2353, 0.1047, 0.5473],\n",
            "        [0.1598, 0.2104, 0.5922],\n",
            "        [0.9750, 0.9588, 0.4303]])\n",
            "tensor([[0.7634, 0.5006, 0.1384],\n",
            "        [0.5448, 0.6193, 0.4694],\n",
            "        [0.8238, 0.5744, 0.3552],\n",
            "        [0.1127, 0.6183, 0.3941]])\n",
            "tensor([[False, False, False],\n",
            "        [False, False, False],\n",
            "        [False, False, False],\n",
            "        [False, False, False]])\n"
          ]
        }
      ]
    },
    {
      "cell_type": "code",
      "execution_count": null,
      "id": "9730ee1b",
      "metadata": {
        "colab": {
          "base_uri": "https://localhost:8080/"
        },
        "id": "9730ee1b",
        "outputId": "aac755cb-8683-4bcc-a07f-0bb5106d7c57"
      },
      "outputs": [
        {
          "output_type": "execute_result",
          "data": {
            "text/plain": [
              "tensor([[0.6180, 0.0687, 0.3893],\n",
              "        [0.0404, 0.4013, 0.1442],\n",
              "        [0.4605, 0.4877, 0.5927],\n",
              "        [0.9634, 0.1230, 0.4048]])"
            ]
          },
          "metadata": {},
          "execution_count": 3
        }
      ],
      "source": [
        "import random\n",
        "## set the random seed\n",
        "RANDOM_SEED = 50\n",
        "torch.manual_seed(RANDOM_SEED)\n",
        "random_tensor_H = torch.rand(4,3)\n",
        "random_tensor_H"
      ]
    },
    {
      "cell_type": "code",
      "execution_count": null,
      "id": "6400e789",
      "metadata": {
        "colab": {
          "base_uri": "https://localhost:8080/"
        },
        "id": "6400e789",
        "outputId": "3badb8a0-6665-4a25-f3fd-29fdbb4ae95d"
      },
      "outputs": [
        {
          "output_type": "execute_result",
          "data": {
            "text/plain": [
              "tensor([[0.6180, 0.0687, 0.3893],\n",
              "        [0.0404, 0.4013, 0.1442],\n",
              "        [0.4605, 0.4877, 0.5927],\n",
              "        [0.9634, 0.1230, 0.4048]])"
            ]
          },
          "metadata": {},
          "execution_count": 4
        }
      ],
      "source": [
        "# We have to reset the seed every time otherwise tensor E would be different to tensor_H\n",
        "torch.manual_seed(RANDOM_SEED)\n",
        "random_tensor_E = torch.rand(4,3)\n",
        "random_tensor_E"
      ]
    },
    {
      "cell_type": "markdown",
      "source": [],
      "metadata": {
        "id": "nynsWmTz1UH2"
      },
      "id": "nynsWmTz1UH2"
    },
    {
      "cell_type": "code",
      "execution_count": null,
      "id": "57a8bb04",
      "metadata": {
        "colab": {
          "base_uri": "https://localhost:8080/"
        },
        "id": "57a8bb04",
        "outputId": "572a4f39-5060-4e25-9b0c-53b03b02afa4"
      },
      "outputs": [
        {
          "output_type": "execute_result",
          "data": {
            "text/plain": [
              "tensor([[True, True, True],\n",
              "        [True, True, True],\n",
              "        [True, True, True],\n",
              "        [True, True, True]])"
            ]
          },
          "metadata": {},
          "execution_count": 5
        }
      ],
      "source": [
        "random_tensor_E == random_tensor_H"
      ]
    },
    {
      "cell_type": "markdown",
      "source": [
        "### Running tensors on GPUs (and making faster computations)"
      ],
      "metadata": {
        "id": "fJwadamK1aBA"
      },
      "id": "fJwadamK1aBA"
    },
    {
      "cell_type": "code",
      "execution_count": null,
      "id": "23b3430b",
      "metadata": {
        "colab": {
          "base_uri": "https://localhost:8080/"
        },
        "id": "23b3430b",
        "outputId": "77bed547-c484-4898-ce2b-a25cfd19db36"
      },
      "outputs": [
        {
          "output_type": "execute_result",
          "data": {
            "text/plain": [
              "True"
            ]
          },
          "metadata": {},
          "execution_count": 2
        }
      ],
      "source": [
        "torch.cuda.is_available() # if this returns True, the PyTorch can see and use GPU"
      ]
    },
    {
      "cell_type": "code",
      "execution_count": null,
      "id": "1b69071f",
      "metadata": {
        "colab": {
          "base_uri": "https://localhost:8080/",
          "height": 35
        },
        "id": "1b69071f",
        "outputId": "a4228501-fc54-4799-8935-ca80b73e4f58"
      },
      "outputs": [
        {
          "output_type": "execute_result",
          "data": {
            "text/plain": [
              "'cuda'"
            ],
            "application/vnd.google.colaboratory.intrinsic+json": {
              "type": "string"
            }
          },
          "metadata": {},
          "execution_count": 7
        }
      ],
      "source": [
        "device = \"cuda\" if torch.cuda.is_available() else \"cpu\"\n",
        "device"
      ]
    },
    {
      "cell_type": "code",
      "execution_count": null,
      "id": "0a51817b",
      "metadata": {
        "colab": {
          "base_uri": "https://localhost:8080/"
        },
        "id": "0a51817b",
        "outputId": "1b5906e3-b291-44dc-8aca-49ca2efa83ff"
      },
      "outputs": [
        {
          "output_type": "execute_result",
          "data": {
            "text/plain": [
              "1"
            ]
          },
          "metadata": {},
          "execution_count": 4
        }
      ],
      "source": [
        "# count number of devices\n",
        "\"\"\"\n",
        "Knowing the number of GPUs PyTorch has access to is\n",
        "helpful incase you wanted to run a specific process\n",
        "on one GPU and another process on another\n",
        "(PyTorch also has features to let you run a process across all GPUs).\n",
        "\n",
        "\"\"\"\n",
        "torch.cuda.device_count()"
      ]
    },
    {
      "cell_type": "markdown",
      "source": [
        "## Putting tensors (and models) on the GPU\n",
        "\n",
        "You can put tensors (and models, we'll see this later) on a specific device by calling to(device) on them. Where device is the target device you'd like the tensor (or model) to go to.\n",
        "\n",
        "Why do this?\n",
        "\n",
        "GPUs offer far faster numerical computing than CPUs do and if a GPU isn't available, because of our device agnostic code (see above), it'll run on the CPU."
      ],
      "metadata": {
        "id": "eS0UNJDp4qj9"
      },
      "id": "eS0UNJDp4qj9"
    },
    {
      "cell_type": "code",
      "source": [
        "# create tensor (default on CPU)\n",
        "tensor = torch.arange(1,20)\n",
        "tensor.device"
      ],
      "metadata": {
        "id": "E_yFjt_8276r",
        "colab": {
          "base_uri": "https://localhost:8080/"
        },
        "outputId": "2ab7563f-6327-494a-a8bd-3e371dc13b92"
      },
      "id": "E_yFjt_8276r",
      "execution_count": null,
      "outputs": [
        {
          "output_type": "execute_result",
          "data": {
            "text/plain": [
              "device(type='cpu')"
            ]
          },
          "metadata": {},
          "execution_count": 6
        }
      ]
    },
    {
      "cell_type": "code",
      "source": [
        "# You can move tensor to GPU if available\n",
        "tensor_gpu = tensor.to(device)\n",
        "tensor_gpu.device"
      ],
      "metadata": {
        "id": "VKXqDCNe27-W",
        "colab": {
          "base_uri": "https://localhost:8080/"
        },
        "outputId": "d5d9b5d2-2bee-47b1-ae13-a65f730c6a60"
      },
      "id": "VKXqDCNe27-W",
      "execution_count": null,
      "outputs": [
        {
          "output_type": "execute_result",
          "data": {
            "text/plain": [
              "device(type='cuda', index=0)"
            ]
          },
          "metadata": {},
          "execution_count": 8
        }
      ]
    },
    {
      "cell_type": "markdown",
      "source": [
        "### Moving tensors back to the CPU\n",
        "there are several reasons one need to move a tensor back to CPU. One of the reasons is NUMPY. Numpy can't run on GPU"
      ],
      "metadata": {
        "id": "aHDO-4sd85nb"
      },
      "id": "aHDO-4sd85nb"
    },
    {
      "cell_type": "code",
      "source": [
        "tensor_gpu.numpy()"
      ],
      "metadata": {
        "id": "HTgCdKlY28B-",
        "colab": {
          "base_uri": "https://localhost:8080/",
          "height": 159
        },
        "outputId": "3bb1016b-b63b-4241-f58e-815544470186"
      },
      "id": "HTgCdKlY28B-",
      "execution_count": null,
      "outputs": [
        {
          "output_type": "error",
          "ename": "TypeError",
          "evalue": "can't convert cuda:0 device type tensor to numpy. Use Tensor.cpu() to copy the tensor to host memory first.",
          "traceback": [
            "\u001b[0;31m---------------------------------------------------------------------------\u001b[0m",
            "\u001b[0;31mTypeError\u001b[0m                                 Traceback (most recent call last)",
            "\u001b[0;32m<ipython-input-13-38bb9e30cd1b>\u001b[0m in \u001b[0;36m<cell line: 1>\u001b[0;34m()\u001b[0m\n\u001b[0;32m----> 1\u001b[0;31m \u001b[0mtensor_gpu\u001b[0m\u001b[0;34m.\u001b[0m\u001b[0mnumpy\u001b[0m\u001b[0;34m(\u001b[0m\u001b[0;34m)\u001b[0m\u001b[0;34m\u001b[0m\u001b[0;34m\u001b[0m\u001b[0m\n\u001b[0m",
            "\u001b[0;31mTypeError\u001b[0m: can't convert cuda:0 device type tensor to numpy. Use Tensor.cpu() to copy the tensor to host memory first."
          ]
        }
      ]
    },
    {
      "cell_type": "code",
      "source": [
        "# Copy tensor back to CPU\n",
        "tensor_back_cpu = tensor_gpu.cpu().numpy()\n",
        "tensor_back_cpu"
      ],
      "metadata": {
        "id": "mrq13Clw28F5",
        "colab": {
          "base_uri": "https://localhost:8080/"
        },
        "outputId": "da5ebcfc-0d60-4dad-9212-b9b2b53f9faf"
      },
      "id": "mrq13Clw28F5",
      "execution_count": null,
      "outputs": [
        {
          "output_type": "execute_result",
          "data": {
            "text/plain": [
              "array([ 1,  2,  3,  4,  5,  6,  7,  8,  9, 10, 11, 12, 13, 14, 15, 16, 17,\n",
              "       18, 19])"
            ]
          },
          "metadata": {},
          "execution_count": 14
        }
      ]
    },
    {
      "cell_type": "code",
      "source": [],
      "metadata": {
        "id": "qnU4COHR28Jo"
      },
      "id": "qnU4COHR28Jo",
      "execution_count": null,
      "outputs": []
    },
    {
      "cell_type": "code",
      "source": [],
      "metadata": {
        "id": "Rt9gH46h28M6"
      },
      "id": "Rt9gH46h28M6",
      "execution_count": null,
      "outputs": []
    },
    {
      "cell_type": "markdown",
      "id": "ec1700da",
      "metadata": {
        "id": "ec1700da"
      },
      "source": []
    },
    {
      "cell_type": "markdown",
      "id": "983ccbde",
      "metadata": {
        "id": "983ccbde"
      },
      "source": []
    }
  ],
  "metadata": {
    "kernelspec": {
      "display_name": "Python 3",
      "name": "python3"
    },
    "language_info": {
      "codemirror_mode": {
        "name": "ipython",
        "version": 3
      },
      "file_extension": ".py",
      "mimetype": "text/x-python",
      "name": "python",
      "nbconvert_exporter": "python",
      "pygments_lexer": "ipython3",
      "version": "3.12.5"
    },
    "colab": {
      "provenance": [],
      "gpuType": "T4",
      "include_colab_link": true
    },
    "accelerator": "GPU"
  },
  "nbformat": 4,
  "nbformat_minor": 5
}