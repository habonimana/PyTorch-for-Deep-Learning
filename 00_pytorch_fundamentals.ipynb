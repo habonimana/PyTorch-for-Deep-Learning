{
 "cells": [
  {
   "cell_type": "markdown",
   "id": "cd1b3e5f-b260-44d9-bc82-9bea30a720eb",
   "metadata": {},
   "source": [
    "## 00. Pytorch Fundamentals\n",
    "\n",
    "*   List item\n",
    "*   List item\n",
    "\n",
    "\n",
    "Resource notebook: https://github.com/mrdbourke/pytorch-deep-learning/blob/main/00_pytorch_fundamentals.ipynb\n",
    "\n",
    "questions: https://github.com/mrdbourke/pytorch-deep-learning/discussions"
   ]
  },
  {
   "cell_type": "code",
   "execution_count": 40,
   "id": "f1b69466-36fc-4887-946d-d7cc1828c85e",
   "metadata": {},
   "outputs": [
    {
     "name": "stdout",
     "output_type": "stream",
     "text": [
      "2.3.0+cpu\n"
     ]
    }
   ],
   "source": [
    "import torch\n",
    "import pandas as pd\n",
    "import numpy as np\n",
    "import matplotlib.pyplot as plt\n",
    "print(torch.__version__)"
   ]
  },
  {
   "cell_type": "code",
   "execution_count": 41,
   "id": "9c2a29b4-90cd-45c6-b131-3bec14c4f855",
   "metadata": {},
   "outputs": [
    {
     "data": {
      "text/plain": [
       "3"
      ]
     },
     "execution_count": 41,
     "metadata": {},
     "output_type": "execute_result"
    }
   ],
   "source": [
    "TENSOR = torch.tensor([[[1,2,3,9],\n",
    "                        [3,6,9,9],\n",
    "                        [2,4,5,9],\n",
    "                        [1,2,3,4]],\n",
    "                       [[1,2,3,9],\n",
    "                        [3,6,9,9],\n",
    "                        [2,4,5,9],\n",
    "                        [1,2,3,4]]\n",
    "                       ])\n",
    "TENSOR.ndim"
   ]
  },
  {
   "cell_type": "markdown",
   "id": "9f3cb70d",
   "metadata": {},
   "source": [
    "# Random Tensors\n",
    "` start with random numbers -> look at data -> update random -> look at data -> update random`"
   ]
  },
  {
   "cell_type": "code",
   "execution_count": 42,
   "id": "6b8c373d",
   "metadata": {},
   "outputs": [
    {
     "data": {
      "text/plain": [
       "tensor([[0.5279, 0.3024, 0.1307, 0.0299],\n",
       "        [0.5185, 0.3766, 0.0862, 0.7558],\n",
       "        [0.1886, 0.0427, 0.8822, 0.7031]])"
      ]
     },
     "execution_count": 42,
     "metadata": {},
     "output_type": "execute_result"
    }
   ],
   "source": [
    "# create a random tensor\n",
    "random_tensor = torch.rand(3,4)\n",
    "random_tensor"
   ]
  },
  {
   "cell_type": "code",
   "execution_count": 43,
   "id": "93547bcd",
   "metadata": {},
   "outputs": [
    {
     "data": {
      "text/plain": [
       "2"
      ]
     },
     "execution_count": 43,
     "metadata": {},
     "output_type": "execute_result"
    }
   ],
   "source": [
    "random_tensor.ndim"
   ]
  },
  {
   "cell_type": "code",
   "execution_count": 44,
   "id": "73386c88",
   "metadata": {},
   "outputs": [
    {
     "data": {
      "text/plain": [
       "tensor([[[0.7563, 0.9231, 0.5587,  ..., 0.8262, 0.9433, 0.7607],\n",
       "         [0.1021, 0.7780, 0.6238,  ..., 0.8845, 0.0529, 0.6929],\n",
       "         [0.1762, 0.3480, 0.0208,  ..., 0.3436, 0.4252, 0.0618],\n",
       "         ...,\n",
       "         [0.9521, 0.2061, 0.8952,  ..., 0.5589, 0.1154, 0.7754],\n",
       "         [0.8858, 0.5582, 0.4039,  ..., 0.3556, 0.1676, 0.6145],\n",
       "         [0.0746, 0.0075, 0.3369,  ..., 0.6644, 0.5306, 0.3677]],\n",
       "\n",
       "        [[0.5787, 0.5428, 0.3017,  ..., 0.0756, 0.1107, 0.8056],\n",
       "         [0.9180, 0.3913, 0.3087,  ..., 0.5569, 0.8266, 0.8002],\n",
       "         [0.4360, 0.5531, 0.9249,  ..., 0.1803, 0.3017, 0.3873],\n",
       "         ...,\n",
       "         [0.8132, 0.8042, 0.4646,  ..., 0.6180, 0.8451, 0.1382],\n",
       "         [0.9062, 0.8710, 0.1774,  ..., 0.9790, 0.9371, 0.1152],\n",
       "         [0.1611, 0.2521, 0.2196,  ..., 0.9555, 0.7106, 0.7671]],\n",
       "\n",
       "        [[0.3201, 0.2301, 0.8420,  ..., 0.8421, 0.3152, 0.6456],\n",
       "         [0.2296, 0.8866, 0.9986,  ..., 0.3698, 0.8165, 0.4702],\n",
       "         [0.8264, 0.3152, 0.6871,  ..., 0.8437, 0.1408, 0.9777],\n",
       "         ...,\n",
       "         [0.1868, 0.7606, 0.7707,  ..., 0.2508, 0.5497, 0.2188],\n",
       "         [0.7710, 0.0610, 0.6353,  ..., 0.0080, 0.6363, 0.7761],\n",
       "         [0.1586, 0.8075, 0.6985,  ..., 0.4743, 0.5615, 0.2879]]])"
      ]
     },
     "execution_count": 44,
     "metadata": {},
     "output_type": "execute_result"
    }
   ],
   "source": [
    "# Create a random tensor with similar shape to an image\n",
    "random_image_size_tensor = torch.rand(size=(3, 244, 244))\n",
    "random_image_size_tensor"
   ]
  },
  {
   "cell_type": "code",
   "execution_count": 45,
   "id": "4bd9f2f4",
   "metadata": {},
   "outputs": [
    {
     "data": {
      "text/plain": [
       "(3, torch.Size([3, 244, 244]))"
      ]
     },
     "execution_count": 45,
     "metadata": {},
     "output_type": "execute_result"
    }
   ],
   "source": [
    "random_image_size_tensor.ndim, random_image_size_tensor.shape"
   ]
  },
  {
   "cell_type": "markdown",
   "id": "5d2c1e2d",
   "metadata": {},
   "source": [
    "# Zeros and Ones \n",
    "useful for masks"
   ]
  },
  {
   "cell_type": "code",
   "execution_count": 46,
   "id": "47819971",
   "metadata": {},
   "outputs": [
    {
     "data": {
      "text/plain": [
       "tensor([[0., 0., 0., 0.],\n",
       "        [0., 0., 0., 0.],\n",
       "        [0., 0., 0., 0.]])"
      ]
     },
     "execution_count": 46,
     "metadata": {},
     "output_type": "execute_result"
    }
   ],
   "source": [
    "# Create a tensor for all zeros\n",
    "zeros = torch.zeros(3,4)\n",
    "zeros"
   ]
  },
  {
   "cell_type": "code",
   "execution_count": 47,
   "id": "598173a4",
   "metadata": {},
   "outputs": [
    {
     "data": {
      "text/plain": [
       "tensor([[0., 0., 0., 0.],\n",
       "        [0., 0., 0., 0.],\n",
       "        [0., 0., 0., 0.]])"
      ]
     },
     "execution_count": 47,
     "metadata": {},
     "output_type": "execute_result"
    }
   ],
   "source": [
    "zeros* torch.rand(3,4)"
   ]
  },
  {
   "cell_type": "code",
   "execution_count": 48,
   "id": "2d9321b4",
   "metadata": {},
   "outputs": [
    {
     "data": {
      "text/plain": [
       "tensor([[[1., 1., 1., 1.],\n",
       "         [1., 1., 1., 1.],\n",
       "         [1., 1., 1., 1.],\n",
       "         [1., 1., 1., 1.]]])"
      ]
     },
     "execution_count": 48,
     "metadata": {},
     "output_type": "execute_result"
    }
   ],
   "source": [
    "# Ones\n",
    "ones = torch.ones(1,4,4)\n",
    "ones"
   ]
  },
  {
   "cell_type": "code",
   "execution_count": 49,
   "id": "14bba531",
   "metadata": {},
   "outputs": [
    {
     "data": {
      "text/plain": [
       "tensor([[[1.],\n",
       "         [1.],\n",
       "         [1.],\n",
       "         [1.]],\n",
       "\n",
       "        [[1.],\n",
       "         [1.],\n",
       "         [1.],\n",
       "         [1.]],\n",
       "\n",
       "        [[1.],\n",
       "         [1.],\n",
       "         [1.],\n",
       "         [1.]],\n",
       "\n",
       "        [[1.],\n",
       "         [1.],\n",
       "         [1.],\n",
       "         [1.]]])"
      ]
     },
     "execution_count": 49,
     "metadata": {},
     "output_type": "execute_result"
    }
   ],
   "source": [
    "# Ones\n",
    "ones = torch.ones(4,4,1)\n",
    "ones"
   ]
  },
  {
   "cell_type": "code",
   "execution_count": 50,
   "id": "a0643fd8",
   "metadata": {},
   "outputs": [
    {
     "data": {
      "text/plain": [
       "(torch.float32, torch.float32)"
      ]
     },
     "execution_count": 50,
     "metadata": {},
     "output_type": "execute_result"
    }
   ],
   "source": [
    "ones.dtype, zeros.dtype"
   ]
  },
  {
   "cell_type": "markdown",
   "id": "dc220ede",
   "metadata": {},
   "source": [
    "# Creating a range of tensors and tensors-like"
   ]
  },
  {
   "cell_type": "code",
   "execution_count": 51,
   "id": "30031e8a",
   "metadata": {},
   "outputs": [
    {
     "data": {
      "text/plain": [
       "tensor([  1,  51, 101, 151, 201, 251, 301, 351, 401, 451])"
      ]
     },
     "execution_count": 51,
     "metadata": {},
     "output_type": "execute_result"
    }
   ],
   "source": [
    "# \n",
    "ranges = torch.arange(start=1,end=500, step =  50)\n",
    "ranges"
   ]
  },
  {
   "cell_type": "code",
   "execution_count": 52,
   "id": "59303a12",
   "metadata": {},
   "outputs": [
    {
     "data": {
      "text/plain": [
       "tensor([0, 0, 0, 0, 0, 0, 0, 0, 0, 0])"
      ]
     },
     "execution_count": 52,
     "metadata": {},
     "output_type": "execute_result"
    }
   ],
   "source": [
    "# Creating tensors like\n",
    "zeros_like_ranges = torch.zeros_like(input=ranges)\n",
    "zeros_like_ranges"
   ]
  },
  {
   "cell_type": "markdown",
   "id": "2b6bb59f",
   "metadata": {},
   "source": [
    "# Tensor Datatype"
   ]
  },
  {
   "cell_type": "code",
   "execution_count": 53,
   "id": "d8f44bc6",
   "metadata": {},
   "outputs": [
    {
     "data": {
      "text/plain": [
       "torch.float32"
      ]
     },
     "execution_count": 53,
     "metadata": {},
     "output_type": "execute_result"
    }
   ],
   "source": [
    "# Float 32 tensor is the default\n",
    "float_32_tensor = torch.tensor([3.1, 6.4, 9.0], \n",
    "                               dtype = None,\n",
    "                               device = None, \n",
    "                               requires_grad = False) # whether or not to track gradeints with this tensors operations\n",
    "float_32_tensor.dtype"
   ]
  },
  {
   "cell_type": "code",
   "execution_count": 54,
   "id": "832c430c",
   "metadata": {},
   "outputs": [
    {
     "data": {
      "text/plain": [
       "torch.float16"
      ]
     },
     "execution_count": 54,
     "metadata": {},
     "output_type": "execute_result"
    }
   ],
   "source": [
    "# Float 16 tensor is the default\n",
    "float_16_tensor = torch.tensor([3.1, 6.4, 9.0], \n",
    "                               dtype = torch.float16,\n",
    "                               device = None,\n",
    "                               requires_grad = False)\n",
    "float_16_tensor.dtype"
   ]
  },
  {
   "cell_type": "code",
   "execution_count": 55,
   "id": "7af6a478",
   "metadata": {},
   "outputs": [
    {
     "data": {
      "text/plain": [
       "tensor([3.0996, 6.3984, 9.0000], dtype=torch.float16)"
      ]
     },
     "execution_count": 55,
     "metadata": {},
     "output_type": "execute_result"
    }
   ],
   "source": [
    "float_16_tensor"
   ]
  },
  {
   "cell_type": "markdown",
   "id": "57b49a21",
   "metadata": {},
   "source": []
  },
  {
   "cell_type": "code",
   "execution_count": 56,
   "id": "025c8514",
   "metadata": {},
   "outputs": [
    {
     "data": {
      "text/plain": [
       "device(type='cpu')"
      ]
     },
     "execution_count": 56,
     "metadata": {},
     "output_type": "execute_result"
    }
   ],
   "source": [
    "# CPU\n",
    "cpu = torch.tensor([3.1, 6.4, 9.0], \n",
    "                               \n",
    "                               device = 'cpu',\n",
    "                               requires_grad = False)\n",
    "cpu.device"
   ]
  },
  {
   "cell_type": "code",
   "execution_count": 57,
   "id": "f644cd1f",
   "metadata": {},
   "outputs": [
    {
     "data": {
      "text/plain": [
       "device(type='cpu')"
      ]
     },
     "execution_count": 57,
     "metadata": {},
     "output_type": "execute_result"
    }
   ],
   "source": [
    "TENSOR.device"
   ]
  },
  {
   "cell_type": "code",
   "execution_count": 58,
   "id": "bd6cc802",
   "metadata": {},
   "outputs": [
    {
     "data": {
      "text/plain": [
       "tensor([3.0996, 6.3984, 9.0000], dtype=torch.float16)"
      ]
     },
     "execution_count": 58,
     "metadata": {},
     "output_type": "execute_result"
    }
   ],
   "source": [
    "# Change dtype\n",
    "float_half = float_32_tensor.type(torch.float16)\n",
    "float_half"
   ]
  },
  {
   "cell_type": "code",
   "execution_count": 59,
   "id": "c1a939df",
   "metadata": {},
   "outputs": [
    {
     "data": {
      "text/plain": [
       "tensor([3.0996, 6.3984, 9.0000], dtype=torch.float16)"
      ]
     },
     "execution_count": 59,
     "metadata": {},
     "output_type": "execute_result"
    }
   ],
   "source": [
    "# Change dtype\n",
    "float_half = float_32_tensor.type(torch.half)\n",
    "float_half"
   ]
  },
  {
   "cell_type": "markdown",
   "id": "45f53220",
   "metadata": {},
   "source": [
    "### Getting  Tensors Attributes\n",
    "1. Tensor not right datatype - to get datatype from a tensor, can use `tensor.type`\n",
    "2. `tensor.shape` to know the shape\n",
    "2.   `tensor.device` to know the right device"
   ]
  },
  {
   "cell_type": "code",
   "execution_count": 60,
   "id": "28a87b6d",
   "metadata": {},
   "outputs": [
    {
     "data": {
      "text/plain": [
       "tensor([[0.5470, 0.8436, 0.9802, 0.0715],\n",
       "        [0.8483, 0.8714, 0.2027, 0.7231],\n",
       "        [0.5353, 0.8395, 0.0241, 0.0335]])"
      ]
     },
     "execution_count": 60,
     "metadata": {},
     "output_type": "execute_result"
    }
   ],
   "source": [
    "some_tensor = torch.rand(3,4)\n",
    "some_tensor"
   ]
  },
  {
   "cell_type": "code",
   "execution_count": 61,
   "id": "43495859",
   "metadata": {},
   "outputs": [
    {
     "name": "stdout",
     "output_type": "stream",
     "text": [
      "tensor([[0.5470, 0.8436, 0.9802, 0.0715],\n",
      "        [0.8483, 0.8714, 0.2027, 0.7231],\n",
      "        [0.5353, 0.8395, 0.0241, 0.0335]])\n",
      "Datatype of tensor: torch.float32\n",
      "Shape of tensor: torch.Size([3, 4])\n",
      "Device tensor is on: cpu\n"
     ]
    }
   ],
   "source": [
    "# Find out details about some tensor\n",
    "print(some_tensor)\n",
    "print(f'Datatype of tensor: {some_tensor.dtype}')\n",
    "print(f'Shape of tensor: {some_tensor.shape}')\n",
    "print(f'Device tensor is on: {some_tensor.device}')"
   ]
  },
  {
   "cell_type": "code",
   "execution_count": 62,
   "id": "8e1ca48b",
   "metadata": {},
   "outputs": [
    {
     "data": {
      "text/plain": [
       "torch.float16"
      ]
     },
     "execution_count": 62,
     "metadata": {},
     "output_type": "execute_result"
    }
   ],
   "source": [
    "some_tens = some_tensor.type(torch.half)\n",
    "some_tens.dtype"
   ]
  },
  {
   "cell_type": "code",
   "execution_count": 63,
   "id": "d8e3a6cd",
   "metadata": {},
   "outputs": [
    {
     "data": {
      "text/plain": [
       "tensor([[0.5469, 0.8438, 0.9805, 0.0715],\n",
       "        [0.8481, 0.8716, 0.2026, 0.7231],\n",
       "        [0.5352, 0.8394, 0.0241, 0.0335]], dtype=torch.float16)"
      ]
     },
     "execution_count": 63,
     "metadata": {},
     "output_type": "execute_result"
    }
   ],
   "source": [
    "some_tens"
   ]
  },
  {
   "cell_type": "markdown",
   "id": "640b137b",
   "metadata": {},
   "source": [
    "### Manipulating Tensors (tensor operations)\n",
    "\n",
    "Tensor operations include:\n",
    "* Addition\n",
    "* Substraction\n",
    "* Multiplication (element-wise)\n",
    "* Division\n",
    "* Matrix  multiplication"
   ]
  },
  {
   "cell_type": "code",
   "execution_count": 64,
   "id": "7e90b5f3",
   "metadata": {},
   "outputs": [
    {
     "data": {
      "text/plain": [
       "tensor([11, 12, 13])"
      ]
     },
     "execution_count": 64,
     "metadata": {},
     "output_type": "execute_result"
    }
   ],
   "source": [
    "# Create a tensor\n",
    "tensor = torch.tensor([1,2,3])\n",
    "tensor + 10"
   ]
  },
  {
   "cell_type": "code",
   "execution_count": 65,
   "id": "30129925",
   "metadata": {},
   "outputs": [
    {
     "data": {
      "text/plain": [
       "tensor([10, 20, 30])"
      ]
     },
     "execution_count": 65,
     "metadata": {},
     "output_type": "execute_result"
    }
   ],
   "source": [
    "# multiply tensor by 10\n",
    "tensor * 10"
   ]
  },
  {
   "cell_type": "code",
   "execution_count": 66,
   "id": "914bdd28",
   "metadata": {},
   "outputs": [
    {
     "data": {
      "text/plain": [
       "tensor([-9, -8, -7])"
      ]
     },
     "execution_count": 66,
     "metadata": {},
     "output_type": "execute_result"
    }
   ],
   "source": [
    "# Substract 10\n",
    "tensor - 10"
   ]
  },
  {
   "cell_type": "code",
   "execution_count": 67,
   "id": "85cb227d",
   "metadata": {},
   "outputs": [
    {
     "data": {
      "text/plain": [
       "tensor([10, 20, 30])"
      ]
     },
     "execution_count": 67,
     "metadata": {},
     "output_type": "execute_result"
    }
   ],
   "source": [
    "# Try out Pytorch in-built functions\n",
    "torch.mul(tensor, 10)"
   ]
  },
  {
   "cell_type": "markdown",
   "id": "70998665",
   "metadata": {},
   "source": [
    "# Matrix Manipulation\n",
    "two types:\n",
    "1. element-wise multiplication\n",
    "2. matrix multiplication (dot product)\n",
    "\n",
    "for more details visit: https://www.mathsisfun.com/algebra/matrix-multiplying.html\n",
    "\n",
    "Main rules:\n",
    "1. The **inner dimensions** must match\n",
    "* `(3,2) @ (3,2)` won't work\n",
    "* `(2,3) @ (3,2)` will work\n",
    "* `(3,2) @ (2,3)` will work\n",
    "2. The resulting matrix has the shape of the **outer dimensions**:\n",
    "* `(2,3) @ (3,2)` gives `(2,2)`\n"
   ]
  },
  {
   "cell_type": "code",
   "execution_count": 68,
   "id": "5cf04e87",
   "metadata": {},
   "outputs": [
    {
     "name": "stdout",
     "output_type": "stream",
     "text": [
      "tensor([1, 2, 3]) * tensor([1, 2, 3])\n",
      "Equals: tensor([1, 4, 9])\n"
     ]
    }
   ],
   "source": [
    "# element wise multiplication\n",
    "print(tensor, '*', tensor)\n",
    "print(f\"Equals: {tensor*tensor}\")"
   ]
  },
  {
   "cell_type": "code",
   "execution_count": 69,
   "id": "ba919498",
   "metadata": {},
   "outputs": [
    {
     "data": {
      "text/plain": [
       "tensor(14)"
      ]
     },
     "execution_count": 69,
     "metadata": {},
     "output_type": "execute_result"
    }
   ],
   "source": [
    "# Matrix multiplication\n",
    "torch.matmul(tensor, tensor)"
   ]
  },
  {
   "cell_type": "code",
   "execution_count": 70,
   "id": "3ff8a9fa",
   "metadata": {},
   "outputs": [
    {
     "name": "stdout",
     "output_type": "stream",
     "text": [
      "tensor([[3, 3],\n",
      "        [1, 0]]) \n",
      " tensor([[12, 11],\n",
      "        [ 9, 12]])\n"
     ]
    }
   ],
   "source": [
    "test22   = torch.randint(low=0, high=5, size=(2,2))\n",
    "test22_2 = torch.randint(low=6, high=13, size=(2,2))\n",
    "print(test22,'\\n', test22_2)"
   ]
  },
  {
   "cell_type": "code",
   "execution_count": 71,
   "id": "f2f4aeb4",
   "metadata": {},
   "outputs": [
    {
     "data": {
      "text/plain": [
       "tensor([[63, 69],\n",
       "        [12, 11]])"
      ]
     },
     "execution_count": 71,
     "metadata": {},
     "output_type": "execute_result"
    }
   ],
   "source": [
    "torch.matmul(test22, test22_2)"
   ]
  },
  {
   "cell_type": "code",
   "execution_count": 72,
   "id": "790bd967",
   "metadata": {},
   "outputs": [
    {
     "data": {
      "text/plain": [
       "tensor([5, 1, 4])"
      ]
     },
     "execution_count": 72,
     "metadata": {},
     "output_type": "execute_result"
    }
   ],
   "source": [
    "# testing dot product\n",
    "test12 = torch.tensor([5, 1, 4])\n",
    "test12"
   ]
  },
  {
   "cell_type": "code",
   "execution_count": 73,
   "id": "8736c761",
   "metadata": {},
   "outputs": [
    {
     "data": {
      "text/plain": [
       "torch.Size([3])"
      ]
     },
     "execution_count": 73,
     "metadata": {},
     "output_type": "execute_result"
    }
   ],
   "source": [
    "test12.shape"
   ]
  },
  {
   "cell_type": "code",
   "execution_count": 74,
   "id": "863ee5da",
   "metadata": {},
   "outputs": [],
   "source": [
    "# this wont work\n",
    "# torch.matmul(test22, test12);"
   ]
  },
  {
   "cell_type": "code",
   "execution_count": 75,
   "id": "3c407f9e",
   "metadata": {},
   "outputs": [
    {
     "data": {
      "text/plain": [
       "torch.Size([3, 3])"
      ]
     },
     "execution_count": 75,
     "metadata": {},
     "output_type": "execute_result"
    }
   ],
   "source": [
    "# Outer dimenstions will be the output (3,2)@(3,2) gives (3,3)\n",
    "torch.matmul(torch.rand(3,2), torch.rand(2,3)).shape"
   ]
  },
  {
   "cell_type": "code",
   "execution_count": 76,
   "id": "e5ca7337",
   "metadata": {},
   "outputs": [
    {
     "data": {
      "text/plain": [
       "torch.Size([4, 3])"
      ]
     },
     "execution_count": 76,
     "metadata": {},
     "output_type": "execute_result"
    }
   ],
   "source": [
    "torch.matmul(torch.rand(4,2), torch.rand(2,3)).shape"
   ]
  },
  {
   "cell_type": "markdown",
   "id": "72d55cff",
   "metadata": {},
   "source": [
    "#### One of the most commn errors in deep learning: shape error\n",
    "http://matrixmultiplication.xyz/"
   ]
  },
  {
   "cell_type": "code",
   "execution_count": 79,
   "id": "a6478306",
   "metadata": {},
   "outputs": [],
   "source": [
    "tensor_A = torch.tensor([[1,2],\n",
    "                         [3,4],\n",
    "                         [5,6]])\n",
    "tensor_B = torch.tensor([[7,1],\n",
    "                         [8,2],\n",
    "                         [9,3]])"
   ]
  },
  {
   "cell_type": "code",
   "execution_count": 78,
   "id": "70d3226a",
   "metadata": {},
   "outputs": [
    {
     "ename": "RuntimeError",
     "evalue": "mat1 and mat2 shapes cannot be multiplied (3x2 and 3x2)",
     "output_type": "error",
     "traceback": [
      "\u001b[1;31m---------------------------------------------------------------------------\u001b[0m",
      "\u001b[1;31mRuntimeError\u001b[0m                              Traceback (most recent call last)",
      "Cell \u001b[1;32mIn[78], line 1\u001b[0m\n\u001b[1;32m----> 1\u001b[0m \u001b[43mtorch\u001b[49m\u001b[38;5;241;43m.\u001b[39;49m\u001b[43mmm\u001b[49m\u001b[43m(\u001b[49m\u001b[43mtensor_A\u001b[49m\u001b[43m,\u001b[49m\u001b[43m \u001b[49m\u001b[43mtensor_B\u001b[49m\u001b[43m)\u001b[49m \u001b[38;5;66;03m# this results into an error\u001b[39;00m\n",
      "\u001b[1;31mRuntimeError\u001b[0m: mat1 and mat2 shapes cannot be multiplied (3x2 and 3x2)"
     ]
    }
   ],
   "source": [
    "torch.mm(tensor_A, tensor_B) # this results into an error"
   ]
  },
  {
   "cell_type": "markdown",
   "id": "59c5ebfe",
   "metadata": {},
   "source": [
    "### Transpose\n",
    "in order to overcome shape errors, we *transpose* our tensors\n"
   ]
  },
  {
   "cell_type": "code",
   "execution_count": 80,
   "id": "6e87dc23",
   "metadata": {},
   "outputs": [
    {
     "data": {
      "text/plain": [
       "tensor([[7, 8, 9],\n",
       "        [1, 2, 3]])"
      ]
     },
     "execution_count": 80,
     "metadata": {},
     "output_type": "execute_result"
    }
   ],
   "source": [
    "tensor_B.T"
   ]
  },
  {
   "cell_type": "code",
   "execution_count": 81,
   "id": "943850fa",
   "metadata": {},
   "outputs": [
    {
     "name": "stdout",
     "output_type": "stream",
     "text": [
      "tensor([[7, 8, 9],\n",
      "        [1, 2, 3]])\n"
     ]
    },
    {
     "data": {
      "text/plain": [
       "torch.Size([2, 3])"
      ]
     },
     "execution_count": 81,
     "metadata": {},
     "output_type": "execute_result"
    }
   ],
   "source": [
    "print(tensor_B.T)\n",
    "tensor_B.T.shape"
   ]
  },
  {
   "cell_type": "code",
   "execution_count": 82,
   "id": "87a3a46d",
   "metadata": {},
   "outputs": [
    {
     "data": {
      "text/plain": [
       "tensor([[ 9, 12, 15],\n",
       "        [25, 32, 39],\n",
       "        [41, 52, 63]])"
      ]
     },
     "execution_count": 82,
     "metadata": {},
     "output_type": "execute_result"
    }
   ],
   "source": [
    "torch.mm(tensor_A, tensor_B.T) # this works"
   ]
  },
  {
   "cell_type": "markdown",
   "id": "e079b034",
   "metadata": {},
   "source": [
    "## Finding the min, max, mean, sum, etc (tensor aggregation)"
   ]
  },
  {
   "cell_type": "code",
   "execution_count": 86,
   "id": "2d850cf2",
   "metadata": {},
   "outputs": [
    {
     "data": {
      "text/plain": [
       "tensor([ 1, 11, 21, 31, 41, 51, 61, 71, 81, 91])"
      ]
     },
     "execution_count": 86,
     "metadata": {},
     "output_type": "execute_result"
    }
   ],
   "source": [
    "# create a tensor\n",
    "x = torch.arange(0,100,10) + 1\n",
    "x"
   ]
  },
  {
   "cell_type": "code",
   "execution_count": 87,
   "id": "5d678ab3",
   "metadata": {},
   "outputs": [
    {
     "data": {
      "text/plain": [
       "(tensor(1), tensor(1))"
      ]
     },
     "execution_count": 87,
     "metadata": {},
     "output_type": "execute_result"
    }
   ],
   "source": [
    "# find min\n",
    "torch.min(x), x.min()"
   ]
  },
  {
   "cell_type": "code",
   "execution_count": 88,
   "id": "e99480f1",
   "metadata": {},
   "outputs": [
    {
     "data": {
      "text/plain": [
       "(tensor(91), tensor(91))"
      ]
     },
     "execution_count": 88,
     "metadata": {},
     "output_type": "execute_result"
    }
   ],
   "source": [
    "# max\n",
    "torch.max(x), x.max()"
   ]
  },
  {
   "cell_type": "code",
   "execution_count": 93,
   "id": "dd2fe211",
   "metadata": {},
   "outputs": [
    {
     "data": {
      "text/plain": [
       "(tensor(46.), tensor(46.))"
      ]
     },
     "execution_count": 93,
     "metadata": {},
     "output_type": "execute_result"
    }
   ],
   "source": [
    "# average\n",
    "torch.mean(x.type(torch.float32)), x.type(torch.float32).mean()"
   ]
  },
  {
   "cell_type": "code",
   "execution_count": 95,
   "id": "e6cf2434",
   "metadata": {},
   "outputs": [
    {
     "data": {
      "text/plain": [
       "(tensor(460), tensor(460))"
      ]
     },
     "execution_count": 95,
     "metadata": {},
     "output_type": "execute_result"
    }
   ],
   "source": [
    "# sum\n",
    "torch.sum(x), x.sum()"
   ]
  },
  {
   "cell_type": "code",
   "execution_count": null,
   "id": "25e32eb7",
   "metadata": {},
   "outputs": [],
   "source": []
  }
 ],
 "metadata": {
  "kernelspec": {
   "display_name": "Python 3 (ipykernel)",
   "language": "python",
   "name": "python3"
  },
  "language_info": {
   "codemirror_mode": {
    "name": "ipython",
    "version": 3
   },
   "file_extension": ".py",
   "mimetype": "text/x-python",
   "name": "python",
   "nbconvert_exporter": "python",
   "pygments_lexer": "ipython3",
   "version": "3.12.2"
  }
 },
 "nbformat": 4,
 "nbformat_minor": 5
}
