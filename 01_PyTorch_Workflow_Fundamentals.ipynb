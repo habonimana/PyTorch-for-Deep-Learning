{
  "cells": [
    {
      "cell_type": "markdown",
      "metadata": {
        "colab_type": "text",
        "id": "view-in-github"
      },
      "source": [
        "<a href=\"https://colab.research.google.com/github/habonimana/PyTorch-for-Deep-Learning/blob/main/01_PyTorch_Workflow_Fundamentals.ipynb\" target=\"_parent\"><img src=\"https://colab.research.google.com/assets/colab-badge.svg\" alt=\"Open In Colab\"/></a>"
      ]
    },
    {
      "cell_type": "markdown",
      "metadata": {
        "id": "1fZ8cqV9APZ9"
      },
      "source": [
        "### Steps\n",
        "\n",
        "* get data ready (turn into tensors)\n",
        "* Build or pick a pretrained model (to suit your problem)\n",
        "* Fit the model to the data and make a prediction\n",
        "* Evaluate the model\n",
        "* Improve through experimentation\n",
        "* Dave and reload your trained model\n",
        "\n"
      ]
    },
    {
      "cell_type": "markdown",
      "metadata": {},
      "source": [
        "## What we're going to cover\n",
        "\n",
        "In this module we're going to cover a standard PyTorch workflow (it can be chopped and changed as necessary but it covers the main outline of steps).\n",
        "\n",
        "<img src=\"https://raw.githubusercontent.com/mrdbourke/pytorch-deep-learning/main/images/01_a_pytorch_workflow.png\" width=900 alt=\"a pytorch workflow flowchat\"/>\n",
        "\n",
        "For now, we'll use this workflow to predict a simple straight line but the workflow steps can be repeated and changed depending on the problem you're working on.\n",
        "\n",
        "Specifically, we're going to cover:\n",
        "\n",
        "| **Topic** | **Contents** |\n",
        "| ----- | ----- |\n",
        "| **1. Getting data ready** | Data can be almost anything but to get started we're going to create a simple straight line |\n",
        "| **2. Building a model** | Here we'll create a model to learn patterns in the data, we'll also choose a **loss function**, **optimizer** and build a **training loop**. | \n",
        "| **3. Fitting the model to data (training)** | We've got data and a model, now let's let the model (try to) find patterns in the (**training**) data. |\n",
        "| **4. Making predictions and evaluating a model (inference)** | Our model's found patterns in the data, let's compare its findings to the actual (**testing**) data. |\n",
        "| **5. Saving and loading a model** | You may want to use your model elsewhere, or come back to it later, here we'll cover that. |\n",
        "| **6. Putting it all together** | Let's take all of the above and combine it. |"
      ]
    },
    {
      "cell_type": "code",
      "execution_count": 1,
      "metadata": {
        "colab": {
          "base_uri": "https://localhost:8080/"
        },
        "id": "VL6vZNwBBiqt",
        "outputId": "c2b882d1-4b1c-4b48-8958-eb97efbb4f03"
      },
      "outputs": [
        {
          "data": {
            "text/plain": [
              "{1: 'data (prepare and load)',\n",
              " 2: 'build model',\n",
              " 3: 'fitting the model to data (training)',\n",
              " 4: 'making predictions and evaluating a model (inference)',\n",
              " 5: 'saving and loading a model',\n",
              " 6: 'putting it all together'}"
            ]
          },
          "execution_count": 1,
          "metadata": {},
          "output_type": "execute_result"
        }
      ],
      "source": [
        "what_were_covering = {1: \"data (prepare and load)\",\n",
        "    2: \"build model\",\n",
        "    3: \"fitting the model to data (training)\",\n",
        "    4: \"making predictions and evaluating a model (inference)\",\n",
        "    5: \"saving and loading a model\",\n",
        "    6: \"putting it all together\"\n",
        "}\n",
        "what_were_covering"
      ]
    },
    {
      "cell_type": "code",
      "execution_count": 2,
      "metadata": {
        "colab": {
          "base_uri": "https://localhost:8080/",
          "height": 35
        },
        "id": "UHYwRj5CBuFi",
        "outputId": "e323e895-6ad7-4a6e-9429-f65ffe5a7aa0"
      },
      "outputs": [
        {
          "data": {
            "text/plain": [
              "'2.3.0+cpu'"
            ]
          },
          "execution_count": 2,
          "metadata": {},
          "output_type": "execute_result"
        }
      ],
      "source": [
        "import torch\n",
        "from torch import nn  # these are the basic building blocks for graphs:\n",
        "import matplotlib.pyplot as plt\n",
        "\n",
        "# check PyTorch version\n",
        "torch.__version__"
      ]
    },
    {
      "cell_type": "markdown",
      "metadata": {
        "id": "rAVYWQIPCRVl"
      },
      "source": [
        "1. Data (preparing and loading)\n",
        "* turn data into numbers\n",
        "* build model to learn patterns in numbers"
      ]
    },
    {
      "cell_type": "markdown",
      "metadata": {},
      "source": [
        " Data can be almost anything ... in machine learning\n",
        " * Excel spreadsheed\n",
        " * image of any kind\n",
        " * Videos (youtube..)\n",
        " * Text\n",
        " * DNA\n",
        " Machine learning is a game of two things:\n",
        " * get data into a numerical representation\n",
        " * Build a model to learn numerical patterns (Learns representation (patterns/features/weights) and Representation outputs)\n",
        "\n",
        " To showcase thism let's create a known data using the linear regression formular.\n",
        " We'll yse a linear regression formula to make a straight line with know parameters \n",
        "\n",
        " https://www.geeksforgeeks.org/linear-regression-formula/\n",
        " Y = a + b*x\n",
        " "
      ]
    },
    {
      "cell_type": "code",
      "execution_count": 3,
      "metadata": {
        "id": "H8NYqPeKB8A-"
      },
      "outputs": [
        {
          "data": {
            "text/plain": [
              "(tensor([[0.0000],\n",
              "         [0.0200],\n",
              "         [0.0400],\n",
              "         [0.0600],\n",
              "         [0.0800],\n",
              "         [0.1000],\n",
              "         [0.1200],\n",
              "         [0.1400],\n",
              "         [0.1600],\n",
              "         [0.1800]]),\n",
              " tensor([[0.3000],\n",
              "         [0.3140],\n",
              "         [0.3280],\n",
              "         [0.3420],\n",
              "         [0.3560],\n",
              "         [0.3700],\n",
              "         [0.3840],\n",
              "         [0.3980],\n",
              "         [0.4120],\n",
              "         [0.4260]]))"
            ]
          },
          "execution_count": 3,
          "metadata": {},
          "output_type": "execute_result"
        }
      ],
      "source": [
        "# Create *known* parameters using lineal regression\n",
        "weight = 0.7\n",
        "bias = 0.3\n",
        "\n",
        "# create data\n",
        "start = 0\n",
        "end = 1\n",
        "step = 0.02\n",
        "X = torch.arange(start, end, step).unsqueeze(dim=1)\n",
        "y = weight * X + bias # \n",
        "X[:10], y[:10]"
      ]
    },
    {
      "cell_type": "code",
      "execution_count": 4,
      "metadata": {
        "id": "U-3wllv8B8Ed"
      },
      "outputs": [
        {
          "data": {
            "text/plain": [
              "(50, 50)"
            ]
          },
          "execution_count": 4,
          "metadata": {},
          "output_type": "execute_result"
        }
      ],
      "source": [
        "len(X), len(y)"
      ]
    },
    {
      "cell_type": "markdown",
      "metadata": {},
      "source": [
        "## 1. Split Data: The most important concept in machine learning \n",
        "* training set\n",
        "* validation set (tune model patterns)\n",
        "* test set (see if the model is ready for the world)\n",
        "*\n",
        "- the whole purpose is generalization: Generalization is the ability of the model to perform well on data it hasn't seen before\n",
        "- You do not always need validation set\n",
        "- 80 and 20% is the most populat split\n"
      ]
    },
    {
      "cell_type": "code",
      "execution_count": 5,
      "metadata": {
        "id": "br4Bnt4_B8Hv"
      },
      "outputs": [
        {
          "data": {
            "text/plain": [
              "40"
            ]
          },
          "execution_count": 5,
          "metadata": {},
          "output_type": "execute_result"
        }
      ],
      "source": [
        "\n",
        "# Create a train/test split\n",
        "train_split = int(0.8 * len(X))\n",
        "train_split"
      ]
    },
    {
      "cell_type": "code",
      "execution_count": 6,
      "metadata": {
        "id": "YsUUMNznB8LO"
      },
      "outputs": [
        {
          "data": {
            "text/plain": [
              "(40, 40, 10, 10)"
            ]
          },
          "execution_count": 6,
          "metadata": {},
          "output_type": "execute_result"
        }
      ],
      "source": [
        "X_train, y_train = X[:train_split], y[:train_split]\n",
        "X_test, y_test = X[train_split:], y[train_split:]\n",
        "len(X_train), len(y_train), len(X_test), len(y_test)"
      ]
    },
    {
      "cell_type": "markdown",
      "metadata": {},
      "source": [
        "visualize, visualize, visualize"
      ]
    },
    {
      "cell_type": "code",
      "execution_count": 7,
      "metadata": {},
      "outputs": [],
      "source": [
        "def plot_predictions(train_data = X_train,\n",
        "                      train_labels = y_train,\n",
        "                      test_data = X_test,\n",
        "                      test_labels = y_test,\n",
        "                      predictions = None):\n",
        "    \"\"\" \n",
        "    Plots training data, test data and compare predictions\n",
        "    \"\"\"\n",
        "\n",
        "    # Plot training data in blue\n",
        "    plt.scatter(train_data, train_labels, c=\"b\", s=4, label = \"Training data\")\n",
        "\n",
        "    # Plot test data in green\n",
        "    plt.scatter(test_data, test_labels, c='g', s=4, label= \"Testing data\")\n",
        "\n",
        "    # Are there predictions?\n",
        "    if predictions is not None:\n",
        "        # Plot predictions if they exist \n",
        "        plt.scatter(test_data, predictions, c=\"r\", s=4, label = \"Predictions\")\n",
        "    # show the legend\n",
        "    plt.legend(prop = {\"size\":14})"
      ]
    },
    {
      "cell_type": "code",
      "execution_count": 8,
      "metadata": {},
      "outputs": [
        {
          "data": {
            "image/png": "[encoded data removed]",
            "text/plain": [
              "<Figure size 640x480 with 1 Axes>"
            ]
          },
          "metadata": {},
          "output_type": "display_data"
        }
      ],
      "source": [
        "plot_predictions()"
      ]
    },
    {
      "cell_type": "markdown",
      "metadata": {},
      "source": [
        "## 2. Build model\n",
        "- our first PyTorch model!\n",
        "- It is going to be a lineal regression model\n",
        "- This is to be done through a forward computation model\n",
        "\n",
        "what our model does (we are trying to guess the weight and bias):\n",
        "* start with random values (weight * bias )\n",
        "* Look at training data and adjust the random values to better represent (or get closer to) the ideal values (the weight & bias values we used to create the data) \n",
        "\n",
        "Through two main algorithms:\n",
        "1. Gradient descent (when we set requires_grad=True)\n",
        "2. Backpropagation\n"
      ]
    },
    {
      "cell_type": "code",
      "execution_count": 9,
      "metadata": {},
      "outputs": [],
      "source": [
        "# Create linear regression model class\n",
        "class LinearRegressionModel(nn.Module):\n",
        "    # Almost everything inherit from nn module\n",
        "    # it is the base class for all neural network modules \n",
        "\n",
        "    def __init__(self):\n",
        "        super().__init__()\n",
        "        self.weights = nn.Parameter(torch.randn(1, # these parameters are going to be random and model is PyTorch is supposed to look at our data and update them to best represent our know parameters\n",
        "                                                requires_grad=True,\n",
        "                                                dtype = torch.float32\n",
        "                                                ))\n",
        "        self.bias = nn.Parameter(torch.randn(1,\n",
        "                                             requires_grad=True,\n",
        "                                             dtype=torch.float))\n",
        "        \n",
        "        # Forward method to define the computation in the model\n",
        "\n",
        "        def forward(self, x: torch.Tensor) -> torch.Tensor: # <- \"x\" is the input data\n",
        "            return self.weights * x + self.bias # this is the linear regression formula\n",
        "        \n",
        "        \n"
      ]
    },
    {
      "cell_type": "code",
      "execution_count": null,
      "metadata": {},
      "outputs": [],
      "source": []
    },
    {
      "cell_type": "code",
      "execution_count": null,
      "metadata": {},
      "outputs": [],
      "source": []
    },
    {
      "cell_type": "markdown",
      "metadata": {
        "id": "8Sfm1bXcAPda"
      },
      "source": []
    },
    {
      "cell_type": "markdown",
      "metadata": {
        "id": "79k08gkBAPgf"
      },
      "source": []
    },
    {
      "cell_type": "markdown",
      "metadata": {
        "id": "Q64MHCSNAPkG"
      },
      "source": []
    }
  ],
  "metadata": {
    "colab": {
      "authorship_tag": "ABX9TyNHRRNYnSap+jTsHFuNLxGL",
      "include_colab_link": true,
      "provenance": []
    },
    "kernelspec": {
      "display_name": "Python 3",
      "name": "python3"
    },
    "language_info": {
      "codemirror_mode": {
        "name": "ipython",
        "version": 3
      },
      "file_extension": ".py",
      "mimetype": "text/x-python",
      "name": "python",
      "nbconvert_exporter": "python",
      "pygments_lexer": "ipython3",
      "version": "3.12.2"
    }
  },
  "nbformat": 4,
  "nbformat_minor": 0
}
