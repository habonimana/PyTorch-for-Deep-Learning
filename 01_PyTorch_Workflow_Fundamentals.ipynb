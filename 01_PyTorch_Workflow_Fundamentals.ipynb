{
  "cells": [
    {
      "cell_type": "markdown",
      "metadata": {
        "colab_type": "text",
        "id": "view-in-github"
      },
      "source": [
        "<a href=\"https://colab.research.google.com/github/habonimana/PyTorch-for-Deep-Learning/blob/main/01_PyTorch_Workflow_Fundamentals.ipynb\" target=\"_parent\"><img src=\"https://colab.research.google.com/assets/colab-badge.svg\" alt=\"Open In Colab\"/></a>"
      ]
    },
    {
      "cell_type": "markdown",
      "metadata": {
        "id": "1fZ8cqV9APZ9"
      },
      "source": [
        "### Steps\n",
        "\n",
        "* get data ready (turn into tensors)\n",
        "* Build or pick a pretrained model (to suit your problem)\n",
        "* Fit the model to the data and make a prediction\n",
        "* Evaluate the model\n",
        "* Improve through experimentation\n",
        "* Dave and reload your trained model\n",
        "\n"
      ]
    },
    {
      "cell_type": "markdown",
      "metadata": {},
      "source": [
        "## What we're going to cover\n",
        "\n",
        "In this module we're going to cover a standard PyTorch workflow (it can be chopped and changed as necessary but it covers the main outline of steps).\n",
        "\n",
        "<img src=\"https://raw.githubusercontent.com/mrdbourke/pytorch-deep-learning/main/images/01_a_pytorch_workflow.png\" width=900 alt=\"a pytorch workflow flowchat\"/>\n",
        "\n",
        "For now, we'll use this workflow to predict a simple straight line but the workflow steps can be repeated and changed depending on the problem you're working on.\n",
        "\n",
        "Specifically, we're going to cover:\n",
        "\n",
        "| **Topic** | **Contents** |\n",
        "| ----- | ----- |\n",
        "| **1. Getting data ready** | Data can be almost anything but to get started we're going to create a simple straight line |\n",
        "| **2. Building a model** | Here we'll create a model to learn patterns in the data, we'll also choose a **loss function**, **optimizer** and build a **training loop**. | \n",
        "| **3. Fitting the model to data (training)** | We've got data and a model, now let's let the model (try to) find patterns in the (**training**) data. |\n",
        "| **4. Making predictions and evaluating a model (inference)** | Our model's found patterns in the data, let's compare its findings to the actual (**testing**) data. |\n",
        "| **5. Saving and loading a model** | You may want to use your model elsewhere, or come back to it later, here we'll cover that. |\n",
        "| **6. Putting it all together** | Let's take all of the above and combine it. |"
      ]
    },
    {
      "cell_type": "code",
      "execution_count": 1,
      "metadata": {
        "colab": {
          "base_uri": "https://localhost:8080/"
        },
        "id": "VL6vZNwBBiqt",
        "outputId": "c2b882d1-4b1c-4b48-8958-eb97efbb4f03"
      },
      "outputs": [
        {
          "data": {
            "text/plain": [
              "{1: 'data (prepare and load)',\n",
              " 2: 'build model',\n",
              " 3: 'fitting the model to data (training)',\n",
              " 4: 'making predictions and evaluating a model (inference)',\n",
              " 5: 'saving and loading a model',\n",
              " 6: 'putting it all together'}"
            ]
          },
          "execution_count": 1,
          "metadata": {},
          "output_type": "execute_result"
        }
      ],
      "source": [
        "what_were_covering = {1: \"data (prepare and load)\",\n",
        "    2: \"build model\",\n",
        "    3: \"fitting the model to data (training)\",\n",
        "    4: \"making predictions and evaluating a model (inference)\",\n",
        "    5: \"saving and loading a model\",\n",
        "    6: \"putting it all together\"\n",
        "}\n",
        "what_were_covering"
      ]
    },
    {
      "cell_type": "code",
      "execution_count": 2,
      "metadata": {
        "colab": {
          "base_uri": "https://localhost:8080/",
          "height": 35
        },
        "id": "UHYwRj5CBuFi",
        "outputId": "e323e895-6ad7-4a6e-9429-f65ffe5a7aa0"
      },
      "outputs": [
        {
          "data": {
            "text/plain": [
              "'2.3.0+cpu'"
            ]
          },
          "execution_count": 2,
          "metadata": {},
          "output_type": "execute_result"
        }
      ],
      "source": [
        "import torch\n",
        "from torch import nn  # these are the basic building blocks for graphs:\n",
        "import matplotlib.pyplot as plt\n",
        "\n",
        "# check PyTorch version\n",
        "torch.__version__"
      ]
    },
    {
      "cell_type": "markdown",
      "metadata": {
        "id": "rAVYWQIPCRVl"
      },
      "source": [
        "1. Data (preparing and loading)\n",
        "* turn data into numbers\n",
        "* build model to learn patterns in numbers"
      ]
    },
    {
      "cell_type": "markdown",
      "metadata": {},
      "source": [
        " Data can be almost anything ... in machine learning\n",
        " * Excel spreadsheed\n",
        " * image of any kind\n",
        " * Videos (youtube..)\n",
        " * Text\n",
        " * DNA\n",
        " Machine learning is a game of two things:\n",
        " * get data into a numerical representation\n",
        " * Build a model to learn numerical patterns (Learns representation (patterns/features/weights) and Representation outputs)\n",
        "\n",
        " To showcase thism let's create a known data using the linear regression formular.\n",
        " We'll yse a linear regression formula to make a straight line with know parameters \n",
        "\n",
        " https://www.geeksforgeeks.org/linear-regression-formula/\n",
        " Y = a + b*x\n",
        " "
      ]
    },
    {
      "cell_type": "code",
      "execution_count": 3,
      "metadata": {
        "id": "H8NYqPeKB8A-"
      },
      "outputs": [
        {
          "data": {
            "text/plain": [
              "(tensor([[0.0000],\n",
              "         [0.0200],\n",
              "         [0.0400],\n",
              "         [0.0600],\n",
              "         [0.0800],\n",
              "         [0.1000],\n",
              "         [0.1200],\n",
              "         [0.1400],\n",
              "         [0.1600],\n",
              "         [0.1800]]),\n",
              " tensor([[0.3000],\n",
              "         [0.3140],\n",
              "         [0.3280],\n",
              "         [0.3420],\n",
              "         [0.3560],\n",
              "         [0.3700],\n",
              "         [0.3840],\n",
              "         [0.3980],\n",
              "         [0.4120],\n",
              "         [0.4260]]))"
            ]
          },
          "execution_count": 3,
          "metadata": {},
          "output_type": "execute_result"
        }
      ],
      "source": [
        "# Create *known* parameters using lineal regression\n",
        "weight = 0.7\n",
        "bias = 0.3\n",
        "\n",
        "# create data\n",
        "start = 0\n",
        "end = 1\n",
        "step = 0.02\n",
        "X = torch.arange(start, end, step).unsqueeze(dim=1)\n",
        "y = weight * X + bias # \n",
        "X[:10], y[:10]"
      ]
    },
    {
      "cell_type": "code",
      "execution_count": 4,
      "metadata": {
        "id": "U-3wllv8B8Ed"
      },
      "outputs": [
        {
          "data": {
            "text/plain": [
              "(50, 50)"
            ]
          },
          "execution_count": 4,
          "metadata": {},
          "output_type": "execute_result"
        }
      ],
      "source": [
        "len(X), len(y)"
      ]
    },
    {
      "cell_type": "markdown",
      "metadata": {},
      "source": [
        "## 1. Split Data: The most important concept in machine learning \n",
        "* training set\n",
        "* validation set (tune model patterns)\n",
        "* test set (see if the model is ready for the world)\n",
        "*\n",
        "- the whole purpose is generalization: Generalization is the ability of the model to perform well on data it hasn't seen before\n",
        "- You do not always need validation set\n",
        "- 80 and 20% is the most populat split\n"
      ]
    },
    {
      "cell_type": "code",
      "execution_count": 5,
      "metadata": {
        "id": "br4Bnt4_B8Hv"
      },
      "outputs": [
        {
          "data": {
            "text/plain": [
              "40"
            ]
          },
          "execution_count": 5,
          "metadata": {},
          "output_type": "execute_result"
        }
      ],
      "source": [
        "\n",
        "# Create a train/test split\n",
        "train_split = int(0.8 * len(X))\n",
        "train_split"
      ]
    },
    {
      "cell_type": "code",
      "execution_count": 6,
      "metadata": {
        "id": "YsUUMNznB8LO"
      },
      "outputs": [
        {
          "data": {
            "text/plain": [
              "(40, 40, 10, 10)"
            ]
          },
          "execution_count": 6,
          "metadata": {},
          "output_type": "execute_result"
        }
      ],
      "source": [
        "X_train, y_train = X[:train_split], y[:train_split]\n",
        "X_test, y_test = X[train_split:], y[train_split:]\n",
        "len(X_train), len(y_train), len(X_test), len(y_test)"
      ]
    },
    {
      "cell_type": "markdown",
      "metadata": {},
      "source": [
        "visualize, visualize, visualize"
      ]
    },
    {
      "cell_type": "code",
      "execution_count": 7,
      "metadata": {},
      "outputs": [],
      "source": [
        "def plot_predictions(train_data = X_train,\n",
        "                      train_labels = y_train,\n",
        "                      test_data = X_test,\n",
        "                      test_labels = y_test,\n",
        "                      predictions = None):\n",
        "    \"\"\" \n",
        "    Plots training data, test data and compare predictions\n",
        "    \"\"\"\n",
        "\n",
        "    # Plot training data in blue\n",
        "    plt.scatter(train_data, train_labels, c=\"b\", s=4, label = \"Training data\")\n",
        "\n",
        "    # Plot test data in green\n",
        "    plt.scatter(test_data, test_labels, c='g', s=4, label= \"Testing data\")\n",
        "\n",
        "    # Are there predictions?\n",
        "    if predictions is not None:\n",
        "        # Plot predictions if they exist \n",
        "        plt.scatter(test_data, predictions, c=\"r\", s=4, label = \"Predictions\")\n",
        "    # show the legend\n",
        "    plt.legend(prop = {\"size\":14})"
      ]
    },
    {
      "cell_type": "code",
      "execution_count": 8,
      "metadata": {},
      "outputs": [
        {
          "data": {
            "image/png": "[encoded data removed]",
            "text/plain": [
              "<Figure size 640x480 with 1 Axes>"
            ]
          },
          "metadata": {},
          "output_type": "display_data"
        }
      ],
      "source": [
        "plot_predictions()"
      ]
    },
    {
      "cell_type": "markdown",
      "metadata": {},
      "source": [
        "## 2. Build model\n",
        "- our first PyTorch model!\n",
        "- It is going to be a lineal regression model\n",
        "- This is to be done through a forward computation model\n",
        "\n",
        "what our model does (we are trying to guess the weight and bias):\n",
        "* start with random values (weight * bias )\n",
        "* Look at training data and adjust the random values to better represent (or get closer to) the ideal values (the weight & bias values we used to create the data) \n",
        "\n",
        "Through two main algorithms: https://www.youtube.com/watch?v=IHZwWFHWa-w&ab_channel=3Blue1Brown\n",
        "1. Gradient descent (when we set requires_grad=True)\n",
        "2. Backpropagation\n",
        "\n",
        "<img src=\"https://github.com/habonimana/PyTorch-for-Deep-Learning/blob/main/images/linear_regression.png?raw=true\" width=900 />\n"
      ]
    },
    {
      "cell_type": "code",
      "execution_count": 9,
      "metadata": {},
      "outputs": [],
      "source": [
        "# Create linear regression model class\n",
        "class LinearRegressionModel(nn.Module):\n",
        "    # Almost everything inherit from nn module\n",
        "    # it is the base class for all neural network modules \n",
        "\n",
        "    def __init__(self):\n",
        "        super().__init__()\n",
        "        self.weights = nn.Parameter(torch.randn(1, # these parameters are going to be random and model is PyTorch is supposed to look at our data and update them to best represent our know parameters\n",
        "                                                requires_grad=True,\n",
        "                                                dtype = torch.float32\n",
        "                                                ))\n",
        "        self.bias = nn.Parameter(torch.randn(1,\n",
        "                                             requires_grad=True,\n",
        "                                             dtype=torch.float))\n",
        "        \n",
        "        # Forward method to define the computation in the model\n",
        "\n",
        "    def forward(self, x: torch.Tensor) -> torch.Tensor: # <- \"x\" is the input data\n",
        "        return self.weights * x + self.bias # this is the linear regression formula\n",
        "        \n",
        "        \n"
      ]
    },
    {
      "cell_type": "markdown",
      "metadata": {},
      "source": [
        "### PyTorch model building essentials \n",
        "* torch.nn contains all of the b\n",
        "* torch.nn.Parameters \n",
        "* torch.nn.Module The base class foe all neural netword modules\n",
        "* torch.optim - this where the optimizers in PyTorch lives\n",
        "* def forward() - All nn.Module subclasses require you to override forward \n",
        "\n",
        "this is from https://pytorch.org/tutorials/beginner/ptcheat.html\n",
        "\n",
        "* import torch.autograd as autograd         # computation graph\n",
        "* from torch import Tensor                  # tensor node in the computation graph\n",
        "* import torch.nn as nn                     # neural networks\n",
        "* import torch.nn.functional as F           # layers, activations and more\n",
        "* import torch.optim as optim               # optimizers e.g. gradient descent, ADAM, etc.\n",
        "* from torch.jit import script, trace       # hybrid frontend decorator and tracing jit"
      ]
    },
    {
      "cell_type": "markdown",
      "metadata": {},
      "source": [
        "### Checking the contents of our Pytorch model\n",
        "using .parameters()"
      ]
    },
    {
      "cell_type": "code",
      "execution_count": null,
      "metadata": {},
      "outputs": [],
      "source": []
    },
    {
      "cell_type": "code",
      "execution_count": 43,
      "metadata": {},
      "outputs": [
        {
          "data": {
            "text/plain": [
              "<generator object Module.parameters at 0x000001666AEFADC0>"
            ]
          },
          "execution_count": 43,
          "metadata": {},
          "output_type": "execute_result"
        }
      ],
      "source": [
        "# Create a random seed\n",
        "torch.manual_seed(42) # this ensures that we get same values each time\n",
        "# the main idea is to start our model with random values\n",
        "# however, for the model to be re-usable, we need it to be reproductible\n",
        "\n",
        "# create an instance of the model (this is a subclass of nn.Module)\n",
        "model_0 = LinearRegressionModel()\n",
        "\n",
        "# Check out the parameters\n",
        "model_0.parameters()"
      ]
    },
    {
      "cell_type": "code",
      "execution_count": 11,
      "metadata": {},
      "outputs": [
        {
          "data": {
            "text/plain": [
              "[Parameter containing:\n",
              " tensor([0.3367], requires_grad=True),\n",
              " Parameter containing:\n",
              " tensor([0.1288], requires_grad=True)]"
            ]
          },
          "execution_count": 11,
          "metadata": {},
          "output_type": "execute_result"
        }
      ],
      "source": [
        "list(model_0.parameters())"
      ]
    },
    {
      "cell_type": "code",
      "execution_count": 12,
      "metadata": {},
      "outputs": [
        {
          "data": {
            "text/plain": [
              "OrderedDict([('weights', tensor([0.3367])), ('bias', tensor([0.1288]))])"
            ]
          },
          "execution_count": 12,
          "metadata": {},
          "output_type": "execute_result"
        }
      ],
      "source": [
        "# List named parameters \n",
        "model_0.state_dict()\n"
      ]
    },
    {
      "cell_type": "markdown",
      "metadata": {},
      "source": [
        "### Making prediction using `torch.inference_model()`\n",
        "to check our model's predictive power, let's see how well it predits `y_test` based on `X_test`\n",
        "\n",
        "when we pass data trough our model it's going to run it through the `forward()` method"
      ]
    },
    {
      "cell_type": "code",
      "execution_count": 13,
      "metadata": {},
      "outputs": [
        {
          "data": {
            "text/plain": [
              "tensor([[0.8000],\n",
              "        [0.8200],\n",
              "        [0.8400],\n",
              "        [0.8600],\n",
              "        [0.8800],\n",
              "        [0.9000],\n",
              "        [0.9200],\n",
              "        [0.9400],\n",
              "        [0.9600],\n",
              "        [0.9800]])"
            ]
          },
          "execution_count": 13,
          "metadata": {},
          "output_type": "execute_result"
        }
      ],
      "source": [
        "X_test"
      ]
    },
    {
      "cell_type": "code",
      "execution_count": 18,
      "metadata": {},
      "outputs": [
        {
          "data": {
            "text/plain": [
              "tensor([[0.3982],\n",
              "        [0.4049],\n",
              "        [0.4116],\n",
              "        [0.4184],\n",
              "        [0.4251],\n",
              "        [0.4318],\n",
              "        [0.4386],\n",
              "        [0.4453],\n",
              "        [0.4520],\n",
              "        [0.4588]], grad_fn=<AddBackward0>)"
            ]
          },
          "execution_count": 18,
          "metadata": {},
          "output_type": "execute_result"
        }
      ],
      "source": [
        "y_preds = model_0(X_test) # by doing this, it means PyTorch will keep backward data and thus make predictions slow\n",
        "# that's why I have to always use inference_mode()\n",
        "y_preds"
      ]
    },
    {
      "cell_type": "markdown",
      "metadata": {},
      "source": [
        "<blockquote class=\"twitter-tweet\"><p lang=\"en\" dir=\"ltr\">Want to make your inference code in PyTorch run faster? Here’s a quick thread on doing exactly that. <br><br>1. Replace <a href=\"https://t.co/OG6jlroK1O\">https://t.co/OG6jlroK1O</a>_grad() with the ✨torch.inference_mode()✨ context manager. <a href=\"https://t.co/EbKarCvrGT\">pic.twitter.com/EbKarCvrGT</a></p>&mdash; PyTorch (@PyTorch) <a href=\"https://twitter.com/PyTorch/status/1437838231505096708?ref_src=twsrc%5Etfw\">September 14, 2021</a></blockquote> <script async src=\"https://platform.twitter.com/widgets.js\" charset=\"utf-8\"></script> "
      ]
    },
    {
      "cell_type": "code",
      "execution_count": 14,
      "metadata": {},
      "outputs": [
        {
          "data": {
            "text/plain": [
              "tensor([[0.3982],\n",
              "        [0.4049],\n",
              "        [0.4116],\n",
              "        [0.4184],\n",
              "        [0.4251],\n",
              "        [0.4318],\n",
              "        [0.4386],\n",
              "        [0.4453],\n",
              "        [0.4520],\n",
              "        [0.4588]])"
            ]
          },
          "execution_count": 14,
          "metadata": {},
          "output_type": "execute_result"
        }
      ],
      "source": [
        "# make prediction with model\n",
        "with torch.inference_mode():\n",
        "    y_preds = model_0(X_test)\n",
        "y_preds"
      ]
    },
    {
      "cell_type": "code",
      "execution_count": 16,
      "metadata": {},
      "outputs": [
        {
          "data": {
            "image/png": "[encoded data removed]",
            "text/plain": [
              "<Figure size 640x480 with 1 Axes>"
            ]
          },
          "metadata": {},
          "output_type": "display_data"
        }
      ],
      "source": [
        "plot_predictions(predictions=y_preds)"
      ]
    },
    {
      "cell_type": "markdown",
      "metadata": {},
      "source": [
        "### 3. Train model\n",
        "the whole idea of training is for a model to move from `unknown` parameters to some `known` parameters\n",
        "\n",
        "or in other words from a poor representation to a better representation\n",
        "\n",
        "One way to measure how poor or how wrong your models predictions are in to use loss functions\n",
        "* Note: Loss function may also be called cost function or criterion in different areas. For our case, we're going to use loss function.\n",
        "\n",
        "Things we need to train:\n",
        "* Loss function: the lower is better\n",
        "* Optimizer : take into accoun the loss of a model and adjusts the model's parameters (eg. weight and bias) to improve the loss function\n",
        "\n",
        "And specifically for PyTroch, we need:\n",
        "* A training loop\n",
        "* A testing loop"
      ]
    },
    {
      "cell_type": "code",
      "execution_count": 20,
      "metadata": {},
      "outputs": [
        {
          "data": {
            "text/plain": [
              "OrderedDict([('weights', tensor([0.3367])), ('bias', tensor([0.1288]))])"
            ]
          },
          "execution_count": 20,
          "metadata": {},
          "output_type": "execute_result"
        }
      ],
      "source": [
        "model_0.state_dict()"
      ]
    },
    {
      "cell_type": "markdown",
      "metadata": {},
      "source": [
        "https://pytorch.org/docs/stable/optim.html\n",
        "\n",
        "* the smaller the learning rate, the smaller the change in learning\n",
        "* the higher it is, the higher the jump\n"
      ]
    },
    {
      "cell_type": "code",
      "execution_count": 63,
      "metadata": {},
      "outputs": [],
      "source": [
        "# setup a loss function \n",
        "\n",
        "loss_fn = nn.L1Loss()\n",
        "\n",
        "# setup an Optimizer (stochastic gradient descent)\n",
        "\n",
        "optimizer = torch.optim.SGD(params= model_0.parameters(),\n",
        "                            lr=0.01) # lr = learning rate = possibly the most important hyperparameters you can set a data scientist \n"
      ]
    },
    {
      "cell_type": "markdown",
      "metadata": {},
      "source": [
        "Q: Which loss function and optimizer should I use?\n",
        "\n",
        "A: This will be probless specific"
      ]
    },
    {
      "cell_type": "markdown",
      "metadata": {},
      "source": [
        "### Building a training loop (and a testing loop) in PyTorch\n",
        "\n",
        "A couple of things we need in a training loop:\n",
        "0. loop through the data\n",
        "1. forward pass (this involves data moving through our model's `forward()` function), also called forward propagation, to make forward pass predictions to ground truth labels \n",
        "2. Calculate the loss \n",
        "3. Optimizer zero grad \n",
        "4. Loss backward - move backward through the network to calculate the gradient of each of the parameters of our model with respect to the loss (**backpropagation**)\n",
        "5. Optimzer step -  use the optimizer to adjust our model's parameters to try and improve loss (**gradient descent**)\n"
      ]
    },
    {
      "cell_type": "code",
      "execution_count": null,
      "metadata": {},
      "outputs": [],
      "source": [
        "model_0 = LinearRegressionModel()"
      ]
    },
    {
      "cell_type": "code",
      "execution_count": 220,
      "metadata": {},
      "outputs": [
        {
          "name": "stdout",
          "output_type": "stream",
          "text": [
            "0\n",
            "tensor(0.0090, grad_fn=<MeanBackward0>)\n"
          ]
        }
      ],
      "source": [
        "# recreate model_0\n",
        "torch.manual_seed(42)\n",
        "\n",
        "\n",
        "# An epoch is one loop through the data ...\n",
        "epochs = 1 # this is a hyperparameters because we set them ourselves \n",
        "\n",
        "# 0. Loop through the data \n",
        "\n",
        "for epoch in range(epochs):\n",
        "    print(epoch)\n",
        "    # set the model to training mode\n",
        "    model_0.train() # train mode in PyTorch sets all parameters that require gradients to require gradients \n",
        "\n",
        "    #1. forward  pass\n",
        "    y_pred = model_0(X_train)\n",
        "\n",
        "    # 2. Calculate the loss\n",
        "    loss = loss_fn(y_pred, y_train) # output = loss(input, target)\n",
        "    print(loss)\n",
        "\n",
        "    # 3. Optimizer zero grad \n",
        "    optimizer.zero_grad()\n",
        "\n",
        "    # 4. Perform backpropagation on the loss with respect to the parameters of the model\n",
        "    loss.backward()\n",
        "\n",
        "    # 5. Step the optimizer (perform gradient descent)\n",
        "\n",
        "    optimizer.step() # by default how the optimizer changes will accumulate through the loop so... we have to zero them in the step3 for next iteration of the loop\n",
        "\n",
        "    # Testing \n",
        "    model_0.eval() # turn off gradient tracking\n",
        "    \n"
      ]
    },
    {
      "cell_type": "code",
      "execution_count": 129,
      "metadata": {},
      "outputs": [
        {
          "data": {
            "text/plain": [
              "OrderedDict([('weights', tensor([0.5046])), ('bias', tensor([0.3813]))])"
            ]
          },
          "execution_count": 129,
          "metadata": {},
          "output_type": "execute_result"
        }
      ],
      "source": [
        "model_0.state_dict()"
      ]
    },
    {
      "cell_type": "code",
      "execution_count": 94,
      "metadata": {},
      "outputs": [
        {
          "data": {
            "text/plain": [
              "(0.7, 0.3)"
            ]
          },
          "execution_count": 94,
          "metadata": {},
          "output_type": "execute_result"
        }
      ],
      "source": [
        "weight, bias"
      ]
    },
    {
      "cell_type": "code",
      "execution_count": 51,
      "metadata": {},
      "outputs": [
        {
          "data": {
            "text/plain": [
              "OrderedDict([('weights', tensor([0.3367])), ('bias', tensor([0.1288]))])"
            ]
          },
          "execution_count": 51,
          "metadata": {},
          "output_type": "execute_result"
        }
      ],
      "source": [
        "model_0.state_dict()"
      ]
    },
    {
      "cell_type": "code",
      "execution_count": 221,
      "metadata": {},
      "outputs": [],
      "source": [
        "with torch.inference_mode():\n",
        "    y_preds_new = model_0(X_test)"
      ]
    },
    {
      "cell_type": "code",
      "execution_count": 222,
      "metadata": {},
      "outputs": [
        {
          "data": {
            "image/png": "[encoded data removed]",
            "text/plain": [
              "<Figure size 640x480 with 1 Axes>"
            ]
          },
          "metadata": {},
          "output_type": "display_data"
        }
      ],
      "source": [
        "plot_predictions(predictions=y_preds_new)"
      ]
    },
    {
      "cell_type": "code",
      "execution_count": null,
      "metadata": {},
      "outputs": [],
      "source": []
    }
  ],
  "metadata": {
    "colab": {
      "authorship_tag": "ABX9TyNHRRNYnSap+jTsHFuNLxGL",
      "include_colab_link": true,
      "provenance": []
    },
    "kernelspec": {
      "display_name": "Python 3",
      "name": "python3"
    },
    "language_info": {
      "codemirror_mode": {
        "name": "ipython",
        "version": 3
      },
      "file_extension": ".py",
      "mimetype": "text/x-python",
      "name": "python",
      "nbconvert_exporter": "python",
      "pygments_lexer": "ipython3",
      "version": "3.12.2"
    }
  },
  "nbformat": 4,
  "nbformat_minor": 0
}
