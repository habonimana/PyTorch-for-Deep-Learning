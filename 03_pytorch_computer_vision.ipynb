{
 "cells": [
  {
   "cell_type": "markdown",
   "metadata": {},
   "source": [
    "# Computer Vision\n",
    "\n",
    "* https://github.com/mrdbourke/pytorch-deep-learning/blob/main/03_pytorch_computer_vision.ipynb\n",
    "* https://www.learnpytorch.io/03_pytorch_computer_vision/\n"
   ]
  },
  {
   "cell_type": "markdown",
   "metadata": {
    "vscode": {
     "languageId": "plaintext"
    }
   },
   "source": [
    "## 0. Computer Vision libraries in PyTorch\n",
    "\n",
    "* `torchvision` https://pytorch.org/vision/stable/index.html\n",
    "* `torchvision.datasets` get datasets and data loading functions for a Computer vision\n",
    "* `torchvision.models` get pre-trained Computer vision models taht you leverage for your own problem\n",
    "* `torchvision.transforms` functions for manipulating your vision data (images) to be suitable for use with an ML model\n",
    "* `torchvision.utils.data.Dataset` Base dataset class for PyTorch\n",
    "* `torchvision.utils.data.DataLoader` Create a Python iterable over a dataset"
   ]
  },
  {
   "cell_type": "code",
   "execution_count": 1,
   "metadata": {},
   "outputs": [
    {
     "name": "stdout",
     "output_type": "stream",
     "text": [
      "2.4.0+cu124\n",
      "0.19.0+cu124\n"
     ]
    }
   ],
   "source": [
    "# Import PyTorch\n",
    "import torch\n",
    "from torch import nn\n",
    "\n",
    "# Import torchvision\n",
    "import torchvision\n",
    "from torchvision import datasets\n",
    "from torchvision import transforms\n",
    "from torchvision.transforms import ToTensor\n",
    "\n",
    "# import matplotlib for visualization\n",
    "import matplotlib.pyplot as plt\n",
    "\n",
    "# check version\n",
    "print(torch.__version__)\n",
    "print(torchvision.__version__)\n"
   ]
  },
  {
   "cell_type": "markdown",
   "metadata": {},
   "source": [
    "### 1. Getting a dataset\n",
    "the dataset we'll use is FashionMNIST from torchvision.datasets  https://github.com/zalandoresearch/fashion-mnist\n",
    "\n",
    "\n"
   ]
  },
  {
   "cell_type": "code",
   "execution_count": 2,
   "metadata": {},
   "outputs": [],
   "source": [
    "# setup training data\n",
    "\n",
    "from torchvision import datasets\n",
    "train_data = datasets.FashionMNIST(\n",
    "    root=\"data\", # where to store it\n",
    "    train = True, # do we want training datasets?\n",
    "    download=True,\n",
    "    transform=ToTensor(), # how do we want to transform the data\n",
    "    target_transform= None # How do we want to transform the labels/targets?\n",
    ")\n",
    "\n",
    "test_data = datasets.FashionMNIST(\n",
    "    root=\"data\",\n",
    "    train=False,\n",
    "    download=True,\n",
    "    transform=ToTensor(),\n",
    "    target_transform=None\n",
    ")"
   ]
  },
  {
   "cell_type": "code",
   "execution_count": 3,
   "metadata": {},
   "outputs": [
    {
     "data": {
      "text/plain": [
       "(60000, 10000)"
      ]
     },
     "execution_count": 3,
     "metadata": {},
     "output_type": "execute_result"
    }
   ],
   "source": [
    "len(train_data), len(test_data)"
   ]
  },
  {
   "cell_type": "code",
   "execution_count": 4,
   "metadata": {},
   "outputs": [
    {
     "data": {
      "text/plain": [
       "(tensor([[[0.0000, 0.0000, 0.0000, 0.0000, 0.0000, 0.0000, 0.0000, 0.0000,\n",
       "           0.0000, 0.0000, 0.0000, 0.0000, 0.0000, 0.0000, 0.0000, 0.0000,\n",
       "           0.0000, 0.0000, 0.0000, 0.0000, 0.0000, 0.0000, 0.0000, 0.0000,\n",
       "           0.0000, 0.0000, 0.0000, 0.0000],\n",
       "          [0.0000, 0.0000, 0.0000, 0.0000, 0.0000, 0.0000, 0.0000, 0.0000,\n",
       "           0.0000, 0.0000, 0.0000, 0.0000, 0.0000, 0.0000, 0.0000, 0.0000,\n",
       "           0.0000, 0.0000, 0.0000, 0.0000, 0.0000, 0.0000, 0.0000, 0.0000,\n",
       "           0.0000, 0.0000, 0.0000, 0.0000],\n",
       "          [0.0000, 0.0000, 0.0000, 0.0000, 0.0000, 0.0000, 0.0000, 0.0000,\n",
       "           0.0000, 0.0000, 0.0000, 0.0000, 0.0000, 0.0000, 0.0000, 0.0000,\n",
       "           0.0000, 0.0000, 0.0000, 0.0000, 0.0000, 0.0000, 0.0000, 0.0000,\n",
       "           0.0000, 0.0000, 0.0000, 0.0000],\n",
       "          [0.0000, 0.0000, 0.0000, 0.0000, 0.0000, 0.0000, 0.0000, 0.0000,\n",
       "           0.0000, 0.0000, 0.0000, 0.0000, 0.0039, 0.0000, 0.0000, 0.0510,\n",
       "           0.2863, 0.0000, 0.0000, 0.0039, 0.0157, 0.0000, 0.0000, 0.0000,\n",
       "           0.0000, 0.0039, 0.0039, 0.0000],\n",
       "          [0.0000, 0.0000, 0.0000, 0.0000, 0.0000, 0.0000, 0.0000, 0.0000,\n",
       "           0.0000, 0.0000, 0.0000, 0.0000, 0.0118, 0.0000, 0.1412, 0.5333,\n",
       "           0.4980, 0.2431, 0.2118, 0.0000, 0.0000, 0.0000, 0.0039, 0.0118,\n",
       "           0.0157, 0.0000, 0.0000, 0.0118],\n",
       "          [0.0000, 0.0000, 0.0000, 0.0000, 0.0000, 0.0000, 0.0000, 0.0000,\n",
       "           0.0000, 0.0000, 0.0000, 0.0000, 0.0235, 0.0000, 0.4000, 0.8000,\n",
       "           0.6902, 0.5255, 0.5647, 0.4824, 0.0902, 0.0000, 0.0000, 0.0000,\n",
       "           0.0000, 0.0471, 0.0392, 0.0000],\n",
       "          [0.0000, 0.0000, 0.0000, 0.0000, 0.0000, 0.0000, 0.0000, 0.0000,\n",
       "           0.0000, 0.0000, 0.0000, 0.0000, 0.0000, 0.0000, 0.6078, 0.9255,\n",
       "           0.8118, 0.6980, 0.4196, 0.6118, 0.6314, 0.4275, 0.2510, 0.0902,\n",
       "           0.3020, 0.5098, 0.2824, 0.0588],\n",
       "          [0.0000, 0.0000, 0.0000, 0.0000, 0.0000, 0.0000, 0.0000, 0.0000,\n",
       "           0.0000, 0.0000, 0.0000, 0.0039, 0.0000, 0.2706, 0.8118, 0.8745,\n",
       "           0.8549, 0.8471, 0.8471, 0.6392, 0.4980, 0.4745, 0.4784, 0.5725,\n",
       "           0.5529, 0.3451, 0.6745, 0.2588],\n",
       "          [0.0000, 0.0000, 0.0000, 0.0000, 0.0000, 0.0000, 0.0000, 0.0000,\n",
       "           0.0000, 0.0039, 0.0039, 0.0039, 0.0000, 0.7843, 0.9098, 0.9098,\n",
       "           0.9137, 0.8980, 0.8745, 0.8745, 0.8431, 0.8353, 0.6431, 0.4980,\n",
       "           0.4824, 0.7686, 0.8980, 0.0000],\n",
       "          [0.0000, 0.0000, 0.0000, 0.0000, 0.0000, 0.0000, 0.0000, 0.0000,\n",
       "           0.0000, 0.0000, 0.0000, 0.0000, 0.0000, 0.7176, 0.8824, 0.8471,\n",
       "           0.8745, 0.8941, 0.9216, 0.8902, 0.8784, 0.8706, 0.8784, 0.8667,\n",
       "           0.8745, 0.9608, 0.6784, 0.0000],\n",
       "          [0.0000, 0.0000, 0.0000, 0.0000, 0.0000, 0.0000, 0.0000, 0.0000,\n",
       "           0.0000, 0.0000, 0.0000, 0.0000, 0.0000, 0.7569, 0.8941, 0.8549,\n",
       "           0.8353, 0.7765, 0.7059, 0.8314, 0.8235, 0.8275, 0.8353, 0.8745,\n",
       "           0.8627, 0.9529, 0.7922, 0.0000],\n",
       "          [0.0000, 0.0000, 0.0000, 0.0000, 0.0000, 0.0000, 0.0000, 0.0000,\n",
       "           0.0000, 0.0039, 0.0118, 0.0000, 0.0471, 0.8588, 0.8627, 0.8314,\n",
       "           0.8549, 0.7529, 0.6627, 0.8902, 0.8157, 0.8549, 0.8784, 0.8314,\n",
       "           0.8863, 0.7725, 0.8196, 0.2039],\n",
       "          [0.0000, 0.0000, 0.0000, 0.0000, 0.0000, 0.0000, 0.0000, 0.0000,\n",
       "           0.0000, 0.0000, 0.0235, 0.0000, 0.3882, 0.9569, 0.8706, 0.8627,\n",
       "           0.8549, 0.7961, 0.7765, 0.8667, 0.8431, 0.8353, 0.8706, 0.8627,\n",
       "           0.9608, 0.4667, 0.6549, 0.2196],\n",
       "          [0.0000, 0.0000, 0.0000, 0.0000, 0.0000, 0.0000, 0.0000, 0.0000,\n",
       "           0.0000, 0.0157, 0.0000, 0.0000, 0.2157, 0.9255, 0.8941, 0.9020,\n",
       "           0.8941, 0.9412, 0.9098, 0.8353, 0.8549, 0.8745, 0.9176, 0.8510,\n",
       "           0.8510, 0.8196, 0.3608, 0.0000],\n",
       "          [0.0000, 0.0000, 0.0039, 0.0157, 0.0235, 0.0275, 0.0078, 0.0000,\n",
       "           0.0000, 0.0000, 0.0000, 0.0000, 0.9294, 0.8863, 0.8510, 0.8745,\n",
       "           0.8706, 0.8588, 0.8706, 0.8667, 0.8471, 0.8745, 0.8980, 0.8431,\n",
       "           0.8549, 1.0000, 0.3020, 0.0000],\n",
       "          [0.0000, 0.0118, 0.0000, 0.0000, 0.0000, 0.0000, 0.0000, 0.0000,\n",
       "           0.0000, 0.2431, 0.5686, 0.8000, 0.8941, 0.8118, 0.8353, 0.8667,\n",
       "           0.8549, 0.8157, 0.8275, 0.8549, 0.8784, 0.8745, 0.8588, 0.8431,\n",
       "           0.8784, 0.9569, 0.6235, 0.0000],\n",
       "          [0.0000, 0.0000, 0.0000, 0.0000, 0.0706, 0.1725, 0.3216, 0.4196,\n",
       "           0.7412, 0.8941, 0.8627, 0.8706, 0.8510, 0.8863, 0.7843, 0.8039,\n",
       "           0.8275, 0.9020, 0.8784, 0.9176, 0.6902, 0.7373, 0.9804, 0.9725,\n",
       "           0.9137, 0.9333, 0.8431, 0.0000],\n",
       "          [0.0000, 0.2235, 0.7333, 0.8157, 0.8784, 0.8667, 0.8784, 0.8157,\n",
       "           0.8000, 0.8392, 0.8157, 0.8196, 0.7843, 0.6235, 0.9608, 0.7569,\n",
       "           0.8078, 0.8745, 1.0000, 1.0000, 0.8667, 0.9176, 0.8667, 0.8275,\n",
       "           0.8627, 0.9098, 0.9647, 0.0000],\n",
       "          [0.0118, 0.7922, 0.8941, 0.8784, 0.8667, 0.8275, 0.8275, 0.8392,\n",
       "           0.8039, 0.8039, 0.8039, 0.8627, 0.9412, 0.3137, 0.5882, 1.0000,\n",
       "           0.8980, 0.8667, 0.7373, 0.6039, 0.7490, 0.8235, 0.8000, 0.8196,\n",
       "           0.8706, 0.8941, 0.8824, 0.0000],\n",
       "          [0.3843, 0.9137, 0.7765, 0.8235, 0.8706, 0.8980, 0.8980, 0.9176,\n",
       "           0.9765, 0.8627, 0.7608, 0.8431, 0.8510, 0.9451, 0.2549, 0.2863,\n",
       "           0.4157, 0.4588, 0.6588, 0.8588, 0.8667, 0.8431, 0.8510, 0.8745,\n",
       "           0.8745, 0.8784, 0.8980, 0.1137],\n",
       "          [0.2941, 0.8000, 0.8314, 0.8000, 0.7569, 0.8039, 0.8275, 0.8824,\n",
       "           0.8471, 0.7255, 0.7725, 0.8078, 0.7765, 0.8353, 0.9412, 0.7647,\n",
       "           0.8902, 0.9608, 0.9373, 0.8745, 0.8549, 0.8314, 0.8196, 0.8706,\n",
       "           0.8627, 0.8667, 0.9020, 0.2627],\n",
       "          [0.1882, 0.7961, 0.7176, 0.7608, 0.8353, 0.7725, 0.7255, 0.7451,\n",
       "           0.7608, 0.7529, 0.7922, 0.8392, 0.8588, 0.8667, 0.8627, 0.9255,\n",
       "           0.8824, 0.8471, 0.7804, 0.8078, 0.7294, 0.7098, 0.6941, 0.6745,\n",
       "           0.7098, 0.8039, 0.8078, 0.4510],\n",
       "          [0.0000, 0.4784, 0.8588, 0.7569, 0.7020, 0.6706, 0.7176, 0.7686,\n",
       "           0.8000, 0.8235, 0.8353, 0.8118, 0.8275, 0.8235, 0.7843, 0.7686,\n",
       "           0.7608, 0.7490, 0.7647, 0.7490, 0.7765, 0.7529, 0.6902, 0.6118,\n",
       "           0.6549, 0.6941, 0.8235, 0.3608],\n",
       "          [0.0000, 0.0000, 0.2902, 0.7412, 0.8314, 0.7490, 0.6863, 0.6745,\n",
       "           0.6863, 0.7098, 0.7255, 0.7373, 0.7412, 0.7373, 0.7569, 0.7765,\n",
       "           0.8000, 0.8196, 0.8235, 0.8235, 0.8275, 0.7373, 0.7373, 0.7608,\n",
       "           0.7529, 0.8471, 0.6667, 0.0000],\n",
       "          [0.0078, 0.0000, 0.0000, 0.0000, 0.2588, 0.7843, 0.8706, 0.9294,\n",
       "           0.9373, 0.9490, 0.9647, 0.9529, 0.9569, 0.8667, 0.8627, 0.7569,\n",
       "           0.7490, 0.7020, 0.7137, 0.7137, 0.7098, 0.6902, 0.6510, 0.6588,\n",
       "           0.3882, 0.2275, 0.0000, 0.0000],\n",
       "          [0.0000, 0.0000, 0.0000, 0.0000, 0.0000, 0.0000, 0.0000, 0.1569,\n",
       "           0.2392, 0.1725, 0.2824, 0.1608, 0.1373, 0.0000, 0.0000, 0.0000,\n",
       "           0.0000, 0.0000, 0.0000, 0.0000, 0.0000, 0.0000, 0.0000, 0.0000,\n",
       "           0.0000, 0.0000, 0.0000, 0.0000],\n",
       "          [0.0000, 0.0000, 0.0000, 0.0000, 0.0000, 0.0000, 0.0000, 0.0000,\n",
       "           0.0000, 0.0000, 0.0000, 0.0000, 0.0000, 0.0000, 0.0000, 0.0000,\n",
       "           0.0000, 0.0000, 0.0000, 0.0000, 0.0000, 0.0000, 0.0000, 0.0000,\n",
       "           0.0000, 0.0000, 0.0000, 0.0000],\n",
       "          [0.0000, 0.0000, 0.0000, 0.0000, 0.0000, 0.0000, 0.0000, 0.0000,\n",
       "           0.0000, 0.0000, 0.0000, 0.0000, 0.0000, 0.0000, 0.0000, 0.0000,\n",
       "           0.0000, 0.0000, 0.0000, 0.0000, 0.0000, 0.0000, 0.0000, 0.0000,\n",
       "           0.0000, 0.0000, 0.0000, 0.0000]]]),\n",
       " 9)"
      ]
     },
     "execution_count": 4,
     "metadata": {},
     "output_type": "execute_result"
    }
   ],
   "source": [
    "# First training example\n",
    "image, label = train_data[0]\n",
    "image, label"
   ]
  },
  {
   "cell_type": "code",
   "execution_count": 5,
   "metadata": {},
   "outputs": [
    {
     "data": {
      "text/plain": [
       "['T-shirt/top',\n",
       " 'Trouser',\n",
       " 'Pullover',\n",
       " 'Dress',\n",
       " 'Coat',\n",
       " 'Sandal',\n",
       " 'Shirt',\n",
       " 'Sneaker',\n",
       " 'Bag',\n",
       " 'Ankle boot']"
      ]
     },
     "execution_count": 5,
     "metadata": {},
     "output_type": "execute_result"
    }
   ],
   "source": [
    "class_names = train_data.classes\n",
    "class_names"
   ]
  },
  {
   "cell_type": "code",
   "execution_count": 6,
   "metadata": {},
   "outputs": [
    {
     "data": {
      "text/plain": [
       "{'T-shirt/top': 0,\n",
       " 'Trouser': 1,\n",
       " 'Pullover': 2,\n",
       " 'Dress': 3,\n",
       " 'Coat': 4,\n",
       " 'Sandal': 5,\n",
       " 'Shirt': 6,\n",
       " 'Sneaker': 7,\n",
       " 'Bag': 8,\n",
       " 'Ankle boot': 9}"
      ]
     },
     "execution_count": 6,
     "metadata": {},
     "output_type": "execute_result"
    }
   ],
   "source": [
    "class_to_idx = train_data.class_to_idx\n",
    "class_to_idx"
   ]
  },
  {
   "cell_type": "code",
   "execution_count": 7,
   "metadata": {},
   "outputs": [
    {
     "name": "stdout",
     "output_type": "stream",
     "text": [
      "Image shape: torch.Size([1, 28, 28]) -> color channel, height and width\n",
      "Label: Ankle boot\n"
     ]
    }
   ],
   "source": [
    "# check the shape of our image\n",
    "print(f\"Image shape: {image.shape} -> color channel, height and width\")\n",
    "print(f\"Label: {class_names[label]}\")"
   ]
  },
  {
   "cell_type": "markdown",
   "metadata": {},
   "source": [
    "### 1.2 Visualize our data"
   ]
  },
  {
   "cell_type": "code",
   "execution_count": 9,
   "metadata": {},
   "outputs": [
    {
     "name": "stdout",
     "output_type": "stream",
     "text": [
      "Image shape : torch.Size([1, 28, 28])\n"
     ]
    },
    {
     "data": {
      "image/png": "[encoded data removed]",
      "text/plain": [
       "<Figure size 640x480 with 1 Axes>"
      ]
     },
     "metadata": {},
     "output_type": "display_data"
    }
   ],
   "source": [
    "import matplotlib.pyplot as plt\n",
    "\n",
    "image, label = train_data[0]\n",
    "print(f\"Image shape : {image.shape}\")\n",
    "plt.imshow(image.squeeze());"
   ]
  },
  {
   "cell_type": "code",
   "execution_count": 10,
   "metadata": {},
   "outputs": [
    {
     "data": {
      "image/png": "[encoded data removed]",
      "text/plain": [
       "<Figure size 640x480 with 1 Axes>"
      ]
     },
     "metadata": {},
     "output_type": "display_data"
    }
   ],
   "source": [
    "\n",
    "plt.imshow(image.squeeze(), cmap=\"gray\")\n",
    "plt.title(class_names[label])\n",
    "plt.axis(False);"
   ]
  },
  {
   "cell_type": "code",
   "execution_count": 18,
   "metadata": {},
   "outputs": [
    {
     "data": {
      "image/png": "[encoded data removed]",
      "text/plain": [
       "<Figure size 900x900 with 16 Axes>"
      ]
     },
     "metadata": {},
     "output_type": "display_data"
    }
   ],
   "source": [
    "# Plot more images \n",
    "#torch.manual_seed(42)\n",
    "fig = plt.figure(figsize=(9, 9))\n",
    "rows, cols = 4, 4\n",
    "for i in range(1, rows * cols + 1):\n",
    "    random_idx = torch.randint(0, len(train_data), size=[1]).item()\n",
    "    img, label = train_data[random_idx]\n",
    "    fig.add_subplot(rows, cols, i)\n",
    "    plt.imshow(img.squeeze(), cmap=\"gray\")\n",
    "    plt.title(class_names[label])\n",
    "    plt.axis(False)\n",
    "    #print(random_idx)\n"
   ]
  },
  {
   "cell_type": "markdown",
   "metadata": {},
   "source": [
    "## 2. Prepare DataLoader\n",
    "rigth now, our data in is the form of PyTorch Datasets.\n",
    "\n",
    "DataLoader turns our datasets into a Python iterable. \n",
    "\n",
    "More specification, we want to turn our data into batches\n",
    "\n",
    "why?\n",
    "\n",
    "* It is more computer efficient, it would consume a lot of memory to run all data at once \n",
    "* It gives our NN more changes to update its gradient descent \n",
    "\n",
    "https://www.youtube.com/watch?v=4qJaSmvhxi8&ab_channel=DeepLearningAI"
   ]
  },
  {
   "cell_type": "code",
   "execution_count": 19,
   "metadata": {},
   "outputs": [
    {
     "data": {
      "text/plain": [
       "(<torch.utils.data.dataloader.DataLoader at 0x1803e5842f0>,\n",
       " <torch.utils.data.dataloader.DataLoader at 0x1803ed015b0>)"
      ]
     },
     "execution_count": 19,
     "metadata": {},
     "output_type": "execute_result"
    }
   ],
   "source": [
    "from torch.utils.data import DataLoader\n",
    "\n",
    "# Setup the batch size hyperparameter\n",
    "BATCH_SIZE = 32\n",
    "\n",
    "#\n",
    "train_dataloader = DataLoader(dataset=train_data,\n",
    "                              batch_size=BATCH_SIZE,\n",
    "                              shuffle=True)\n",
    "\n",
    "test_dataloader = DataLoader(dataset=test_data,\n",
    "                             batch_size=BATCH_SIZE,\n",
    "                             shuffle=False)\n",
    "\n",
    "train_dataloader, test_dataloader"
   ]
  },
  {
   "cell_type": "code",
   "execution_count": 20,
   "metadata": {},
   "outputs": [
    {
     "name": "stdout",
     "output_type": "stream",
     "text": [
      "DataLoader: (<torch.utils.data.dataloader.DataLoader object at 0x000001803E5842F0>, <torch.utils.data.dataloader.DataLoader object at 0x000001803ED015B0>)\n",
      "Lenght of train_dataloader: 1875 batches of :32\n",
      "Lenght of test_dataloader: 313 batches of :32\n"
     ]
    }
   ],
   "source": [
    "# Let's check out what we've created\n",
    "\n",
    "print(f\"DataLoader: {train_dataloader, test_dataloader}\")\n",
    "print(f\"Lenght of train_dataloader: {len(train_dataloader)} batches of :{BATCH_SIZE}\")\n",
    "print(f\"Lenght of test_dataloader: {len(test_dataloader)} batches of :{BATCH_SIZE}\")"
   ]
  },
  {
   "cell_type": "code",
   "execution_count": 21,
   "metadata": {},
   "outputs": [
    {
     "data": {
      "text/plain": [
       "(torch.Size([32, 1, 28, 28]), torch.Size([32]))"
      ]
     },
     "execution_count": 21,
     "metadata": {},
     "output_type": "execute_result"
    }
   ],
   "source": [
    "# Check out what's inside the training data loader\n",
    "train_features_batch, train_labels_batch = next(iter(train_dataloader))\n",
    "train_features_batch.shape, train_labels_batch.shape"
   ]
  },
  {
   "cell_type": "code",
   "execution_count": 29,
   "metadata": {},
   "outputs": [
    {
     "data": {
      "text/plain": [
       "(-0.5, 27.5, 27.5, -0.5)"
      ]
     },
     "execution_count": 29,
     "metadata": {},
     "output_type": "execute_result"
    },
    {
     "data": {
      "image/png": "[encoded data removed]",
      "text/plain": [
       "<Figure size 640x480 with 1 Axes>"
      ]
     },
     "metadata": {},
     "output_type": "display_data"
    }
   ],
   "source": [
    "# Show a sample\n",
    "torch.manual_seed(42)\n",
    "\n",
    "random_idx = torch.randint(0, len(train_features_batch), size=[1]).item()\n",
    "img, label = train_features_batch[random_idx], train_labels_batch[random_idx]\n",
    "plt.imshow(img.squeeze(), cmap=\"gray\")\n",
    "plt.title(class_names[label])\n",
    "plt.axis(False)\n"
   ]
  },
  {
   "cell_type": "markdown",
   "metadata": {},
   "source": [
    "## 3. Model 0: Build a baseline model\n",
    "\n",
    "when starting a build a series of machine learning modeling, it's best to start with a baseline model\n",
    "\n",
    "A baseline model is a simple model you will try and improve upon with subsequent models/experiment\n",
    "\n",
    "in other words: start simply and add complexity when necessary"
   ]
  },
  {
   "cell_type": "code",
   "execution_count": 32,
   "metadata": {},
   "outputs": [
    {
     "name": "stdout",
     "output_type": "stream",
     "text": [
      "torch.Size([1, 28, 28])\n",
      "Shape after flattening\n",
      "torch.Size([1, 784])\n"
     ]
    }
   ],
   "source": [
    "# Create a flatten layer\n",
    "\n",
    "flatten_model = nn.Flatten()\n",
    "\n",
    "# Get a single sample\n",
    "x = train_features_batch[0]\n",
    "print(x.shape)\n",
    "\n",
    "# Flatten the sample\n",
    "output = flatten_model(x) # perform forward pass\n",
    "print(\"Shape after flattening\")\n",
    "print(output.shape)"
   ]
  },
  {
   "cell_type": "code",
   "execution_count": 33,
   "metadata": {},
   "outputs": [],
   "source": [
    "from torch import nn\n",
    "\n",
    "class FashionMNISTModelV0(nn.Module):\n",
    "    def __init__(self,\n",
    "                    input_shape: int,\n",
    "                    hidden_units: int,\n",
    "                    output_shape: int) -> None:\n",
    "        super().__init__()\n",
    "\n",
    "        self.layer_stack = nn.Sequential(\n",
    "            nn.Flatten(),\n",
    "            nn.Linear(in_features=input_shape,\n",
    "                       out_features=hidden_units),\n",
    "            nn.Linear(in_features=hidden_units,\n",
    "                      out_features=output_shape)\n",
    "        )\n",
    "    def forward(self, x):\n",
    "        return self.layer_stack(x)\n",
    "\n",
    "\n"
   ]
  },
  {
   "cell_type": "code",
   "execution_count": 41,
   "metadata": {},
   "outputs": [
    {
     "data": {
      "text/plain": [
       "FashionMNISTModelV0(\n",
       "  (layer_stack): Sequential(\n",
       "    (0): Flatten(start_dim=1, end_dim=-1)\n",
       "    (1): Linear(in_features=784, out_features=10, bias=True)\n",
       "    (2): Linear(in_features=10, out_features=10, bias=True)\n",
       "  )\n",
       ")"
      ]
     },
     "execution_count": 41,
     "metadata": {},
     "output_type": "execute_result"
    }
   ],
   "source": [
    "torch.manual_seed(42)\n",
    "\n",
    "# setup model with input parameters\n",
    "model_0 = FashionMNISTModelV0(\n",
    "    input_shape= 28 * 28,\n",
    "    hidden_units=10,\n",
    "    output_shape=len(class_names) # one for every class\n",
    ").to(\"cpu\")\n",
    "\n",
    "model_0"
   ]
  },
  {
   "cell_type": "code",
   "execution_count": 36,
   "metadata": {},
   "outputs": [
    {
     "name": "stdout",
     "output_type": "stream",
     "text": [
      "torch.Size([1, 1, 28, 28])\n"
     ]
    },
    {
     "data": {
      "text/plain": [
       "tensor([[[[0.0945, 0.5863, 0.8351, 0.8303, 0.9971, 0.8183, 0.7233, 0.1926,\n",
       "           0.9927, 0.2787, 0.8215, 0.7057, 0.2036, 0.4553, 0.4584, 0.8775,\n",
       "           0.8826, 0.6072, 0.2159, 0.6424, 0.9097, 0.2350, 0.9007, 0.6130,\n",
       "           0.7766, 0.6715, 0.8157, 0.0746],\n",
       "          [0.7065, 0.0664, 0.4659, 0.8910, 0.0900, 0.1197, 0.2809, 0.5188,\n",
       "           0.4309, 0.1075, 0.5651, 0.3744, 0.2665, 0.5055, 0.6698, 0.5802,\n",
       "           0.1685, 0.8389, 0.5943, 0.2953, 0.9328, 0.6008, 0.7600, 0.8535,\n",
       "           0.4911, 0.9121, 0.4978, 0.9000],\n",
       "          [0.5606, 0.7301, 0.7518, 0.2229, 0.9369, 0.5152, 0.6838, 0.1311,\n",
       "           0.3134, 0.8259, 0.1844, 0.5693, 0.9391, 0.0251, 0.4945, 0.5812,\n",
       "           0.8277, 0.3320, 0.0113, 0.1905, 0.6501, 0.1318, 0.0720, 0.4874,\n",
       "           0.6312, 0.1865, 0.3058, 0.7735],\n",
       "          [0.1619, 0.0887, 0.3489, 0.9017, 0.3534, 0.1611, 0.1453, 0.3825,\n",
       "           0.8551, 0.6879, 0.3331, 0.0662, 0.1966, 0.6056, 0.9204, 0.7575,\n",
       "           0.4361, 0.7652, 0.5360, 0.5687, 0.7331, 0.3769, 0.6457, 0.5446,\n",
       "           0.6525, 0.3930, 0.8232, 0.0496],\n",
       "          [0.8321, 0.0875, 0.1636, 0.1926, 0.4517, 0.4504, 0.0138, 0.7653,\n",
       "           0.6230, 0.9885, 0.1432, 0.0979, 0.6201, 0.8852, 0.8338, 0.7028,\n",
       "           0.5841, 0.7492, 0.3010, 0.0013, 0.0837, 0.1802, 0.6117, 0.9477,\n",
       "           0.8227, 0.1736, 0.6394, 0.9423],\n",
       "          [0.5123, 0.4068, 0.2291, 0.4637, 0.8763, 0.3588, 0.4245, 0.7426,\n",
       "           0.3083, 0.2690, 0.5844, 0.8620, 0.5533, 0.4799, 0.1028, 0.7986,\n",
       "           0.5228, 0.2799, 0.0601, 0.2628, 0.1486, 0.6024, 0.8664, 0.4012,\n",
       "           0.8043, 0.3937, 0.2620, 0.0424],\n",
       "          [0.1649, 0.8753, 0.8368, 0.9824, 0.4496, 0.6690, 0.4386, 0.9949,\n",
       "           0.1013, 0.3642, 0.0206, 0.5494, 0.1107, 0.1493, 0.6156, 0.9975,\n",
       "           0.9167, 0.8435, 0.3762, 0.4849, 0.0505, 0.8361, 0.6366, 0.9244,\n",
       "           0.0139, 0.3781, 0.1780, 0.1174],\n",
       "          [0.2027, 0.6580, 0.8324, 0.7258, 0.3287, 0.7206, 0.9925, 0.5245,\n",
       "           0.3201, 0.1052, 0.8534, 0.3857, 0.1077, 0.7891, 0.5997, 0.2982,\n",
       "           0.0078, 0.5627, 0.3519, 0.4133, 0.3332, 0.9112, 0.7654, 0.8964,\n",
       "           0.6888, 0.6427, 0.9935, 0.4982],\n",
       "          [0.7874, 0.7033, 0.0215, 0.8397, 0.4510, 0.1624, 0.8370, 0.0950,\n",
       "           0.7344, 0.0887, 0.3566, 0.0309, 0.8576, 0.6236, 0.9080, 0.6526,\n",
       "           0.2521, 0.5752, 0.8384, 0.1134, 0.1664, 0.3728, 0.1876, 0.4092,\n",
       "           0.9735, 0.7780, 0.0946, 0.2302],\n",
       "          [0.9013, 0.4617, 0.2895, 0.5978, 0.4206, 0.6685, 0.5092, 0.7843,\n",
       "           0.7752, 0.6755, 0.6549, 0.3716, 0.0372, 0.4519, 0.1203, 0.1000,\n",
       "           0.0597, 0.3751, 0.1302, 0.5845, 0.7159, 0.7970, 0.0174, 0.9207,\n",
       "           0.6488, 0.9058, 0.7423, 0.5909],\n",
       "          [0.4040, 0.9183, 0.1746, 0.8900, 0.9361, 0.5817, 0.2856, 0.0961,\n",
       "           0.4725, 0.9249, 0.5231, 0.3741, 0.2513, 0.5374, 0.7765, 0.5974,\n",
       "           0.5862, 0.1540, 0.7420, 0.5520, 0.0086, 0.9159, 0.8180, 0.5039,\n",
       "           0.4012, 0.9491, 0.9964, 0.5815],\n",
       "          [0.9641, 0.7114, 0.7386, 0.4704, 0.4635, 0.8198, 0.2810, 0.1429,\n",
       "           0.8122, 0.3800, 0.8530, 0.4169, 0.1954, 0.4915, 0.4424, 0.6148,\n",
       "           0.1142, 0.0767, 0.5259, 0.9513, 0.1839, 0.2485, 0.5477, 0.8744,\n",
       "           0.8832, 0.3956, 0.4738, 0.1063],\n",
       "          [0.9883, 0.8038, 0.6278, 0.0143, 0.7826, 0.2183, 0.5208, 0.7399,\n",
       "           0.4801, 0.2561, 0.8377, 0.8389, 0.5487, 0.1875, 0.2410, 0.0509,\n",
       "           0.2324, 0.0534, 0.4559, 0.1449, 0.7848, 0.0954, 0.1553, 0.1919,\n",
       "           0.3686, 0.6957, 0.8599, 0.9959],\n",
       "          [0.3808, 0.6174, 0.5352, 0.7758, 0.7350, 0.7940, 0.8410, 0.9162,\n",
       "           0.5255, 0.8500, 0.2190, 0.3950, 0.3603, 0.3503, 0.5286, 0.0296,\n",
       "           0.2166, 0.4531, 0.6006, 0.8543, 0.1567, 0.6220, 0.7307, 0.2332,\n",
       "           0.5850, 0.2379, 0.4867, 0.2252],\n",
       "          [0.3601, 0.3022, 0.9326, 0.6207, 0.0149, 0.5633, 0.7727, 0.2823,\n",
       "           0.2010, 0.4018, 0.0583, 0.3140, 0.5614, 0.1270, 0.0251, 0.2027,\n",
       "           0.1348, 0.5147, 0.6807, 0.8150, 0.9996, 0.7613, 0.2743, 0.4336,\n",
       "           0.2432, 0.8005, 0.6667, 0.7305],\n",
       "          [0.1641, 0.8898, 0.0598, 0.7510, 0.0638, 0.8829, 0.2036, 0.1109,\n",
       "           0.7502, 0.9433, 0.4636, 0.7093, 0.9575, 0.0937, 0.7033, 0.6151,\n",
       "           0.2155, 0.7969, 0.9454, 0.8845, 0.1407, 0.9421, 0.9206, 0.6901,\n",
       "           0.4314, 0.8847, 0.1760, 0.1962],\n",
       "          [0.7750, 0.8335, 0.4495, 0.9598, 0.7633, 0.7446, 0.9054, 0.9922,\n",
       "           0.8497, 0.9074, 0.5471, 0.8919, 0.7687, 0.2541, 0.7794, 0.5349,\n",
       "           0.3274, 0.8751, 0.6308, 0.8896, 0.6078, 0.6493, 0.8002, 0.3753,\n",
       "           0.8107, 0.2416, 0.4292, 0.5459],\n",
       "          [0.8456, 0.7204, 0.9824, 0.2315, 0.4605, 0.4583, 0.9075, 0.9720,\n",
       "           0.6262, 0.0959, 0.1373, 0.5918, 0.0595, 0.3256, 0.1251, 0.7564,\n",
       "           0.4314, 0.1085, 0.8267, 0.0567, 0.4511, 0.9814, 0.7506, 0.0668,\n",
       "           0.5539, 0.4256, 0.7226, 0.9620],\n",
       "          [0.9262, 0.4523, 0.7304, 0.0090, 0.8939, 0.7657, 0.1483, 0.3554,\n",
       "           0.3056, 0.2077, 0.7060, 0.3542, 0.7080, 0.3481, 0.8884, 0.3033,\n",
       "           0.4134, 0.3445, 0.5230, 0.3157, 0.1488, 0.0248, 0.8110, 0.5694,\n",
       "           0.1786, 0.7591, 0.5523, 0.3194],\n",
       "          [0.4672, 0.5550, 0.8582, 0.0404, 0.1119, 0.0969, 0.1074, 0.5032,\n",
       "           0.7777, 0.6307, 0.7118, 0.5602, 0.4905, 0.0470, 0.9463, 0.9832,\n",
       "           0.4971, 0.5903, 0.5926, 0.9948, 0.4990, 0.4177, 0.2278, 0.6293,\n",
       "           0.7305, 0.0780, 0.6710, 0.6249],\n",
       "          [0.7218, 0.7344, 0.3691, 0.5670, 0.1497, 0.8010, 0.0793, 0.0613,\n",
       "           0.1292, 0.2210, 0.5209, 0.8281, 0.4341, 0.8590, 0.4183, 0.9240,\n",
       "           0.8451, 0.8158, 0.7041, 0.1632, 0.9900, 0.0241, 0.1495, 0.1978,\n",
       "           0.3681, 0.7172, 0.6035, 0.0697],\n",
       "          [0.9828, 0.9693, 0.7466, 0.0102, 0.7793, 0.6427, 0.4382, 0.0811,\n",
       "           0.9236, 0.3505, 0.0956, 0.8859, 0.6951, 0.6472, 0.8232, 0.6742,\n",
       "           0.3912, 0.4131, 0.9134, 0.4836, 0.0824, 0.1545, 0.1227, 0.5478,\n",
       "           0.8656, 0.7991, 0.6323, 0.6666],\n",
       "          [0.2632, 0.9680, 0.6907, 0.1849, 0.1669, 0.0521, 0.3577, 0.8657,\n",
       "           0.5294, 0.2630, 0.6392, 0.1529, 0.6490, 0.8414, 0.7431, 0.3478,\n",
       "           0.3299, 0.7084, 0.7994, 0.3775, 0.4989, 0.4436, 0.4412, 0.0563,\n",
       "           0.0875, 0.9287, 0.2592, 0.8697],\n",
       "          [0.8102, 0.4239, 0.2581, 0.5166, 0.4133, 0.2034, 0.9860, 0.4605,\n",
       "           0.4231, 0.1613, 0.5813, 0.5693, 0.9931, 0.3456, 0.7812, 0.5243,\n",
       "           0.7654, 0.5088, 0.4138, 0.6960, 0.2773, 0.8030, 0.0812, 0.1416,\n",
       "           0.9764, 0.3116, 0.1024, 0.1345],\n",
       "          [0.9848, 0.4301, 0.0793, 0.4279, 0.2563, 0.1646, 0.2553, 0.8787,\n",
       "           0.7017, 0.7921, 0.5413, 0.2910, 0.2959, 0.1644, 0.1388, 0.0689,\n",
       "           0.5888, 0.7624, 0.9080, 0.4873, 0.4271, 0.4584, 0.6970, 0.4208,\n",
       "           0.3243, 0.3622, 0.0116, 0.1149],\n",
       "          [0.2860, 0.5484, 0.1860, 0.6915, 0.2265, 0.9838, 0.0581, 0.7788,\n",
       "           0.2404, 0.3227, 0.0331, 0.0366, 0.0268, 0.4904, 0.9605, 0.7293,\n",
       "           0.8131, 0.6120, 0.3068, 0.3053, 0.3515, 0.0329, 0.7748, 0.3514,\n",
       "           0.2172, 0.6241, 0.5000, 0.7719],\n",
       "          [0.1726, 0.9967, 0.3010, 0.6889, 0.9552, 0.4713, 0.0606, 0.0162,\n",
       "           0.9918, 0.0319, 0.3145, 0.8410, 0.1111, 0.9673, 0.5486, 0.6554,\n",
       "           0.5785, 0.5550, 0.7806, 0.0668, 0.6081, 0.2737, 0.9732, 0.9140,\n",
       "           0.3036, 0.7780, 0.4149, 0.7638],\n",
       "          [0.3586, 0.2074, 0.7110, 0.7476, 0.9502, 0.6585, 0.2769, 0.6277,\n",
       "           0.5301, 0.9350, 0.7051, 0.9265, 0.5371, 0.1210, 0.1799, 0.9515,\n",
       "           0.9478, 0.6506, 0.1432, 0.8654, 0.7074, 0.1055, 0.6454, 0.9819,\n",
       "           0.1698, 0.5380, 0.6429, 0.3200]]]])"
      ]
     },
     "execution_count": 36,
     "metadata": {},
     "output_type": "execute_result"
    }
   ],
   "source": [
    "dummy_x = torch.rand([1,1,28, 28])\n",
    "print(dummy_x.shape)\n",
    "dummy_x"
   ]
  },
  {
   "cell_type": "code",
   "execution_count": 37,
   "metadata": {},
   "outputs": [
    {
     "data": {
      "text/plain": [
       "tensor([[-0.1680,  0.2322,  0.2701,  0.0274,  0.6386,  0.3092,  0.3212,  0.2810,\n",
       "         -0.1581, -0.1608]], grad_fn=<AddmmBackward0>)"
      ]
     },
     "execution_count": 37,
     "metadata": {},
     "output_type": "execute_result"
    }
   ],
   "source": [
    "model_0(dummy_x)"
   ]
  },
  {
   "cell_type": "code",
   "execution_count": 38,
   "metadata": {},
   "outputs": [
    {
     "data": {
      "text/plain": [
       "OrderedDict([('layer_stack.1.weight',\n",
       "              tensor([[ 0.0273,  0.0296, -0.0084,  ..., -0.0142,  0.0093,  0.0135],\n",
       "                      [-0.0188, -0.0354,  0.0187,  ..., -0.0106, -0.0001,  0.0115],\n",
       "                      [-0.0008,  0.0017,  0.0045,  ..., -0.0127, -0.0188,  0.0059],\n",
       "                      ...,\n",
       "                      [-0.0116,  0.0273, -0.0344,  ...,  0.0176,  0.0283, -0.0011],\n",
       "                      [-0.0230,  0.0257,  0.0291,  ..., -0.0187, -0.0087,  0.0001],\n",
       "                      [ 0.0176, -0.0147,  0.0053,  ..., -0.0336, -0.0221,  0.0205]])),\n",
       "             ('layer_stack.1.bias',\n",
       "              tensor([-0.0093,  0.0283, -0.0033,  0.0255,  0.0017,  0.0037, -0.0302, -0.0123,\n",
       "                       0.0018,  0.0163])),\n",
       "             ('layer_stack.2.weight',\n",
       "              tensor([[ 0.0614, -0.0687,  0.0021,  0.2718,  0.2109,  0.1079, -0.2279, -0.1063,\n",
       "                        0.2019,  0.2847],\n",
       "                      [-0.1495,  0.1344, -0.0740,  0.2006, -0.0475, -0.2514, -0.3130, -0.0118,\n",
       "                        0.0932, -0.1864],\n",
       "                      [ 0.2488,  0.1500,  0.1907,  0.1457, -0.3050, -0.0580,  0.1643,  0.1565,\n",
       "                       -0.2877, -0.1792],\n",
       "                      [ 0.2305, -0.2618,  0.2397, -0.0610,  0.0232,  0.1542,  0.0851, -0.2027,\n",
       "                        0.1030, -0.2715],\n",
       "                      [-0.1596, -0.0555, -0.0633,  0.2302, -0.1726,  0.2654,  0.1473,  0.1029,\n",
       "                        0.2252, -0.2160],\n",
       "                      [-0.2725,  0.0118,  0.1559,  0.1596,  0.0132,  0.3024,  0.1124,  0.1366,\n",
       "                       -0.1533,  0.0965],\n",
       "                      [-0.1184, -0.2555, -0.2057, -0.1909, -0.0477, -0.1324,  0.2905,  0.1307,\n",
       "                       -0.2629,  0.0133],\n",
       "                      [ 0.2727, -0.0127,  0.0513,  0.0863, -0.1043, -0.2047, -0.1185, -0.0825,\n",
       "                        0.2488, -0.2571],\n",
       "                      [ 0.0425, -0.1209, -0.0336, -0.0281, -0.1227,  0.0730,  0.0747, -0.1816,\n",
       "                        0.1943,  0.2853],\n",
       "                      [-0.1310,  0.0645, -0.1171,  0.2168, -0.0245, -0.2820,  0.0736,  0.2621,\n",
       "                        0.0012, -0.0810]])),\n",
       "             ('layer_stack.2.bias',\n",
       "              tensor([-0.0087,  0.1791,  0.2712, -0.0791,  0.1685,  0.1762,  0.2825,  0.2266,\n",
       "                      -0.2612, -0.2613]))])"
      ]
     },
     "execution_count": 38,
     "metadata": {},
     "output_type": "execute_result"
    }
   ],
   "source": [
    "model_0.state_dict()"
   ]
  },
  {
   "cell_type": "markdown",
   "metadata": {},
   "source": [
    "### 3.1 Setup loss, optimizer and evaluation metrics\n",
    "\n",
    "* loss function : `nn.CrossEntropyLoss()`\n",
    "* optimizer - our optimizer `torch.optim.SGD`\n",
    "* Evaluate metric: for classification let's use accuracy"
   ]
  },
  {
   "cell_type": "code",
   "execution_count": 42,
   "metadata": {},
   "outputs": [],
   "source": [
    "# Import accuracy metric\n",
    "\n",
    "from helper_functions import accuracy_fn\n",
    "\n",
    "# Setup loss function\n",
    "\n",
    "loss_fn = nn.CrossEntropyLoss()\n",
    "\n",
    "# Setup optimizer\n",
    "\n",
    "optimizer = torch.optim.SGD(params=model_0.parameters(),\n",
    "                            lr=0.1)"
   ]
  },
  {
   "cell_type": "markdown",
   "metadata": {},
   "source": [
    "### 3.2 Creating a function to time our experiments \n",
    "\n",
    "Machine learning is very experimental.\n",
    "\n",
    "Two main things you'll often want to track:\n",
    "* Model's performance\n",
    "* How fast it runs"
   ]
  },
  {
   "cell_type": "code",
   "execution_count": 44,
   "metadata": {},
   "outputs": [],
   "source": [
    "from timeit import default_timer as timer \n",
    "def print_train_time(start:float,\n",
    "                     end:float,\n",
    "                     device: torch.device = None):\n",
    "    \"\"\"Print difference betweem start and end time.\"\"\"\n",
    "    total_time = end-start\n",
    "    print(f\"Train time on {device}: {total_time:.3f} seconds\")\n",
    "    return total_time"
   ]
  },
  {
   "cell_type": "code",
   "execution_count": 48,
   "metadata": {},
   "outputs": [
    {
     "name": "stdout",
     "output_type": "stream",
     "text": [
      "Train time on cpu: 0.000 seconds\n"
     ]
    },
    {
     "data": {
      "text/plain": [
       "2.989999484270811e-05"
      ]
     },
     "execution_count": 48,
     "metadata": {},
     "output_type": "execute_result"
    }
   ],
   "source": [
    "start_time = timer()\n",
    "# some code ...\n",
    "end_time = timer()\n",
    "print_train_time(start=start_time, end=end_time, device=\"cpu\")"
   ]
  },
  {
   "cell_type": "markdown",
   "metadata": {},
   "source": [
    "### 3.3 Creating a training loop and training a model on batches of data\n",
    "\n",
    "1. Loop through epochs.\n",
    "2. Loop through training batches, perform training steps, calculate the train loss per batch\n",
    "3. Loop through test batches, perform testing steps, calculate the test loss per batch\n",
    "4. Print out what's happening\n",
    "5. Time it all "
   ]
  },
  {
   "cell_type": "code",
   "execution_count": 53,
   "metadata": {},
   "outputs": [
    {
     "data": {
      "application/vnd.jupyter.widget-view+json": {
       "model_id": "798cba1286824b03a3cda8fe874f29ed",
       "version_major": 2,
       "version_minor": 0
      },
      "text/plain": [
       "  0%|          | 0/3 [00:00<?, ?it/s]"
      ]
     },
     "metadata": {},
     "output_type": "display_data"
    },
    {
     "name": "stdout",
     "output_type": "stream",
     "text": [
      "Epoch: 0\n",
      "------\n",
      "Looked at 0/ 60000 samples.\n",
      "Looked at 12800/ 60000 samples.\n",
      "Looked at 25600/ 60000 samples.\n",
      "Looked at 38400/ 60000 samples.\n",
      "Looked at 51200/ 60000 samples.\n",
      "\n",
      "Train loss: 0.5904 | Test loss: 0.5095 | Test accuracy: 82.0387\n",
      "Epoch: 1\n",
      "------\n",
      "Looked at 0/ 60000 samples.\n",
      "Looked at 12800/ 60000 samples.\n",
      "Looked at 25600/ 60000 samples.\n",
      "Looked at 38400/ 60000 samples.\n",
      "Looked at 51200/ 60000 samples.\n",
      "\n",
      "Train loss: 0.4763 | Test loss: 0.4799 | Test accuracy: 83.1969\n",
      "Epoch: 2\n",
      "------\n",
      "Looked at 0/ 60000 samples.\n",
      "Looked at 12800/ 60000 samples.\n",
      "Looked at 25600/ 60000 samples.\n",
      "Looked at 38400/ 60000 samples.\n",
      "Looked at 51200/ 60000 samples.\n",
      "\n",
      "Train loss: 0.4550 | Test loss: 0.4766 | Test accuracy: 83.4265\n",
      "Train time on cpu: 20.656 seconds\n"
     ]
    }
   ],
   "source": [
    "from tqdm.auto import tqdm\n",
    "\n",
    "# set the seed and start the timer\n",
    "torch.manual_seed(42)\n",
    "train_time_start_on_cpu = timer()\n",
    "# Set the number of epochs (we'll keep this small for faster training time)\n",
    "\n",
    "epochs = 3\n",
    "\n",
    "# create training and test loop\n",
    "for epoch in tqdm(range(epochs)):\n",
    "    print(f\"Epoch: {epoch}\\n------\")\n",
    "\n",
    "    ### Training\n",
    "    train_loss = 0\n",
    "    # Add a loop to loop through the training batches \n",
    "    for batch, (X, y) in enumerate(train_dataloader):\n",
    "        model_0.train()\n",
    "\n",
    "        # 1. Forward pass\n",
    "        y_pred =  model_0(X)\n",
    "\n",
    "        # 2. Calculate loss (per batch)\n",
    "        loss = loss_fn(y_pred, y)\n",
    "        train_loss += loss # accumulate train loss\n",
    "\n",
    "        # 3. Optimizer zero glad\n",
    "        optimizer.zero_grad()\n",
    "\n",
    "        # 4. Loss backward\n",
    "        loss.backward()\n",
    "\n",
    "        # 5. Optimizer step\n",
    "        optimizer.step()\n",
    "\n",
    "        if batch % 400 == 0:\n",
    "            print(f\"Looked at {batch * len(X)}/ {len(train_dataloader.dataset)} samples.\")\n",
    "\n",
    "    # Divide total train loss by lenght of dataloader as the accumulated loss is very high, we need an average instead\n",
    "    train_loss /= len(train_dataloader)\n",
    "\n",
    "    # Testing\n",
    "\n",
    "    test_loss, test_acc = 0, 0\n",
    "    model_0.eval()\n",
    "    with torch.inference_mode():\n",
    "        for X_test, y_test in test_dataloader:\n",
    "            # 1. forward pass\n",
    "            test_pred = model_0(X_test)\n",
    "\n",
    "            # 2. test loss\n",
    "            test_loss += loss_fn(test_pred, y_test)\n",
    "\n",
    "            # 3. test accuracy\n",
    "            test_acc += accuracy_fn(y_true=y_test, y_pred=test_pred.argmax(dim=1))\n",
    "        \n",
    "        # Calculate the test loss average per batch\n",
    "        test_loss /= len(test_dataloader)\n",
    "\n",
    "        # Calculate the accuracy per batch\n",
    "        test_acc /= len(test_dataloader)\n",
    "    \n",
    "    # Print out what's happening \n",
    "\n",
    "    print(f\"\\nTrain loss: {train_loss:.4f} | Test loss: {test_loss:.4f} | Test accuracy: {test_acc:.4f}\")\n",
    "\n",
    "# Calculate training time\n",
    "train_time_end_on_cpu = timer()\n",
    "tota_train_time_model_0 = print_train_time(start=train_time_start_on_cpu,\n",
    "                                           end=train_time_end_on_cpu,\n",
    "                                           device=str(next(model_0.parameters()).device))\n",
    "\n"
   ]
  },
  {
   "cell_type": "code",
   "execution_count": 52,
   "metadata": {},
   "outputs": [
    {
     "data": {
      "text/plain": [
       "'cpu'"
      ]
     },
     "execution_count": 52,
     "metadata": {},
     "output_type": "execute_result"
    }
   ],
   "source": []
  },
  {
   "cell_type": "code",
   "execution_count": null,
   "metadata": {},
   "outputs": [],
   "source": []
  },
  {
   "cell_type": "code",
   "execution_count": null,
   "metadata": {},
   "outputs": [],
   "source": []
  },
  {
   "cell_type": "code",
   "execution_count": null,
   "metadata": {},
   "outputs": [],
   "source": []
  }
 ],
 "metadata": {
  "kernelspec": {
   "display_name": "Python 3",
   "language": "python",
   "name": "python3"
  },
  "language_info": {
   "codemirror_mode": {
    "name": "ipython",
    "version": 3
   },
   "file_extension": ".py",
   "mimetype": "text/x-python",
   "name": "python",
   "nbconvert_exporter": "python",
   "pygments_lexer": "ipython3",
   "version": "3.12.2"
  }
 },
 "nbformat": 4,
 "nbformat_minor": 2
}
